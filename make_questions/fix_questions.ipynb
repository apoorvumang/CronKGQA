{
 "cells": [
  {
   "cell_type": "code",
   "execution_count": 1,
   "id": "ca251859",
   "metadata": {},
   "outputs": [],
   "source": [
    "from tqdm import tqdm\n",
    "import pickle"
   ]
  },
  {
   "cell_type": "code",
   "execution_count": 48,
   "id": "alert-circumstances",
   "metadata": {},
   "outputs": [],
   "source": [
    "split = 'train'\n",
    "fname = '../data/wikidata_big/questions/{}.pickle'.format(split)\n",
    "data = pickle.load(open(fname, 'rb'))"
   ]
  },
  {
   "cell_type": "code",
   "execution_count": 49,
   "id": "accompanied-recovery",
   "metadata": {},
   "outputs": [
    {
     "data": {
      "text/plain": [
       "149124"
      ]
     },
     "execution_count": 49,
     "metadata": {},
     "output_type": "execute_result"
    }
   ],
   "source": [
    "filter_types = ['first_last', 'before_after']\n",
    "filtered_data = []\n",
    "for d in data:\n",
    "    if d['type'] in filter_types:\n",
    "        filtered_data.append(d)\n",
    "len(filtered_data)"
   ]
  },
  {
   "cell_type": "code",
   "execution_count": 43,
   "id": "super-framework",
   "metadata": {},
   "outputs": [],
   "source": [
    "# get question template types\n",
    "# to map question template -> function\n",
    "\n",
    "import csv\n",
    "fname = '/scratche/home/apoorv/parabank_rewriter/fresh2/improved-ParaBank-rewriter-0.1/paraphrases.csv'\n",
    "reader = csv.DictReader(open(fname, 'r'))\n",
    "paraphrases = []\n",
    "for item in reader:\n",
    "    modified_template = item['paraphrase']\n",
    "    fill_words = item['fill_words'].split(', ')\n",
    "    fill_words_dict = {x.split('=')[0]: x.split('=')[1].strip(\"'\") for x in fill_words}\n",
    "    for key, value in fill_words_dict.items():\n",
    "        modified_template = modified_template.replace(value, '{' + key + '}')\n",
    "    item['modified_template'] = modified_template\n",
    "    paraphrases.append(item)"
   ]
  },
  {
   "cell_type": "code",
   "execution_count": 44,
   "id": "bulgarian-shelf",
   "metadata": {},
   "outputs": [
    {
     "data": {
      "text/plain": [
       "200"
      ]
     },
     "execution_count": 44,
     "metadata": {},
     "output_type": "execute_result"
    }
   ],
   "source": [
    "len(paraphrases)"
   ]
  },
  {
   "cell_type": "code",
   "execution_count": 46,
   "id": "ahead-marks",
   "metadata": {},
   "outputs": [
    {
     "data": {
      "text/plain": [
       "OrderedDict([('id', '2'),\n",
       "             ('question', 'Who was the POTUS before Obama'),\n",
       "             ('paraphrase', 'Who held the position of POTUS before Obama'),\n",
       "             ('template', 'Who was the {tail} {type} {head}'),\n",
       "             ('fill_words', \"head='Obama', tail='POTUS', type='before'\"),\n",
       "             ('required_words', 'Obama, POTUS'),\n",
       "             ('modified_template',\n",
       "              'Who held the position of {tail} {type} {head}')])"
      ]
     },
     "execution_count": 46,
     "metadata": {},
     "output_type": "execute_result"
    }
   ],
   "source": [
    "paraphrases[1]"
   ]
  },
  {
   "cell_type": "code",
   "execution_count": 31,
   "id": "adult-enlargement",
   "metadata": {},
   "outputs": [
    {
     "data": {
      "text/plain": [
       "\"head='Messi', tail='Barcelona'\""
      ]
     },
     "execution_count": 31,
     "metadata": {},
     "output_type": "execute_result"
    }
   ],
   "source": [
    "paraphrases[0]['fill_words']"
   ]
  },
  {
   "cell_type": "code",
   "execution_count": 26,
   "id": "greatest-cleaner",
   "metadata": {},
   "outputs": [
    {
     "data": {
      "text/plain": [
       "{'question': 'Q7436525 played their first game for Q19595 in which year',\n",
       " 'answers': {2000},\n",
       " 'answer_type': 'time',\n",
       " 'template': '{head} played their first game for {tail} in which year',\n",
       " 'entities': {'Q19595', 'Q7436525'},\n",
       " 'times': set(),\n",
       " 'relations': {'P54'},\n",
       " 'type': 'first_last',\n",
       " 'annotation': {'head': 'Q7436525', 'tail': 'Q19595', 'adj': 'first'},\n",
       " 'uniq_id': 5990,\n",
       " 'paraphrases': ['Scott Houghton played their first game for Leyton Orient in which year']}"
      ]
     },
     "execution_count": 26,
     "metadata": {},
     "output_type": "execute_result"
    }
   ],
   "source": [
    "data[0]"
   ]
  },
  {
   "cell_type": "code",
   "execution_count": 35,
   "id": "protecting-celtic",
   "metadata": {},
   "outputs": [
    {
     "data": {
      "text/plain": [
       "\"'fsdafsdf'\""
      ]
     },
     "execution_count": 35,
     "metadata": {},
     "output_type": "execute_result"
    }
   ],
   "source": [
    "a = \"'fsdafsdf'\"\n",
    "a.strip(\"\")"
   ]
  },
  {
   "cell_type": "code",
   "execution_count": null,
   "id": "floppy-assistant",
   "metadata": {},
   "outputs": [],
   "source": []
  }
 ],
 "metadata": {
  "kernelspec": {
   "display_name": "Python 3",
   "language": "python",
   "name": "python3"
  },
  "language_info": {
   "codemirror_mode": {
    "name": "ipython",
    "version": 3
   },
   "file_extension": ".py",
   "mimetype": "text/x-python",
   "name": "python",
   "nbconvert_exporter": "python",
   "pygments_lexer": "ipython3",
   "version": "3.7.3"
  }
 },
 "nbformat": 4,
 "nbformat_minor": 5
}
