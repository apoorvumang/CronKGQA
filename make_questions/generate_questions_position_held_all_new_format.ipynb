{
 "cells": [
  {
   "cell_type": "code",
   "execution_count": 4,
   "metadata": {},
   "outputs": [],
   "source": [
    "from tqdm import tqdm\n",
    "import pickle\n",
    "\n",
    "# facts = pickle.load(open('wikidata_text_facts.txt', 'rb'))\n",
    "\n",
    "# facts = pickle.load(open('text_facts_v2.pkl', 'rb'))\n",
    "facts = readFactsFromFile('../data/temporal_big/full.txt')"
   ]
  },
  {
   "cell_type": "code",
   "execution_count": 3,
   "metadata": {},
   "outputs": [],
   "source": [
    "def getEntsFromFacts(facts):\n",
    "    e = set()\n",
    "    for f in facts:\n",
    "        e.add(f[0])\n",
    "        e.add(f[2])\n",
    "    return e\n",
    "\n",
    "def readFile(filename):\n",
    "    f = open(filename, 'r')\n",
    "    lines = []\n",
    "    for line in f:\n",
    "        line = line.strip()\n",
    "        if line != '':\n",
    "            lines.append(line)\n",
    "    f.close()\n",
    "    return lines\n",
    "\n",
    "def getRelsFromFacts(facts):\n",
    "    r = set()\n",
    "    for f in facts:\n",
    "        r.add(f[1])\n",
    "    return r\n",
    "\n",
    "def filterByRelation(facts, rel, max=50):\n",
    "    filtered = []\n",
    "    count = 0\n",
    "    for f in facts:\n",
    "        if f[1] == rel:\n",
    "            filtered.append(f)\n",
    "            count += 1\n",
    "        if max < 0:\n",
    "            continue\n",
    "        if count >= max:\n",
    "            break\n",
    "    return filtered\n",
    "\n",
    "def filterByHead(facts, head, max=50):\n",
    "    filtered = []\n",
    "    count = 0\n",
    "    for f in facts:\n",
    "        if f[0] == head:\n",
    "            filtered.append(f)\n",
    "            count += 1\n",
    "        if max < 0:\n",
    "            continue\n",
    "        if count >= max:\n",
    "            break\n",
    "    return filtered\n",
    "\n",
    "def filterByTail(facts, tail, max=50):\n",
    "    filtered = []\n",
    "    count = 0\n",
    "    for f in facts:\n",
    "        if f[2] == tail:\n",
    "            filtered.append(f)\n",
    "            count += 1\n",
    "        if max < 0:\n",
    "            continue\n",
    "        if count >= max:\n",
    "            break\n",
    "    return filtered\n",
    "\n",
    "def filterByEntity(facts, ent, max=50):\n",
    "    filtered = []\n",
    "    count = 0\n",
    "    for f in facts:\n",
    "        if f[0] == ent or f[2] == ent:\n",
    "            filtered.append(f)\n",
    "            count += 1\n",
    "        if max < 0:\n",
    "            continue\n",
    "        if count >= max:\n",
    "            break\n",
    "    return filtered\n",
    "\n",
    "def printFact(f):\n",
    "    s = \"{head}, {rel}, {tail}, {t1}, {t2}\"\n",
    "    head=f[0]\n",
    "    rel = f[1]\n",
    "    tail = f[2]\n",
    "    t1 = f[3][1:5]\n",
    "    t2 = f[4][1:5]\n",
    "    print(s.format(head=head, rel=rel, tail=tail, t1=t1, t2=t2))\n",
    "    \n",
    "def printFacts(facts):\n",
    "    for f in facts:\n",
    "        printFact(f)\n",
    "        \n",
    "def isEntityInFact(e, fact):\n",
    "    if fact[0] == e or fact[2] == e:\n",
    "        return True\n",
    "    else:\n",
    "        return False\n",
    "    \n",
    "        \n",
    "def writeFactsToFile(filename, facts):\n",
    "    f = open(filename, 'w')\n",
    "    for fact in facts:\n",
    "        line = '\\t'.join(fact)\n",
    "        f.write(line + '\\n')\n",
    "    f.close()\n",
    "    \n",
    "def readFactsFromFile(filename):\n",
    "    f = open(filename, 'r')\n",
    "    facts = []\n",
    "    for line in f:\n",
    "        fact = line.strip().split('\\t')\n",
    "        facts.append(fact)\n",
    "    f.close()\n",
    "    return facts\n",
    "\n",
    "def createWikidataIdentifierToTextDict(entities, relations):\n",
    "    ent_rel_both = {}\n",
    "    ent_rel_both['Q'] = entities\n",
    "    ent_rel_both['P'] = relations\n",
    "    wikidata_id2name = {}\n",
    "    count = 0\n",
    "    for prefix, lines in ent_rel_both.items():\n",
    "        for line in lines:\n",
    "            try:\n",
    "                line = line.split('\\t')\n",
    "                id = prefix + line[1] #different from one above\n",
    "                name = line[2]\n",
    "                wikidata_id2name[id] = name\n",
    "            except:\n",
    "                id = prefix + line[1]\n",
    "                name = ''\n",
    "                wikidata_id2name[id] = name\n",
    "    return wikidata_id2name\n",
    "\n",
    "def convertFactToText(fact, wikidata_identifier_to_text):\n",
    "    f = fact.copy()\n",
    "    for i in range(3):\n",
    "        f[i] = wikidata_identifier_to_text[fact[i]]\n",
    "    return f"
   ]
  },
  {
   "cell_type": "code",
   "execution_count": 5,
   "metadata": {},
   "outputs": [
    {
     "data": {
      "text/plain": [
       "['Q25559009', 'P39', 'Q41582555', '1847', '1852']"
      ]
     },
     "execution_count": 5,
     "metadata": {},
     "output_type": "execute_result"
    }
   ],
   "source": [
    "facts[0]"
   ]
  },
  {
   "cell_type": "code",
   "execution_count": 6,
   "metadata": {},
   "outputs": [],
   "source": [
    "# facts = readFactsFromFile('data/temporal_small/full.txt')\n",
    "facts = readFactsFromFile('../data/temporal_big/full.txt')"
   ]
  },
  {
   "cell_type": "code",
   "execution_count": 7,
   "metadata": {},
   "outputs": [],
   "source": [
    "r = getRelsFromFacts(facts)\n",
    "e = getEntsFromFacts(facts)"
   ]
  },
  {
   "cell_type": "code",
   "execution_count": 8,
   "metadata": {},
   "outputs": [
    {
     "data": {
      "text/plain": [
       "328635"
      ]
     },
     "execution_count": 8,
     "metadata": {},
     "output_type": "execute_result"
    }
   ],
   "source": [
    "len(facts)"
   ]
  },
  {
   "cell_type": "code",
   "execution_count": 9,
   "metadata": {},
   "outputs": [
    {
     "data": {
      "text/plain": [
       "125726"
      ]
     },
     "execution_count": 9,
     "metadata": {},
     "output_type": "execute_result"
    }
   ],
   "source": [
    "len(e)"
   ]
  },
  {
   "cell_type": "code",
   "execution_count": 10,
   "metadata": {},
   "outputs": [],
   "source": [
    "e_count_dict = {}\n",
    "r_count_dict = {}\n",
    "head_count = {}\n",
    "tail_count = {}\n",
    "for ent in e:\n",
    "    e_count_dict[ent] = 0\n",
    "    head_count[ent] = 0\n",
    "    tail_count[ent] = 0\n",
    "for rel in r:\n",
    "    r_count_dict[rel] = 0\n",
    "for f in facts:\n",
    "    e1 = f[0]\n",
    "    e2 = f[2]\n",
    "    rel = f[1]\n",
    "    e_count_dict[e1] += 1\n",
    "    e_count_dict[e2] += 1\n",
    "    r_count_dict[rel] += 1\n",
    "    head_count[e1] += 1\n",
    "    tail_count[e2] += 1"
   ]
  },
  {
   "cell_type": "code",
   "execution_count": 11,
   "metadata": {},
   "outputs": [],
   "source": [
    "x = r_count_dict\n",
    "sorted_r = {k: v for k, v in sorted(x.items(), key=lambda item: item[1], reverse=True)}\n",
    "\n",
    "x = e_count_dict\n",
    "sorted_e = {k: v for k, v in sorted(x.items(), key=lambda item: item[1], reverse=True)}\n",
    "\n",
    "x = head_count\n",
    "sorted_head = {k: v for k, v in sorted(x.items(), key=lambda item: item[1], reverse=True)}\n",
    "\n",
    "x = tail_count\n",
    "sorted_tail = {k: v for k, v in sorted(x.items(), key=lambda item: item[1], reverse=True)}"
   ]
  },
  {
   "cell_type": "code",
   "execution_count": 12,
   "metadata": {},
   "outputs": [
    {
     "name": "stdout",
     "output_type": "stream",
     "text": [
      "P39 | 78380 facts 23.85 %\n",
      "P166 | 75474 facts 22.97 %\n",
      "P54 | 67007 facts 20.39 %\n",
      "P1411 | 21983 facts 6.69 %\n",
      "P1346 | 17841 facts 5.43 %\n",
      "P793 | 9463 facts 2.88 %\n",
      "P26 | 6034 facts 1.84 %\n",
      "P108 | 5448 facts 1.66 %\n",
      "P937 | 4795 facts 1.46 %\n",
      "P69 | 4424 facts 1.35 %\n",
      "P512 | 3821 facts 1.16 %\n",
      "P17 | 2604 facts 0.79 %\n",
      "P131 | 2327 facts 0.71 %\n",
      "P106 | 1669 facts 0.51 %\n",
      "P463 | 1605 facts 0.49 %\n",
      "P551 | 1407 facts 0.43 %\n",
      "P150 | 1355 facts 0.41 %\n",
      "P6 | 1310 facts 0.4 %\n",
      "P410 | 1306 facts 0.4 %\n",
      "P102 | 1239 facts 0.38 %\n",
      "P488 | 1154 facts 0.35 %\n",
      "P241 | 1112 facts 0.34 %\n",
      "P185 | 1045 facts 0.32 %\n",
      "P27 | 872 facts 0.27 %\n",
      "P527 | 867 facts 0.26 %\n",
      "P286 | 866 facts 0.26 %\n",
      "P31 | 676 facts 0.21 %\n",
      "P5008 | 654 facts 0.2 %\n",
      "P127 | 596 facts 0.18 %\n",
      "P1308 | 562 facts 0.17 %\n",
      "P184 | 544 facts 0.17 %\n",
      "P451 | 519 facts 0.16 %\n",
      "P1037 | 490 facts 0.15 %\n",
      "P361 | 467 facts 0.14 %\n",
      "P2079 | 466 facts 0.14 %\n",
      "P195 | 382 facts 0.12 %\n",
      "P35 | 377 facts 0.11 %\n",
      "P1075 | 349 facts 0.11 %\n",
      "P607 | 335 facts 0.1 %\n",
      "P840 | 334 facts 0.1 %\n",
      "P598 | 280 facts 0.09 %\n",
      "P276 | 265 facts 0.08 %\n",
      "P1416 | 261 facts 0.08 %\n",
      "P1344 | 260 facts 0.08 %\n",
      "P1891 | 255 facts 0.08 %\n",
      "P366 | 251 facts 0.08 %\n",
      "P4791 | 244 facts 0.07 %\n",
      "P5096 | 205 facts 0.06 %\n",
      "P1029 | 203 facts 0.06 %\n",
      "P119 | 198 facts 0.06 %\n",
      "P137 | 174 facts 0.05 %\n",
      "P945 | 173 facts 0.05 %\n",
      "P411 | 168 facts 0.05 %\n",
      "P608 | 165 facts 0.05 %\n",
      "P97 | 158 facts 0.05 %\n",
      "P118 | 155 facts 0.05 %\n",
      "P36 | 149 facts 0.05 %\n",
      "P1399 | 132 facts 0.04 %\n",
      "P710 | 132 facts 0.04 %\n",
      "P47 | 110 facts 0.03 %\n",
      "P1376 | 109 facts 0.03 %\n",
      "P138 | 106 facts 0.03 %\n",
      "P1454 | 105 facts 0.03 %\n",
      "P190 | 94 facts 0.03 %\n",
      "P159 | 86 facts 0.03 %\n",
      "P6087 | 83 facts 0.03 %\n",
      "P175 | 78 facts 0.02 %\n",
      "P1347 | 77 facts 0.02 %\n",
      "P3975 | 75 facts 0.02 %\n",
      "P647 | 70 facts 0.02 %\n",
      "P2632 | 69 facts 0.02 %\n",
      "P5021 | 65 facts 0.02 %\n",
      "P1050 | 64 facts 0.02 %\n",
      "P2522 | 61 facts 0.02 %\n",
      "P172 | 59 facts 0.02 %\n",
      "P264 | 56 facts 0.02 %\n",
      "P1066 | 56 facts 0.02 %\n",
      "P1365 | 50 facts 0.02 %\n",
      "P1366 | 49 facts 0.01 %\n",
      "P449 | 44 facts 0.01 %\n",
      "P169 | 44 facts 0.01 %\n",
      "P803 | 43 facts 0.01 %\n",
      "P504 | 41 facts 0.01 %\n",
      "P2936 | 37 facts 0.01 %\n",
      "P122 | 35 facts 0.01 %\n",
      "P915 | 32 facts 0.01 %\n",
      "P101 | 30 facts 0.01 %\n",
      "P749 | 29 facts 0.01 %\n",
      "P800 | 29 facts 0.01 %\n",
      "P140 | 27 facts 0.01 %\n",
      "P156 | 27 facts 0.01 %\n",
      "P2629 | 26 facts 0.01 %\n",
      "P98 | 26 facts 0.01 %\n",
      "P371 | 25 facts 0.01 %\n",
      "P1596 | 24 facts 0.01 %\n",
      "P1327 | 21 facts 0.01 %\n",
      "P155 | 21 facts 0.01 %\n",
      "P2416 | 20 facts 0.01 %\n",
      "P466 | 18 facts 0.01 %\n",
      "P609 | 17 facts 0.01 %\n",
      "P355 | 15 facts 0.0 %\n",
      "P530 | 15 facts 0.0 %\n",
      "P1923 | 14 facts 0.0 %\n",
      "P611 | 13 facts 0.0 %\n",
      "P279 | 13 facts 0.0 %\n",
      "P802 | 12 facts 0.0 %\n",
      "P505 | 12 facts 0.0 %\n",
      "P1038 | 11 facts 0.0 %\n",
      "P734 | 11 facts 0.0 %\n",
      "P641 | 10 facts 0.0 %\n",
      "P1444 | 10 facts 0.0 %\n",
      "P1427 | 10 facts 0.0 %\n",
      "P3342 | 9 facts 0.0 %\n",
      "P421 | 9 facts 0.0 %\n",
      "P725 | 9 facts 0.0 %\n",
      "P750 | 9 facts 0.0 %\n",
      "P3320 | 9 facts 0.0 %\n",
      "P3919 | 9 facts 0.0 %\n",
      "P1532 | 8 facts 0.0 %\n",
      "P3195 | 8 facts 0.0 %\n",
      "P511 | 8 facts 0.0 %\n",
      "P115 | 7 facts 0.0 %\n",
      "P1027 | 7 facts 0.0 %\n",
      "P400 | 7 facts 0.0 %\n",
      "P178 | 7 facts 0.0 %\n",
      "P123 | 7 facts 0.0 %\n",
      "P88 | 7 facts 0.0 %\n",
      "P84 | 7 facts 0.0 %\n",
      "P634 | 7 facts 0.0 %\n",
      "P859 | 7 facts 0.0 %\n",
      "P37 | 7 facts 0.0 %\n",
      "P180 | 7 facts 0.0 %\n",
      "P57 | 6 facts 0.0 %\n",
      "P1830 | 6 facts 0.0 %\n",
      "P1657 | 6 facts 0.0 %\n",
      "P2643 | 6 facts 0.0 %\n",
      "P832 | 6 facts 0.0 %\n",
      "P1598 | 6 facts 0.0 %\n",
      "P735 | 6 facts 0.0 %\n",
      "P812 | 6 facts 0.0 %\n",
      "P170 | 5 facts 0.0 %\n",
      "P1981 | 5 facts 0.0 %\n",
      "P186 | 5 facts 0.0 %\n",
      "P4353 | 5 facts 0.0 %\n",
      "P2500 | 5 facts 0.0 %\n",
      "P40 | 5 facts 0.0 %\n",
      "P509 | 5 facts 0.0 %\n",
      "P1336 | 5 facts 0.0 %\n",
      "P726 | 5 facts 0.0 %\n",
      "P112 | 4 facts 0.0 %\n",
      "P1303 | 4 facts 0.0 %\n",
      "P740 | 4 facts 0.0 %\n",
      "P1906 | 4 facts 0.0 %\n",
      "P1001 | 4 facts 0.0 %\n",
      "P2868 | 4 facts 0.0 %\n",
      "P38 | 4 facts 0.0 %\n",
      "P706 | 4 facts 0.0 %\n",
      "P972 | 3 facts 0.0 %\n",
      "P413 | 3 facts 0.0 %\n",
      "P748 | 3 facts 0.0 %\n",
      "P2438 | 3 facts 0.0 %\n",
      "P495 | 3 facts 0.0 %\n",
      "P770 | 3 facts 0.0 %\n",
      "P162 | 3 facts 0.0 %\n",
      "P1884 | 3 facts 0.0 %\n",
      "P414 | 3 facts 0.0 %\n",
      "P61 | 3 facts 0.0 %\n",
      "P2758 | 3 facts 0.0 %\n",
      "P1035 | 2 facts 0.0 %\n",
      "P737 | 2 facts 0.0 %\n",
      "P6364 | 2 facts 0.0 %\n",
      "P86 | 2 facts 0.0 %\n",
      "P121 | 2 facts 0.0 %\n",
      "P136 | 2 facts 0.0 %\n",
      "P450 | 2 facts 0.0 %\n",
      "P176 | 2 facts 0.0 %\n",
      "P20 | 2 facts 0.0 %\n",
      "P1343 | 2 facts 0.0 %\n",
      "P19 | 2 facts 0.0 %\n",
      "P1435 | 2 facts 0.0 %\n",
      "P541 | 2 facts 0.0 %\n",
      "P2388 | 2 facts 0.0 %\n",
      "P272 | 2 facts 0.0 %\n",
      "P1196 | 2 facts 0.0 %\n",
      "P2596 | 1 facts 0.0 %\n",
      "P2348 | 1 facts 0.0 %\n",
      "P485 | 1 facts 0.0 %\n",
      "P3095 | 1 facts 0.0 %\n",
      "P2499 | 1 facts 0.0 %\n",
      "P3602 | 1 facts 0.0 %\n",
      "P3085 | 1 facts 0.0 %\n",
      "P2962 | 1 facts 0.0 %\n",
      "P5389 | 1 facts 0.0 %\n",
      "P1313 | 1 facts 0.0 %\n",
      "P1441 | 1 facts 0.0 %\n",
      "P664 | 1 facts 0.0 %\n",
      "P21 | 1 facts 0.0 %\n",
      "P1576 | 1 facts 0.0 %\n",
      "P291 | 1 facts 0.0 %\n",
      "P852 | 1 facts 0.0 %\n",
      "P3716 | 1 facts 0.0 %\n",
      "P1542 | 1 facts 0.0 %\n",
      "P1455 | 1 facts 0.0 %\n"
     ]
    }
   ],
   "source": [
    "for key, value in sorted_r.items():\n",
    "    print(key, '|', value, 'facts', round(value/len(facts)*100, 2), '%' )"
   ]
  },
  {
   "cell_type": "code",
   "execution_count": 13,
   "metadata": {},
   "outputs": [],
   "source": [
    "#rel = 'position held'\n",
    "rel = 'P39'\n",
    "sportsFacts = filterByRelation(facts, rel, -1)"
   ]
  },
  {
   "cell_type": "code",
   "execution_count": 14,
   "metadata": {},
   "outputs": [
    {
     "data": {
      "text/plain": [
       "78380"
      ]
     },
     "execution_count": 14,
     "metadata": {},
     "output_type": "execute_result"
    }
   ],
   "source": [
    "len(sportsFacts)"
   ]
  },
  {
   "cell_type": "code",
   "execution_count": 15,
   "metadata": {},
   "outputs": [
    {
     "data": {
      "text/plain": [
       "78380"
      ]
     },
     "execution_count": 15,
     "metadata": {},
     "output_type": "execute_result"
    }
   ],
   "source": [
    "# position_held = filterByRelation(facts, 'position held', -1)\n",
    "position_held = filterByRelation(facts, 'P39', -1)\n",
    "len(position_held)"
   ]
  },
  {
   "cell_type": "code",
   "execution_count": 16,
   "metadata": {},
   "outputs": [],
   "source": [
    "filtered_facts = []\n",
    "for f in position_held:\n",
    "    tail = f[2]\n",
    "    if tail != tail.lower():\n",
    "        filtered_facts.append(f)"
   ]
  },
  {
   "cell_type": "code",
   "execution_count": 17,
   "metadata": {},
   "outputs": [
    {
     "data": {
      "text/plain": [
       "78380"
      ]
     },
     "execution_count": 17,
     "metadata": {},
     "output_type": "execute_result"
    }
   ],
   "source": [
    "len(filtered_facts)"
   ]
  },
  {
   "cell_type": "code",
   "execution_count": 18,
   "metadata": {},
   "outputs": [],
   "source": [
    "def splitTimeNoNewTimeStamps(facts, timestamps):\n",
    "    # don't introduce new timestamps!\n",
    "    new_facts = []\n",
    "    for f in facts:\n",
    "        e1 = f[0]\n",
    "        r = f[1]\n",
    "        e2 = f[2]\n",
    "        t1 = int(f[3])\n",
    "        t2 = int(f[4])\n",
    "        for t in range(t1, t2+1):\n",
    "            if t in timestamps:\n",
    "                nf = [e1, r, e2, t]\n",
    "                new_facts.append(nf)\n",
    "    return new_facts\n",
    "\n",
    "def splitTime(facts):\n",
    "    # don't introduce new timestamps!\n",
    "    new_facts = []\n",
    "    for f in facts:\n",
    "        e1 = f[0]\n",
    "        r = f[1]\n",
    "        e2 = f[2]\n",
    "        t1 = int(f[3])\n",
    "        t2 = int(f[4])\n",
    "        for t in range(t1, t2+1):\n",
    "            nf = [e1, r, e2, t]\n",
    "            new_facts.append(nf)\n",
    "    return new_facts\n",
    "\n"
   ]
  },
  {
   "cell_type": "code",
   "execution_count": 19,
   "metadata": {},
   "outputs": [
    {
     "name": "stdout",
     "output_type": "stream",
     "text": [
      "1643\n"
     ]
    }
   ],
   "source": [
    "timestamps = set()\n",
    "for f in facts:\n",
    "    timestamps.add(int(f[-2]))\n",
    "    timestamps.add(int(f[-1]))\n",
    "print(len(timestamps))\n"
   ]
  },
  {
   "cell_type": "code",
   "execution_count": 20,
   "metadata": {},
   "outputs": [],
   "source": [
    "x = splitTime(filtered_facts)"
   ]
  },
  {
   "cell_type": "code",
   "execution_count": 21,
   "metadata": {},
   "outputs": [
    {
     "data": {
      "text/plain": [
       "422446"
      ]
     },
     "execution_count": 21,
     "metadata": {},
     "output_type": "execute_result"
    }
   ],
   "source": [
    "len(x)"
   ]
  },
  {
   "cell_type": "code",
   "execution_count": 22,
   "metadata": {},
   "outputs": [
    {
     "data": {
      "text/plain": [
       "78380"
      ]
     },
     "execution_count": 22,
     "metadata": {},
     "output_type": "execute_result"
    }
   ],
   "source": [
    "len(filtered_facts)"
   ]
  },
  {
   "cell_type": "code",
   "execution_count": 23,
   "metadata": {},
   "outputs": [],
   "source": [
    "sportsFactsSingle = x"
   ]
  },
  {
   "cell_type": "code",
   "execution_count": 24,
   "metadata": {},
   "outputs": [
    {
     "data": {
      "text/plain": [
       "['Q25559009', 'P39', 'Q41582555', 1847]"
      ]
     },
     "execution_count": 24,
     "metadata": {},
     "output_type": "execute_result"
    }
   ],
   "source": [
    "sportsFactsSingle[0]"
   ]
  },
  {
   "cell_type": "code",
   "execution_count": 78,
   "metadata": {},
   "outputs": [],
   "source": [
    "# simple questions, time answer\n",
    "def genTimeSimple1(facts, base_fact):\n",
    "    head = base_fact[0]\n",
    "    tail = base_fact[2]\n",
    "    template = \"When did {head} hold the position of {tail}?\"\n",
    "    answers = set()\n",
    "    for f in facts:\n",
    "        # (s, r, o, T)\n",
    "        if f[0] == head and f[2] == tail:\n",
    "            answers.add(f[3])\n",
    "    question = template.format(head=head, tail=tail)\n",
    "    answer_type = 'time'\n",
    "    entities = set([head, tail])\n",
    "    times = set()\n",
    "    relations = set(['P39'])\n",
    "    output = {'question': question,\n",
    "             'answers': answers,\n",
    "             'answer_type': answer_type,\n",
    "             'template': template,\n",
    "             'entities': entities,\n",
    "             'times': times,\n",
    "             'relations': relations}\n",
    "    return output\n",
    "\n",
    "# complex questions, time answer\n",
    "def genTimeComplex1(facts, head, tail, first=True):\n",
    "    template = \"When was the {adj} time that {head} was the {tail}?\"\n",
    "    minTime = 9999\n",
    "    maxTime = -1\n",
    "    answers = set()\n",
    "    for f in facts:\n",
    "        if f[0] == head and f[2] == tail:\n",
    "            time = f[3]\n",
    "            if time < minTime:\n",
    "                minTime = time\n",
    "            if time > maxTime:\n",
    "                maxTime = time\n",
    "    if first==True:\n",
    "        question = template.format(head=head, tail=tail, adj='first')\n",
    "        answers.add(minTime)\n",
    "    else:\n",
    "        question = template.format(head=head, tail=tail, adj='last')\n",
    "        answers.add(maxTime)\n",
    "    answer_type = 'time'\n",
    "    entities = set([head, tail])\n",
    "    times = set()\n",
    "    relations = set(['P39'])\n",
    "    output = {'question': question,\n",
    "             'answers': answers,\n",
    "             'answer_type': answer_type,\n",
    "             'template': template,\n",
    "             'entities': entities,\n",
    "             'times': times,\n",
    "             'relations': relations}\n",
    "    return output\n",
    "        \n",
    "def genTimeComplex2(facts, tail, first=True):\n",
    "    template = \"When did the {adj} {tail} come to power?\" # ERROR- semantically correct only for president, etc\n",
    "    minTime = 9999\n",
    "    maxTime = -1\n",
    "    answers = set()\n",
    "    for f in facts:\n",
    "        if f[2] == tail:\n",
    "            time = f[3]\n",
    "            if time < minTime:\n",
    "                minTime = time\n",
    "            if time > maxTime:\n",
    "                maxTime = time\n",
    "    if first==True:\n",
    "        question = template.format(tail=tail, adj='first')\n",
    "        answers.add(minTime)\n",
    "    else:\n",
    "        question = template.format(tail=tail, adj='last')\n",
    "        answers.add(maxTime)\n",
    "    answer_type = 'time'\n",
    "    entities = set([tail])\n",
    "    times = set()\n",
    "    relations = set(['P39'])\n",
    "    output = {'question': question,\n",
    "             'answers': answers,\n",
    "             'answer_type': answer_type,\n",
    "             'template': template,\n",
    "             'entities': entities,\n",
    "             'times': times,\n",
    "             'relations': relations}\n",
    "    return output\n",
    "\n",
    "# simple questions, entity answer\n",
    "def genEntitySimple1(facts, tail, time):\n",
    "    template = \"Who was the {tail} in {time}?\"\n",
    "    answers = set()\n",
    "    for f in facts:\n",
    "        if f[2] == tail and f[3] == time:\n",
    "            answers.add(f[0])\n",
    "    question = template.format(tail=tail, time=time)\n",
    "    answer_type = 'entity'\n",
    "    entities = set([tail])\n",
    "    times = set([time])\n",
    "    relations = set(['P39'])\n",
    "    output = {'question': question,\n",
    "             'answers': answers,\n",
    "             'answer_type': answer_type,\n",
    "             'template': template,\n",
    "             'entities': entities,\n",
    "             'times': times,\n",
    "             'relations': relations}\n",
    "    return output\n",
    "\n",
    "def genEntitySimple2(facts, tail, time1, time2):\n",
    "    template = \"Who was the {tail} from {time1} to {time2}?\"\n",
    "    answers = set()\n",
    "    for f in facts:\n",
    "        if f[2] == head and f[3] == time: # ERROR f[2]>=head and f[3]<=tail\n",
    "            answers.add(f[2])\n",
    "    question = template.format(head=head, time=time)\n",
    "    answer_type = 'entity'\n",
    "    entities = set([tail])\n",
    "    times = set([time1, time2])\n",
    "    relations = set(['P39'])\n",
    "    output = {'question': question,\n",
    "             'answers': answers,\n",
    "             'answer_type': answer_type,\n",
    "             'template': template,\n",
    "             'entities': entities,\n",
    "             'times': times,\n",
    "             'relations': relations}\n",
    "    return output\n",
    "\n",
    "\n",
    "# complex question, entity answer\n",
    "def genEntityComplex1(facts, tail, first=True):\n",
    "    # first/last\n",
    "    template = \"Who was the {adj} {tail}?\"\n",
    "    answers = set()\n",
    "    if first==True:\n",
    "        x = getFactWithMinimumTime(facts, head ='', tail=tail)\n",
    "        time=x[-1]\n",
    "        for f in facts:\n",
    "            if f[-1]==time and f[-2]==tail:\n",
    "                answers.add(f[0])\n",
    "        question = template.format(tail=x[2], adj='first')\n",
    "    else:\n",
    "        x = getFactWithMaximumTime(facts, head ='', tail=tail)\n",
    "        time=x[-1]\n",
    "        for f in facts:\n",
    "            if f[-1]==time and f[-2]==tail:\n",
    "                answers.add(f[0])\n",
    "        question = template.format(tail=x[2], adj='last')\n",
    "    answer_type = 'entity'\n",
    "    entities = set([tail])\n",
    "    times = set()\n",
    "    relations = set(['P39'])\n",
    "    output = {'question': question,\n",
    "             'answers': answers,\n",
    "             'answer_type': answer_type,\n",
    "             'template': template,\n",
    "             'entities': entities,\n",
    "             'times': times,\n",
    "             'relations': relations}\n",
    "    return output\n",
    "\n",
    "def getFactWithMaximumTime(facts, head = '', tail = ''):\n",
    "    maxTime = -1\n",
    "    fact = facts[0]\n",
    "    for f in facts:\n",
    "        time = f[-1]\n",
    "        if head != '':\n",
    "            if f[0] != head:\n",
    "                continue\n",
    "        if tail != '':\n",
    "            if f[2] != tail:\n",
    "                continue\n",
    "        if time > maxTime:\n",
    "            maxTime = time\n",
    "            fact = f\n",
    "    return fact\n",
    "\n",
    "def getFactWithMinimumTime(facts, head = '', tail = ''):\n",
    "    minTime = 9999\n",
    "    fact = facts[0]\n",
    "    for f in facts:\n",
    "        time = f[-1]\n",
    "        if head != '':\n",
    "            if f[0] != head:\n",
    "                continue\n",
    "        if tail != '':\n",
    "            if f[2] != tail:\n",
    "                continue\n",
    "        if time < minTime:\n",
    "            minTime = time\n",
    "            fact = f\n",
    "    return fact\n",
    "\n",
    "\n",
    "def genEntityComplex2(facts, head, tail, after=True):\n",
    "    # before/after\n",
    "    template = \"Who was the {tail} {type} {head}?\"\n",
    "    # before: find argmin(T) (head, r, tail, T)\n",
    "    # then, find argmax(T')(head, r, tail', T'), T' < T and head' != head\n",
    "    # tail' is the answer\n",
    "    if after == False:\n",
    "        base_fact = getFactWithMinimumTime(facts, head = head, tail = tail)\n",
    "        time = base_fact[-1]\n",
    "        maxTime = -1\n",
    "        for f in facts:\n",
    "            time2 = f[-1]\n",
    "            if time2 >= time:\n",
    "                continue\n",
    "            if f[0] == head:\n",
    "                continue\n",
    "            if f[2] != tail:\n",
    "                continue\n",
    "            if time2 > maxTime:\n",
    "                maxTime = time2\n",
    "        answers = set()\n",
    "        for f in facts:\n",
    "            time2 = f[-1]\n",
    "            if f[0] == head:\n",
    "                continue\n",
    "            if f[2] != tail:\n",
    "                continue\n",
    "            if time2 == maxTime:\n",
    "                answers.add(f[0])\n",
    "        question = template.format(head=head, type=\"before\", tail=tail)\n",
    "    else:\n",
    "        #after: find argmax(T) (head, r, tail, T)\n",
    "        # then, find argmin(T') (head, r, tail', T'), T' > T and head' != head\n",
    "        # tail' is the answer\n",
    "        base_fact = getFactWithMaximumTime(facts, head = head, tail = tail)\n",
    "        time = base_fact[-1]\n",
    "        minTime = 9999\n",
    "        for f in facts:\n",
    "            time2 = f[-1]\n",
    "            if time2 <= time:\n",
    "                continue\n",
    "            if f[0] == head:\n",
    "                continue\n",
    "            if f[2] != tail:\n",
    "                continue\n",
    "            if time2 < minTime:\n",
    "                minTime = time2\n",
    "        answers = set()\n",
    "        for f in facts:\n",
    "            time2 = f[-1]\n",
    "            if f[0] == head:\n",
    "                continue\n",
    "            if f[2] != tail:\n",
    "                continue\n",
    "            if time2 == minTime:\n",
    "                answers.add(f[0])\n",
    "        question = template.format(head=head, type=\"after\", tail=tail)\n",
    "    answer_type = 'entity'\n",
    "    entities = set([head, tail])\n",
    "    times = set()\n",
    "    relations = set(['P39'])\n",
    "    output = {'question': question,\n",
    "             'answers': answers,\n",
    "             'answer_type': answer_type,\n",
    "             'template': template,\n",
    "             'entities': entities,\n",
    "             'times': times,\n",
    "             'relations': relations}\n",
    "    return output\n",
    "    \n",
    "# def genEntityComplex3(facts, head1, head2, tail):\n",
    "#     template = \"Which team did {head1} play for when {head2} was playing for \"\n",
    "\n",
    "\n",
    "def genEntityComplex3(facts, head, tail, tail2):\n",
    "    template = \"Who held the position of {tail2} when {head} was the {tail}?\"\n",
    "    # first get all time instances when head played for tail\n",
    "    # then get all heads, where tail' = tail and time' in T\n",
    "    valid_times = set()\n",
    "    for f in facts:\n",
    "        if f[0] == head and f[2] == tail:\n",
    "            valid_times.add(f[-1])\n",
    "    answers = set()\n",
    "    for f in facts:\n",
    "        if f[2] == tail2 and f[-1] in valid_times:\n",
    "            answers.add(f[0])\n",
    "    question = template.format(head=head, tail=tail, tail2=tail2)\n",
    "    answer_type = 'entity'\n",
    "    entities = set([head, tail, tail2])\n",
    "    times = set()\n",
    "    relations = set(['P39'])\n",
    "    output = {'question': question,\n",
    "             'answers': answers,\n",
    "             'answer_type': answer_type,\n",
    "             'template': template,\n",
    "             'entities': entities,\n",
    "             'times': times,\n",
    "             'relations': relations}\n",
    "    return output\n",
    "    \n",
    "def genEventQuestion(facts, events_fact, tail):\n",
    "    event_head = events_fact[0]\n",
    "    template = \"Who held the position of {tail} during {event_head}?\"\n",
    "    valid_times = set()\n",
    "    start_time = int(events_fact[-2])\n",
    "    end_time = int(events_fact[-1])\n",
    "    for i in range(start_time, end_time + 1):\n",
    "        valid_times.add(i)\n",
    "    answers = set()\n",
    "    for f in facts:\n",
    "        if f[2] == tail and f[-1] in valid_times:\n",
    "            answers.add(f[0])\n",
    "    question = template.format(event_head=event_head, tail=tail)\n",
    "    answer_type = 'entity'\n",
    "    entities = set([tail, event_head])\n",
    "    times = set()\n",
    "    relations = set(['P39'])\n",
    "    output = {'question': question,\n",
    "             'answers': answers,\n",
    "             'answer_type': answer_type,\n",
    "             'template': template,\n",
    "             'entities': entities,\n",
    "             'times': times,\n",
    "             'relations': relations}\n",
    "    return output\n",
    "\n",
    "def genEventQuestion2(facts, events_fact, tail, after=True):\n",
    "    event_head = events_fact[0]\n",
    "    template = \"Who held the position of {tail} {type} {event_head}?\"\n",
    "    answers = set()\n",
    "    # event happened at some time\n",
    "    # choose all times before/after that time\n",
    "    # choose fact with tail=tail with max/min time in those valid times\n",
    "    # head of that fact is the answer\n",
    "    if after == False:\n",
    "        # before\n",
    "        # get upper limit time\n",
    "        upper_limit = int(events_fact[-2])\n",
    "        maxTime = -1\n",
    "        # now get the fact with time < upper_limit\n",
    "        for f in facts:\n",
    "            time = f[-1]\n",
    "            if time >= upper_limit:\n",
    "                continue\n",
    "            if tail != f[2]:\n",
    "                continue\n",
    "            if time > maxTime:\n",
    "                maxTime = time\n",
    "        answers = set()\n",
    "        for f in facts:\n",
    "            time = f[-1]\n",
    "            if tail != f[2] or event_head==f[0]:\n",
    "                continue\n",
    "            if time == maxTime:\n",
    "                answers.add(f[0])\n",
    "        question = template.format(event_head=event_head, type=\"before\", tail=tail)\n",
    "    else:\n",
    "        # after\n",
    "        # get lower limit time\n",
    "        lower_limit = int(events_fact[-1])\n",
    "        minTime = 99999\n",
    "        # now get the fact with time > lower_limit\n",
    "        for f in facts:\n",
    "            time = f[-1]\n",
    "            if time <= lower_limit:\n",
    "                continue\n",
    "            if tail != f[2]:\n",
    "                continue\n",
    "            if time < minTime:\n",
    "                minTime = time\n",
    "        answers = set()\n",
    "        for f in facts:\n",
    "            time = f[-1]\n",
    "            if tail != f[2] or event_head==f[0]:\n",
    "                continue\n",
    "            if time == minTime:\n",
    "                answers.add(f[0])\n",
    "        question = template.format(event_head=event_head, type=\"after\", tail=tail)\n",
    "    answer_type = 'entity'\n",
    "    entities = set([tail, event_head])\n",
    "    times = set()\n",
    "    relations = set(['P39'])\n",
    "    output = {'question': question,\n",
    "             'answers': answers,\n",
    "             'answer_type': answer_type,\n",
    "             'template': template,\n",
    "             'entities': entities,\n",
    "             'times': times,\n",
    "             'relations': relations}\n",
    "    return output\n",
    "\n",
    "def areFactsSame(f1, f2):\n",
    "    flag = True\n",
    "    for i in range(3):\n",
    "        if f1[i] != f2[i]:\n",
    "            flag = False\n",
    "            break\n",
    "    return flag\n",
    "\n",
    "def toQuestionJSON(question, answers, template, wikidata_identifier_to_text):\n",
    "    output = {}\n",
    "    output['']"
   ]
  },
  {
   "cell_type": "code",
   "execution_count": 29,
   "metadata": {},
   "outputs": [],
   "source": [
    "entities = readFile('entities')\n",
    "relations = readFile('predicates')"
   ]
  },
  {
   "cell_type": "code",
   "execution_count": 30,
   "metadata": {},
   "outputs": [],
   "source": [
    "wikidata_identifier_to_text = createWikidataIdentifierToTextDict(entities, relations)\n",
    "text_to_wikidata_identifier = {v: k for k, v in wikidata_identifier_to_text.items()}"
   ]
  },
  {
   "cell_type": "code",
   "execution_count": 31,
   "metadata": {},
   "outputs": [],
   "source": [
    "# positionFactsSingle = [convertFactToText(f, wikidata_identifier_to_text) for f in sportsFactsSingle]\n",
    "positionFactsSingle = sportsFactsSingle"
   ]
  },
  {
   "cell_type": "code",
   "execution_count": 48,
   "metadata": {},
   "outputs": [
    {
     "data": {
      "text/plain": [
       "{'question': 'When did Q324970 hold the position of Q2047357?',\n",
       " 'answers': {1935,\n",
       "  1936,\n",
       "  1937,\n",
       "  1938,\n",
       "  1939,\n",
       "  1940,\n",
       "  1941,\n",
       "  1942,\n",
       "  1943,\n",
       "  1944,\n",
       "  1945,\n",
       "  1946},\n",
       " 'answer_type': 'time',\n",
       " 'template': 'When did {head} hold the position of {tail}?',\n",
       " 'entities': {'Q2047357', 'Q324970'},\n",
       " 'times': set(),\n",
       " 'relations': {'P39'}}"
      ]
     },
     "execution_count": 48,
     "metadata": {},
     "output_type": "execute_result"
    }
   ],
   "source": [
    "id = 600\n",
    "f = positionFactsSingle[id]\n",
    "genTimeSimple1(positionFactsSingle, f)"
   ]
  },
  {
   "cell_type": "code",
   "execution_count": 49,
   "metadata": {},
   "outputs": [
    {
     "data": {
      "text/plain": [
       "{'question': 'When did the first Q2047357 come to power?',\n",
       " 'answers': {1813},\n",
       " 'answer_type': 'time',\n",
       " 'template': 'When did the {adj} {tail} come to power?',\n",
       " 'entities': {'Q2047357'},\n",
       " 'times': set(),\n",
       " 'relations': {'P39'}}"
      ]
     },
     "execution_count": 49,
     "metadata": {},
     "output_type": "execute_result"
    }
   ],
   "source": [
    "genTimeComplex2(positionFactsSingle, f[2], first=True)"
   ]
  },
  {
   "cell_type": "code",
   "execution_count": 50,
   "metadata": {},
   "outputs": [
    {
     "data": {
      "text/plain": [
       "{'question': 'When was the first time that Q324970 was the Q2047357?',\n",
       " 'answers': {1935},\n",
       " 'answer_type': 'time',\n",
       " 'template': 'When was the {adj} time that {head} was the {tail}?',\n",
       " 'entities': {'Q2047357', 'Q324970'},\n",
       " 'times': set(),\n",
       " 'relations': {'P39'}}"
      ]
     },
     "execution_count": 50,
     "metadata": {},
     "output_type": "execute_result"
    }
   ],
   "source": [
    "genTimeComplex1(positionFactsSingle, f[0], f[2], first=True)"
   ]
  },
  {
   "cell_type": "code",
   "execution_count": 51,
   "metadata": {},
   "outputs": [
    {
     "data": {
      "text/plain": [
       "{'question': 'Who was the Q2047357 in 1946?',\n",
       " 'answers': {'Q324970'},\n",
       " 'answer_type': 'entity',\n",
       " 'template': 'Who was the {tail} in {time}?',\n",
       " 'entities': {'Q2047357'},\n",
       " 'times': {1946},\n",
       " 'relations': {'P39'}}"
      ]
     },
     "execution_count": 51,
     "metadata": {},
     "output_type": "execute_result"
    }
   ],
   "source": [
    "genEntitySimple1(positionFactsSingle, f[2], f[-1])"
   ]
  },
  {
   "cell_type": "code",
   "execution_count": 52,
   "metadata": {},
   "outputs": [
    {
     "data": {
      "text/plain": [
       "{'question': 'Who was the first Q2047357?',\n",
       " 'answers': {'Q26286363'},\n",
       " 'answer_type': 'entity',\n",
       " 'template': 'Who was the {adj} {tail}?',\n",
       " 'entities': {'Q2047357'},\n",
       " 'times': set(),\n",
       " 'relations': {'P39'}}"
      ]
     },
     "execution_count": 52,
     "metadata": {},
     "output_type": "execute_result"
    }
   ],
   "source": [
    "genEntityComplex1(positionFactsSingle, f[2], first=True)"
   ]
  },
  {
   "cell_type": "code",
   "execution_count": 53,
   "metadata": {},
   "outputs": [
    {
     "data": {
      "text/plain": [
       "{'question': 'Who was the Q2047357 after Q324970?',\n",
       " 'answers': {'Q1790063'},\n",
       " 'answer_type': 'entity',\n",
       " 'template': 'Who was the {tail} {type} {head}?',\n",
       " 'entities': {'Q2047357', 'Q324970'},\n",
       " 'times': set(),\n",
       " 'relations': {'P39'}}"
      ]
     },
     "execution_count": 53,
     "metadata": {},
     "output_type": "execute_result"
    }
   ],
   "source": [
    "genEntityComplex2(positionFactsSingle, f[0], f[2], after=True)"
   ]
  },
  {
   "cell_type": "code",
   "execution_count": 54,
   "metadata": {},
   "outputs": [],
   "source": [
    "genEntityComplex3(positionFactsSingle, f[0], f[2], 'Prime minister of India')"
   ]
  },
  {
   "cell_type": "code",
   "execution_count": 55,
   "metadata": {},
   "outputs": [],
   "source": [
    "# with (open(\"temporal_events_as_text_facts.pkl\", \"rb\")) as openfile:\n",
    "#     events_facts = pickle.load(openfile)\n",
    "# events_facts = readFactsFromFile('facts_temporal_event.txt')\n",
    "\n",
    "# events facts are already there in facts"
   ]
  },
  {
   "cell_type": "code",
   "execution_count": 56,
   "metadata": {},
   "outputs": [],
   "source": [
    "def getEventsFactsFromFacts(facts):\n",
    "    events_facts = []\n",
    "    for f in facts:\n",
    "        rel = f[1]\n",
    "        tail = f[2]\n",
    "        if rel == 'P793' and tail == 'Q1190554': # significant event and occurrence\n",
    "#         if rel == 'P39' and tail == 'Q1190554': # significant event and occurrence\n",
    "            events_facts.append(f)\n",
    "    return events_facts\n",
    "events_facts = getEventsFactsFromFacts(facts)\n"
   ]
  },
  {
   "cell_type": "code",
   "execution_count": 57,
   "metadata": {},
   "outputs": [],
   "source": [
    "# len(events_facts)\n",
    "import pickle as pkl\n",
    "def get_facts_from_ent(entname):\n",
    "    idx=name2ent[entname]\n",
    "    facts_=[]\n",
    "    for fact in events_facts:\n",
    "        if (fact[0]==idx or fact[2]==idx):\n",
    "            fact=(ent2name[fact[0]],rel2name[fact[1]],ent2name[fact[2]],fact[3],fact[4])\n",
    "            facts_.append(fact)\n",
    "            print(fact)\n",
    "    return facts_\n",
    "def openFileAsDict(filename):\n",
    "    f = open(filename, 'r')\n",
    "    out = {}\n",
    "    for line in f:\n",
    "        line = line[:-1].split('\\t') # can't strip() since name can be whitespace\n",
    "        out[line[0]] = line[1]\n",
    "    return out\n",
    "ent2name = openFileAsDict( '../data/wikidata_big/kg/wd_id2entity_text.txt')\n",
    "rel2name = openFileAsDict( '../data/wikidata_big/kg/wd_id2relation_text.txt')\n",
    "name2ent={i:j for (j,i) in ent2name.items()}\n",
    "name2rel={i:j for (j,i) in rel2name.items()}\n",
    "\n",
    "ent2id=pkl.load(open(\"../data/wikidata_big/kg/tkbc_processed_data/wikidata_big/ent_id\",\"rb\"))\n",
    "rel2id=pkl.load(open(\"../data/wikidata_big/kg/tkbc_processed_data/wikidata_big/rel_id\",\"rb\"))\n",
    "id2ent={i:j for (j,i) in ent2id.items()}\n",
    "id2rel={i:j for (j,i) in rel2id.items()}\n",
    "id2relname={i:rel2name[id2rel[i]] for i in id2rel}\n",
    "id2entname={i:ent2name[id2ent[i]] for i in id2ent}\n"
   ]
  },
  {
   "cell_type": "code",
   "execution_count": 58,
   "metadata": {},
   "outputs": [
    {
     "data": {
      "text/plain": [
       "'Q18534408'"
      ]
     },
     "execution_count": 58,
     "metadata": {},
     "output_type": "execute_result"
    }
   ],
   "source": [
    "name2ent[\"Member of the Victorian Legislative Assembly\"]"
   ]
  },
  {
   "cell_type": "code",
   "execution_count": 59,
   "metadata": {},
   "outputs": [
    {
     "name": "stdout",
     "output_type": "stream",
     "text": [
      "('2012 Summer Olympics', 'significant event', 'occurrence', '2012', '2012')\n"
     ]
    }
   ],
   "source": [
    "facts_reqd=get_facts_from_ent(\"2012 Summer Olympics\")"
   ]
  },
  {
   "cell_type": "code",
   "execution_count": 63,
   "metadata": {},
   "outputs": [
    {
     "data": {
      "text/plain": [
       "{'question': 'Who held the position of Q11696 during Q362?',\n",
       " 'answers': {'Q11613', 'Q8007'},\n",
       " 'answer_type': 'entity',\n",
       " 'template': 'Who held the position of {tail} during {event_head}?',\n",
       " 'entities': {'Q11696', 'Q362'},\n",
       " 'times': set(),\n",
       " 'relations': {'P39'}}"
      ]
     },
     "execution_count": 63,
     "metadata": {},
     "output_type": "execute_result"
    }
   ],
   "source": [
    "genEventQuestion(positionFactsSingle, events_facts[0], 'Q11696')"
   ]
  },
  {
   "cell_type": "code",
   "execution_count": 61,
   "metadata": {},
   "outputs": [
    {
     "name": "stdout",
     "output_type": "stream",
     "text": [
      "[('2012 Summer Olympics', 'significant event', 'occurrence', '2012', '2012')]\n"
     ]
    },
    {
     "data": {
      "text/plain": [
       "{'question': 'Who held the position of Q18534408 before 2012 Summer Olympics?',\n",
       " 'answers': {'Q3108047', 'Q6317847', 'Q6939485'},\n",
       " 'answer_type': 'entity',\n",
       " 'template': 'Who held the position of {tail} {type} {event_head}?',\n",
       " 'entities': {'2012 Summer Olympics', 'Q18534408'},\n",
       " 'times': set(),\n",
       " 'relations': {'P39'}}"
      ]
     },
     "execution_count": 61,
     "metadata": {},
     "output_type": "execute_result"
    }
   ],
   "source": [
    "print(facts_reqd)\n",
    "genEventQuestion2(positionFactsSingle, facts_reqd[0], 'Q18534408', after=False)"
   ]
  },
  {
   "cell_type": "code",
   "execution_count": 62,
   "metadata": {},
   "outputs": [
    {
     "data": {
      "text/plain": [
       "['Q362', 'P793', 'Q1190554', '1939', '1945']"
      ]
     },
     "execution_count": 62,
     "metadata": {},
     "output_type": "execute_result"
    }
   ],
   "source": [
    "events_facts[0]"
   ]
  },
  {
   "cell_type": "code",
   "execution_count": 38,
   "metadata": {},
   "outputs": [
    {
     "data": {
      "text/plain": [
       "'President of the United States'"
      ]
     },
     "execution_count": 38,
     "metadata": {},
     "output_type": "execute_result"
    }
   ],
   "source": [
    "wikidata_identifier_to_text['Q11696']"
   ]
  },
  {
   "cell_type": "code",
   "execution_count": 71,
   "metadata": {},
   "outputs": [
    {
     "name": "stdout",
     "output_type": "stream",
     "text": [
      "{'question': 'Who held the position of Q18534408 during Q362?', 'answers': {'Q8011040', 'Q4909082', 'Q7792143', 'Q8001954', 'Q3525207', 'Q8017875', 'Q5645040', 'Q444481'}, 'answer_type': 'entity', 'template': 'Who held the position of {tail} during {event_head}?', 'entities': {'Q18534408', 'Q362'}, 'times': set(), 'relations': {'P39'}}\n",
      "{'question': 'Who held the position of Q18534408 after Q362?', 'answers': {'Q4909082', 'Q7792143', 'Q8001954', 'Q3525207', 'Q8017875', 'Q444481'}, 'answer_type': 'entity', 'template': 'Who held the position of {tail} {type} {event_head}?', 'entities': {'Q18534408', 'Q362'}, 'times': set(), 'relations': {'P39'}}\n"
     ]
    }
   ],
   "source": [
    "id = 200\n",
    "f = positionFactsSingle[id]\n",
    "# print(genTimeSimple1(positionFactsSingle, f))\n",
    "# print(genTimeComplex2(positionFactsSingle, f[2], first=True))\n",
    "# print(genTimeComplex1(positionFactsSingle, f[0], f[2], first=True))\n",
    "# print(genEntitySimple1(positionFactsSingle, f[2], f[-1]))\n",
    "# print(genEntityComplex1(positionFactsSingle, f[2], first=True))\n",
    "# print(genEntityComplex2(positionFactsSingle, f[0], f[2], after=True))\n",
    "# print(genEntityComplex3(positionFactsSingle, f[0], f[2], 'Prime minister of India'))\n",
    "print(genEventQuestion(positionFactsSingle, events_facts[0], 'Q18534408'))\n",
    "print(genEventQuestion2(positionFactsSingle, events_facts[0], 'Q18534408'))"
   ]
  },
  {
   "cell_type": "code",
   "execution_count": 72,
   "metadata": {},
   "outputs": [],
   "source": [
    "import random\n",
    "def makeQuestions(positionFactsSingle, events_facts, split_facts, f):\n",
    "    questions = []\n",
    "    questions.append(genTimeSimple1(positionFactsSingle, f))\n",
    "    questions.append(genTimeComplex2(positionFactsSingle, f[2], first=random.choice([True, False])))\n",
    "    questions.append(genTimeComplex1(positionFactsSingle, f[0], f[2], first=random.choice([True, False])))\n",
    "    questions.append(genEntitySimple1(positionFactsSingle, f[2], f[-1]))\n",
    "    questions.append(genEntityComplex1(positionFactsSingle, f[2], first=random.choice([True, False])))\n",
    "    questions.append(genEntityComplex2(positionFactsSingle, f[0], f[2], after=random.choice([True, False])))\n",
    "    questions.append(genEntityComplex3(positionFactsSingle, f[0], f[2], random.choice(split_facts)[2]))\n",
    "    # using only the first 10 events facts ?.?\n",
    "    # because we want world war II to be there\n",
    "    # which is the first event fact lol xD\n",
    "    questions.append(genEventQuestion(positionFactsSingle, random.choice(events_facts[:10]), f[2]))\n",
    "    questions.append(genEventQuestion2(positionFactsSingle, random.choice(events_facts[:10]), f[2], after=random.choice([True, False])))\n",
    "    return questions\n"
   ]
  },
  {
   "cell_type": "code",
   "execution_count": 73,
   "metadata": {},
   "outputs": [
    {
     "data": {
      "text/plain": [
       "0"
      ]
     },
     "execution_count": 73,
     "metadata": {},
     "output_type": "execute_result"
    }
   ],
   "source": [
    "train_ents = set(pickle.load(open('train_ents.pickle', 'rb')))\n",
    "test_ents = set(pickle.load(open('test_ents.pickle', 'rb')))\n",
    "\n",
    "len(train_ents.intersection(test_ents))"
   ]
  },
  {
   "cell_type": "code",
   "execution_count": 85,
   "metadata": {},
   "outputs": [
    {
     "data": {
      "text/plain": [
       "25968"
      ]
     },
     "execution_count": 85,
     "metadata": {},
     "output_type": "execute_result"
    }
   ],
   "source": [
    "import pickle\n",
    "dataset_split = 'test'\n",
    "split_entities = set(pickle.load(open(dataset_split + '_ents.pickle', 'rb')))\n",
    "split_facts = []\n",
    "my_facts = positionFactsSingle\n",
    "for f in my_facts:\n",
    "    if f[0] in split_entities and f[2] in split_entities:\n",
    "        split_facts.append(f)\n",
    "        \n",
    "len(split_facts)"
   ]
  },
  {
   "cell_type": "code",
   "execution_count": 86,
   "metadata": {},
   "outputs": [
    {
     "data": {
      "text/plain": [
       "10120"
      ]
     },
     "execution_count": 86,
     "metadata": {},
     "output_type": "execute_result"
    }
   ],
   "source": [
    "# how to get number of questions?\n",
    "# 1. set total questions to 300k\n",
    "# 2. get number of facts with this relation\n",
    "# 3. get how many questions u want of this relation as fraction\n",
    "# 4. choose 10% of that number for test, 90% for train\n",
    "max_dataset_questions = 300000\n",
    "relation_name = my_facts[0][1]\n",
    "num_relation_facts = len(filterByRelation(facts, relation_name, -1))\n",
    "# fraction of questions need to be decided based on fraction of question relation facts\n",
    "# not all facts!\n",
    "question_relation_list = ['P39', 'P166', 'P108', 'P54', 'P26']\n",
    "num_all_question_relation_facts = sum([len(filterByRelation(facts, x, -1)) for x in question_relation_list])\n",
    "num_questions_for_this_relation = int(max_dataset_questions * num_relation_facts/num_all_question_relation_facts)\n",
    "split_ratios = {'test': 0.1, 'train': 0.9}\n",
    "num_questions = int(split_ratios[dataset_split] * num_questions_for_this_relation)\n",
    "num_questions"
   ]
  },
  {
   "cell_type": "code",
   "execution_count": 87,
   "metadata": {},
   "outputs": [
    {
     "data": {
      "text/plain": [
       "232343"
      ]
     },
     "execution_count": 87,
     "metadata": {},
     "output_type": "execute_result"
    }
   ],
   "source": [
    "num_all_question_relation_facts"
   ]
  },
  {
   "cell_type": "code",
   "execution_count": 88,
   "metadata": {},
   "outputs": [
    {
     "name": "stderr",
     "output_type": "stream",
     "text": [
      "Num questions 10119, i 2565:   0%|          | 0/25968 [20:44<?, ?it/s]"
     ]
    }
   ],
   "source": [
    "import random\n",
    "data = []\n",
    "# num_questions has been calculated above\n",
    "# num_questions = 100000\n",
    "\n",
    "events_facts_small = events_facts[:10]\n",
    "questions_set = set()\n",
    "\n",
    "pbar = tqdm(range(len(split_facts)))\n",
    "random.shuffle(split_facts)\n",
    "for i in range(len(split_facts)):\n",
    "#     f = random.choice(positionFactsSingle)\n",
    "    f = split_facts[i]\n",
    "    pbar.set_description(\"Num questions %d, i %d\" % (len(data), i))\n",
    "    questions = makeQuestions(my_facts, events_facts_small, split_facts, f)\n",
    "    for q in questions:\n",
    "        if len(q['answers']) > 0 and q['question'] not in questions_set:\n",
    "            data.append(q)\n",
    "            questions_set.add(q['question'])\n",
    "    if len(data) >= num_questions:\n",
    "        break"
   ]
  },
  {
   "cell_type": "code",
   "execution_count": 89,
   "metadata": {},
   "outputs": [
    {
     "data": {
      "text/plain": [
       "10123"
      ]
     },
     "execution_count": 89,
     "metadata": {},
     "output_type": "execute_result"
    }
   ],
   "source": [
    "len(data)"
   ]
  },
  {
   "cell_type": "code",
   "execution_count": 90,
   "metadata": {},
   "outputs": [],
   "source": [
    "def getQuestionTypeDistribution(data):\n",
    "    type_dict = {}\n",
    "    for d in data:\n",
    "        template = d['template']\n",
    "        if template not in type_dict:\n",
    "            type_dict[template] = 1\n",
    "        else:\n",
    "            type_dict[template] += 1\n",
    "    return type_dict"
   ]
  },
  {
   "cell_type": "code",
   "execution_count": 91,
   "metadata": {},
   "outputs": [
    {
     "data": {
      "text/plain": [
       "{'When did {head} hold the position of {tail}?': 1764,\n",
       " 'When did the {adj} {tail} come to power?': 475,\n",
       " 'When was the {adj} time that {head} was the {tail}?': 2059,\n",
       " 'Who was the {tail} in {time}?': 1554,\n",
       " 'Who was the {adj} {tail}?': 484,\n",
       " 'Who held the position of {tail2} when {head} was the {tail}?': 1180,\n",
       " 'Who was the {tail} {type} {head}?': 1149,\n",
       " 'Who held the position of {tail} {type} {event_head}?': 993,\n",
       " 'Who held the position of {tail} during {event_head}?': 465}"
      ]
     },
     "execution_count": 91,
     "metadata": {},
     "output_type": "execute_result"
    }
   ],
   "source": [
    "getQuestionTypeDistribution(data)"
   ]
  },
  {
   "cell_type": "code",
   "execution_count": 92,
   "metadata": {},
   "outputs": [],
   "source": [
    "import pickle\n",
    "# filename = 'data/questions/questions_position_held_big.pickle'\n",
    "filename = 'data/questions/{split}_questions_position_held_big.pickle'.format(\n",
    "            split=dataset_split)\n",
    "pickle.dump(data, open(filename, \"wb\"))"
   ]
  },
  {
   "cell_type": "code",
   "execution_count": null,
   "metadata": {},
   "outputs": [],
   "source": [
    "# y = readQuestions('questions_position_held.txt')\n",
    "# y[50:100]"
   ]
  },
  {
   "cell_type": "code",
   "execution_count": null,
   "metadata": {},
   "outputs": [],
   "source": [
    "data[50:100]"
   ]
  },
  {
   "cell_type": "code",
   "execution_count": 50,
   "metadata": {},
   "outputs": [
    {
     "data": {
      "text/plain": [
       "91082"
      ]
     },
     "execution_count": 50,
     "metadata": {},
     "output_type": "execute_result"
    }
   ],
   "source": [
    "len(data)"
   ]
  },
  {
   "cell_type": "code",
   "execution_count": null,
   "metadata": {},
   "outputs": [],
   "source": [
    "x = set()\n",
    "for d in data:\n",
    "    x.add(d['question'])\n",
    "len(x)"
   ]
  },
  {
   "cell_type": "code",
   "execution_count": null,
   "metadata": {},
   "outputs": [],
   "source": []
  }
 ],
 "metadata": {
  "kernelspec": {
   "display_name": "Python 3",
   "language": "python",
   "name": "python3"
  },
  "language_info": {
   "codemirror_mode": {
    "name": "ipython",
    "version": 3
   },
   "file_extension": ".py",
   "mimetype": "text/x-python",
   "name": "python",
   "nbconvert_exporter": "python",
   "pygments_lexer": "ipython3",
   "version": "3.7.3"
  }
 },
 "nbformat": 4,
 "nbformat_minor": 4
}
