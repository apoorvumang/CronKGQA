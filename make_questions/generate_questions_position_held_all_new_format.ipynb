{
 "cells": [
  {
   "cell_type": "code",
   "execution_count": 1,
   "metadata": {},
   "outputs": [
    {
     "ename": "FileNotFoundError",
     "evalue": "[Errno 2] No such file or directory: 'text_facts_v2.pkl'",
     "output_type": "error",
     "traceback": [
      "\u001b[0;31m---------------------------------------------------------------------------\u001b[0m",
      "\u001b[0;31mFileNotFoundError\u001b[0m                         Traceback (most recent call last)",
      "\u001b[0;32m<ipython-input-1-01a22115c9a6>\u001b[0m in \u001b[0;36m<module>\u001b[0;34m\u001b[0m\n\u001b[1;32m      4\u001b[0m \u001b[0;31m# facts = pickle.load(open('wikidata_text_facts.txt', 'rb'))\u001b[0m\u001b[0;34m\u001b[0m\u001b[0;34m\u001b[0m\u001b[0;34m\u001b[0m\u001b[0m\n\u001b[1;32m      5\u001b[0m \u001b[0;34m\u001b[0m\u001b[0m\n\u001b[0;32m----> 6\u001b[0;31m \u001b[0mfacts\u001b[0m \u001b[0;34m=\u001b[0m \u001b[0mpickle\u001b[0m\u001b[0;34m.\u001b[0m\u001b[0mload\u001b[0m\u001b[0;34m(\u001b[0m\u001b[0mopen\u001b[0m\u001b[0;34m(\u001b[0m\u001b[0;34m'text_facts_v2.pkl'\u001b[0m\u001b[0;34m,\u001b[0m \u001b[0;34m'rb'\u001b[0m\u001b[0;34m)\u001b[0m\u001b[0;34m)\u001b[0m\u001b[0;34m\u001b[0m\u001b[0;34m\u001b[0m\u001b[0m\n\u001b[0m",
      "\u001b[0;31mFileNotFoundError\u001b[0m: [Errno 2] No such file or directory: 'text_facts_v2.pkl'"
     ]
    }
   ],
   "source": [
    "from tqdm import tqdm\n",
    "import pickle\n",
    "\n",
    "# facts = pickle.load(open('wikidata_text_facts.txt', 'rb'))\n",
    "\n",
    "# facts = pickle.load(open('text_facts_v2.pkl', 'rb'))\n",
    "facts = readFactsFromFile('data/temporal_big/full.txt')"
   ]
  },
  {
   "cell_type": "code",
   "execution_count": 1,
   "metadata": {},
   "outputs": [],
   "source": [
    "def getEntsFromFacts(facts):\n",
    "    e = set()\n",
    "    for f in facts:\n",
    "        e.add(f[0])\n",
    "        e.add(f[2])\n",
    "    return e\n",
    "\n",
    "def readFile(filename):\n",
    "    f = open(filename, 'r')\n",
    "    lines = []\n",
    "    for line in f:\n",
    "        line = line.strip()\n",
    "        if line != '':\n",
    "            lines.append(line)\n",
    "    f.close()\n",
    "    return lines\n",
    "\n",
    "def getRelsFromFacts(facts):\n",
    "    r = set()\n",
    "    for f in facts:\n",
    "        r.add(f[1])\n",
    "    return r\n",
    "\n",
    "def filterByRelation(facts, rel, max=50):\n",
    "    filtered = []\n",
    "    count = 0\n",
    "    for f in facts:\n",
    "        if f[1] == rel:\n",
    "            filtered.append(f)\n",
    "            count += 1\n",
    "        if max < 0:\n",
    "            continue\n",
    "        if count >= max:\n",
    "            break\n",
    "    return filtered\n",
    "\n",
    "def filterByHead(facts, head, max=50):\n",
    "    filtered = []\n",
    "    count = 0\n",
    "    for f in facts:\n",
    "        if f[0] == head:\n",
    "            filtered.append(f)\n",
    "            count += 1\n",
    "        if max < 0:\n",
    "            continue\n",
    "        if count >= max:\n",
    "            break\n",
    "    return filtered\n",
    "\n",
    "def filterByTail(facts, tail, max=50):\n",
    "    filtered = []\n",
    "    count = 0\n",
    "    for f in facts:\n",
    "        if f[2] == tail:\n",
    "            filtered.append(f)\n",
    "            count += 1\n",
    "        if max < 0:\n",
    "            continue\n",
    "        if count >= max:\n",
    "            break\n",
    "    return filtered\n",
    "\n",
    "def filterByEntity(facts, ent, max=50):\n",
    "    filtered = []\n",
    "    count = 0\n",
    "    for f in facts:\n",
    "        if f[0] == ent or f[2] == ent:\n",
    "            filtered.append(f)\n",
    "            count += 1\n",
    "        if max < 0:\n",
    "            continue\n",
    "        if count >= max:\n",
    "            break\n",
    "    return filtered\n",
    "\n",
    "def printFact(f):\n",
    "    s = \"{head}, {rel}, {tail}, {t1}, {t2}\"\n",
    "    head=f[0]\n",
    "    rel = f[1]\n",
    "    tail = f[2]\n",
    "    t1 = f[3][1:5]\n",
    "    t2 = f[4][1:5]\n",
    "    print(s.format(head=head, rel=rel, tail=tail, t1=t1, t2=t2))\n",
    "    \n",
    "def printFacts(facts):\n",
    "    for f in facts:\n",
    "        printFact(f)\n",
    "        \n",
    "def isEntityInFact(e, fact):\n",
    "    if fact[0] == e or fact[2] == e:\n",
    "        return True\n",
    "    else:\n",
    "        return False\n",
    "    \n",
    "        \n",
    "def writeFactsToFile(filename, facts):\n",
    "    f = open(filename, 'w')\n",
    "    for fact in facts:\n",
    "        line = '\\t'.join(fact)\n",
    "        f.write(line + '\\n')\n",
    "    f.close()\n",
    "    \n",
    "def readFactsFromFile(filename):\n",
    "    f = open(filename, 'r')\n",
    "    facts = []\n",
    "    for line in f:\n",
    "        fact = line.strip().split('\\t')\n",
    "        facts.append(fact)\n",
    "    f.close()\n",
    "    return facts\n",
    "\n",
    "def createWikidataIdentifierToTextDict(entities, relations):\n",
    "    ent_rel_both = {}\n",
    "    ent_rel_both['Q'] = entities\n",
    "    ent_rel_both['P'] = relations\n",
    "    wikidata_id2name = {}\n",
    "    count = 0\n",
    "    for prefix, lines in ent_rel_both.items():\n",
    "        for line in lines:\n",
    "            try:\n",
    "                line = line.split('\\t')\n",
    "                id = prefix + line[1] #different from one above\n",
    "                name = line[2]\n",
    "                wikidata_id2name[id] = name\n",
    "            except:\n",
    "                id = prefix + line[1]\n",
    "                name = ''\n",
    "                wikidata_id2name[id] = name\n",
    "    return wikidata_id2name\n",
    "\n",
    "def convertFactToText(fact, wikidata_identifier_to_text):\n",
    "    f = fact.copy()\n",
    "    for i in range(3):\n",
    "        f[i] = wikidata_identifier_to_text[fact[i]]\n",
    "    return f"
   ]
  },
  {
   "cell_type": "code",
   "execution_count": 4,
   "metadata": {},
   "outputs": [
    {
     "data": {
      "text/plain": [
       "['Q25559009', 'P39', 'Q41582555', '1847', '1852']"
      ]
     },
     "execution_count": 4,
     "metadata": {},
     "output_type": "execute_result"
    }
   ],
   "source": [
    "facts[0]"
   ]
  },
  {
   "cell_type": "code",
   "execution_count": 3,
   "metadata": {},
   "outputs": [],
   "source": [
    "# facts = readFactsFromFile('data/temporal_small/full.txt')\n",
    "facts = readFactsFromFile('data/temporal_big/full.txt')"
   ]
  },
  {
   "cell_type": "code",
   "execution_count": 5,
   "metadata": {},
   "outputs": [],
   "source": [
    "r = getRelsFromFacts(facts)\n",
    "e = getEntsFromFacts(facts)"
   ]
  },
  {
   "cell_type": "code",
   "execution_count": 6,
   "metadata": {},
   "outputs": [
    {
     "data": {
      "text/plain": [
       "328635"
      ]
     },
     "execution_count": 6,
     "metadata": {},
     "output_type": "execute_result"
    }
   ],
   "source": [
    "len(facts)"
   ]
  },
  {
   "cell_type": "code",
   "execution_count": 7,
   "metadata": {},
   "outputs": [
    {
     "data": {
      "text/plain": [
       "125726"
      ]
     },
     "execution_count": 7,
     "metadata": {},
     "output_type": "execute_result"
    }
   ],
   "source": [
    "len(e)"
   ]
  },
  {
   "cell_type": "code",
   "execution_count": 8,
   "metadata": {},
   "outputs": [],
   "source": [
    "e_count_dict = {}\n",
    "r_count_dict = {}\n",
    "head_count = {}\n",
    "tail_count = {}\n",
    "for ent in e:\n",
    "    e_count_dict[ent] = 0\n",
    "    head_count[ent] = 0\n",
    "    tail_count[ent] = 0\n",
    "for rel in r:\n",
    "    r_count_dict[rel] = 0\n",
    "for f in facts:\n",
    "    e1 = f[0]\n",
    "    e2 = f[2]\n",
    "    rel = f[1]\n",
    "    e_count_dict[e1] += 1\n",
    "    e_count_dict[e2] += 1\n",
    "    r_count_dict[rel] += 1\n",
    "    head_count[e1] += 1\n",
    "    tail_count[e2] += 1"
   ]
  },
  {
   "cell_type": "code",
   "execution_count": 9,
   "metadata": {},
   "outputs": [],
   "source": [
    "x = r_count_dict\n",
    "sorted_r = {k: v for k, v in sorted(x.items(), key=lambda item: item[1], reverse=True)}\n",
    "\n",
    "x = e_count_dict\n",
    "sorted_e = {k: v for k, v in sorted(x.items(), key=lambda item: item[1], reverse=True)}\n",
    "\n",
    "x = head_count\n",
    "sorted_head = {k: v for k, v in sorted(x.items(), key=lambda item: item[1], reverse=True)}\n",
    "\n",
    "x = tail_count\n",
    "sorted_tail = {k: v for k, v in sorted(x.items(), key=lambda item: item[1], reverse=True)}"
   ]
  },
  {
   "cell_type": "code",
   "execution_count": null,
   "metadata": {},
   "outputs": [],
   "source": [
    "for key, value in sorted_r.items():\n",
    "    print(key, '|', value, 'facts', round(value/len(facts)*100, 2), '%' )"
   ]
  },
  {
   "cell_type": "code",
   "execution_count": 10,
   "metadata": {},
   "outputs": [],
   "source": [
    "#rel = 'position held'\n",
    "rel = 'P39'\n",
    "sportsFacts = filterByRelation(facts, rel, -1)"
   ]
  },
  {
   "cell_type": "code",
   "execution_count": 11,
   "metadata": {},
   "outputs": [
    {
     "data": {
      "text/plain": [
       "78380"
      ]
     },
     "execution_count": 11,
     "metadata": {},
     "output_type": "execute_result"
    }
   ],
   "source": [
    "len(sportsFacts)"
   ]
  },
  {
   "cell_type": "code",
   "execution_count": 12,
   "metadata": {},
   "outputs": [
    {
     "data": {
      "text/plain": [
       "78380"
      ]
     },
     "execution_count": 12,
     "metadata": {},
     "output_type": "execute_result"
    }
   ],
   "source": [
    "# position_held = filterByRelation(facts, 'position held', -1)\n",
    "position_held = filterByRelation(facts, 'P39', -1)\n",
    "len(position_held)"
   ]
  },
  {
   "cell_type": "code",
   "execution_count": 13,
   "metadata": {},
   "outputs": [],
   "source": [
    "filtered_facts = []\n",
    "for f in position_held:\n",
    "    tail = f[2]\n",
    "    if tail != tail.lower():\n",
    "        filtered_facts.append(f)"
   ]
  },
  {
   "cell_type": "code",
   "execution_count": 14,
   "metadata": {},
   "outputs": [
    {
     "data": {
      "text/plain": [
       "78380"
      ]
     },
     "execution_count": 14,
     "metadata": {},
     "output_type": "execute_result"
    }
   ],
   "source": [
    "len(filtered_facts)"
   ]
  },
  {
   "cell_type": "code",
   "execution_count": 15,
   "metadata": {},
   "outputs": [],
   "source": [
    "def splitTimeNoNewTimeStamps(facts, timestamps):\n",
    "    # don't introduce new timestamps!\n",
    "    new_facts = []\n",
    "    for f in facts:\n",
    "        e1 = f[0]\n",
    "        r = f[1]\n",
    "        e2 = f[2]\n",
    "        t1 = int(f[3])\n",
    "        t2 = int(f[4])\n",
    "        for t in range(t1, t2+1):\n",
    "            if t in timestamps:\n",
    "                nf = [e1, r, e2, t]\n",
    "                new_facts.append(nf)\n",
    "    return new_facts\n",
    "\n",
    "def splitTime(facts):\n",
    "    # don't introduce new timestamps!\n",
    "    new_facts = []\n",
    "    for f in facts:\n",
    "        e1 = f[0]\n",
    "        r = f[1]\n",
    "        e2 = f[2]\n",
    "        t1 = int(f[3])\n",
    "        t2 = int(f[4])\n",
    "        for t in range(t1, t2+1):\n",
    "            nf = [e1, r, e2, t]\n",
    "            new_facts.append(nf)\n",
    "    return new_facts\n",
    "\n"
   ]
  },
  {
   "cell_type": "code",
   "execution_count": 16,
   "metadata": {},
   "outputs": [
    {
     "name": "stdout",
     "output_type": "stream",
     "text": [
      "1643\n"
     ]
    }
   ],
   "source": [
    "timestamps = set()\n",
    "for f in facts:\n",
    "    timestamps.add(int(f[-2]))\n",
    "    timestamps.add(int(f[-1]))\n",
    "print(len(timestamps))\n"
   ]
  },
  {
   "cell_type": "code",
   "execution_count": 17,
   "metadata": {},
   "outputs": [],
   "source": [
    "x = splitTime(filtered_facts)"
   ]
  },
  {
   "cell_type": "code",
   "execution_count": 18,
   "metadata": {},
   "outputs": [
    {
     "data": {
      "text/plain": [
       "422446"
      ]
     },
     "execution_count": 18,
     "metadata": {},
     "output_type": "execute_result"
    }
   ],
   "source": [
    "len(x)"
   ]
  },
  {
   "cell_type": "code",
   "execution_count": 19,
   "metadata": {},
   "outputs": [
    {
     "data": {
      "text/plain": [
       "78380"
      ]
     },
     "execution_count": 19,
     "metadata": {},
     "output_type": "execute_result"
    }
   ],
   "source": [
    "len(filtered_facts)"
   ]
  },
  {
   "cell_type": "code",
   "execution_count": 20,
   "metadata": {},
   "outputs": [],
   "source": [
    "sportsFactsSingle = x"
   ]
  },
  {
   "cell_type": "code",
   "execution_count": 21,
   "metadata": {},
   "outputs": [
    {
     "data": {
      "text/plain": [
       "['Q25559009', 'P39', 'Q41582555', 1847]"
      ]
     },
     "execution_count": 21,
     "metadata": {},
     "output_type": "execute_result"
    }
   ],
   "source": [
    "sportsFactsSingle[0]"
   ]
  },
  {
   "cell_type": "code",
   "execution_count": 22,
   "metadata": {},
   "outputs": [],
   "source": [
    "# simple questions, time answer\n",
    "def genTimeSimple1(facts, base_fact):\n",
    "    head = base_fact[0]\n",
    "    tail = base_fact[2]\n",
    "    template = \"When did {head} hold the position of {tail}?\"\n",
    "    answers = set()\n",
    "    for f in facts:\n",
    "        # (s, r, o, T)\n",
    "        if f[0] == head and f[2] == tail:\n",
    "            answers.add(f[3])\n",
    "    question = template.format(head=head, tail=tail)\n",
    "    answer_type = 'time'\n",
    "    entities = set([head, tail])\n",
    "    times = set()\n",
    "    relations = set(['P39'])\n",
    "    output = {'question': question,\n",
    "             'answers': answers,\n",
    "             'answer_type': answer_type,\n",
    "             'template': template,\n",
    "             'entities': entities,\n",
    "             'times': times,\n",
    "             'relations': relations}\n",
    "    return output\n",
    "\n",
    "# complex questions, time answer\n",
    "def genTimeComplex1(facts, head, tail, first=True):\n",
    "    template = \"When was the {adj} time that {head} was the {tail}?\"\n",
    "    minTime = 9999\n",
    "    maxTime = -1\n",
    "    answers = set()\n",
    "    for f in facts:\n",
    "        if f[0] == head and f[2] == tail:\n",
    "            time = f[3]\n",
    "            if time < minTime:\n",
    "                minTime = time\n",
    "            if time > maxTime:\n",
    "                maxTime = time\n",
    "    if first==True:\n",
    "        question = template.format(head=head, tail=tail, adj='first')\n",
    "        answers.add(minTime)\n",
    "    else:\n",
    "        question = template.format(head=head, tail=tail, adj='last')\n",
    "        answers.add(maxTime)\n",
    "    answer_type = 'time'\n",
    "    entities = set([head, tail])\n",
    "    times = set()\n",
    "    relations = set(['P39'])\n",
    "    output = {'question': question,\n",
    "             'answers': answers,\n",
    "             'answer_type': answer_type,\n",
    "             'template': template,\n",
    "             'entities': entities,\n",
    "             'times': times,\n",
    "             'relations': relations}\n",
    "    return output\n",
    "        \n",
    "def genTimeComplex2(facts, tail, first=True):\n",
    "    template = \"When did the {adj} {tail} come to power?\" # ERROR- semantically correct only for president, etc\n",
    "    minTime = 9999\n",
    "    maxTime = -1\n",
    "    answers = set()\n",
    "    for f in facts:\n",
    "        if f[2] == tail:\n",
    "            time = f[3]\n",
    "            if time < minTime:\n",
    "                minTime = time\n",
    "            if time > maxTime:\n",
    "                maxTime = time\n",
    "    if first==True:\n",
    "        question = template.format(tail=tail, adj='first')\n",
    "        answers.add(minTime)\n",
    "    else:\n",
    "        question = template.format(tail=tail, adj='last')\n",
    "        answers.add(maxTime)\n",
    "    answer_type = 'time'\n",
    "    entities = set([tail])\n",
    "    times = set()\n",
    "    relations = set(['P39'])\n",
    "    output = {'question': question,\n",
    "             'answers': answers,\n",
    "             'answer_type': answer_type,\n",
    "             'template': template,\n",
    "             'entities': entities,\n",
    "             'times': times,\n",
    "             'relations': relations}\n",
    "    return output\n",
    "\n",
    "# simple questions, entity answer\n",
    "def genEntitySimple1(facts, tail, time):\n",
    "    template = \"Who was the {tail} in {time}?\"\n",
    "    answers = set()\n",
    "    for f in facts:\n",
    "        if f[2] == tail and f[3] == time:\n",
    "            answers.add(f[0])\n",
    "    question = template.format(tail=tail, time=time)\n",
    "    answer_type = 'entity'\n",
    "    entities = set([tail])\n",
    "    times = set([time])\n",
    "    relations = set(['P39'])\n",
    "    output = {'question': question,\n",
    "             'answers': answers,\n",
    "             'answer_type': answer_type,\n",
    "             'template': template,\n",
    "             'entities': entities,\n",
    "             'times': times,\n",
    "             'relations': relations}\n",
    "    return output\n",
    "\n",
    "def genEntitySimple2(facts, tail, time1, time2):\n",
    "    template = \"Who was the {tail} from {time1} to {time2}?\"\n",
    "    answers = set()\n",
    "    for f in facts:\n",
    "        if f[2] == head and f[3] == time: # ERROR f[2]>=head and f[3]<=tail\n",
    "            answers.add(f[2])\n",
    "    question = template.format(head=head, time=time)\n",
    "    answer_type = 'entity'\n",
    "    entities = set([tail])\n",
    "    times = set([time1, time2])\n",
    "    relations = set(['P39'])\n",
    "    output = {'question': question,\n",
    "             'answers': answers,\n",
    "             'answer_type': answer_type,\n",
    "             'template': template,\n",
    "             'entities': entities,\n",
    "             'times': times,\n",
    "             'relations': relations}\n",
    "    return output\n",
    "\n",
    "\n",
    "# complex question, entity answer\n",
    "def genEntityComplex1(facts, tail, first=True):\n",
    "    # first/last\n",
    "    template = \"Who was the {adj} {tail}?\"\n",
    "    answers = set()\n",
    "    if first==True:\n",
    "        x = getFactWithMinimumTime(facts, head ='', tail=tail)\n",
    "        time=x[-1]\n",
    "        for f in facts:\n",
    "            if f[-1]==time and f[-2]==tail:\n",
    "                answers.add(f[0])\n",
    "        question = template.format(tail=x[2], adj='first')\n",
    "    else:\n",
    "        x = getFactWithMaximumTime(facts, head ='', tail=tail)\n",
    "        time=x[-1]\n",
    "        for f in facts:\n",
    "            if f[-1]==time and f[-2]==tail:\n",
    "                answers.add(f[0])\n",
    "        question = template.format(tail=x[2], adj='last')\n",
    "    answer_type = 'entity'\n",
    "    entities = set([tail])\n",
    "    times = set()\n",
    "    relations = set(['P39'])\n",
    "    output = {'question': question,\n",
    "             'answers': answers,\n",
    "             'answer_type': answer_type,\n",
    "             'template': template,\n",
    "             'entities': entities,\n",
    "             'times': times,\n",
    "             'relations': relations}\n",
    "    return output\n",
    "\n",
    "def getFactWithMaximumTime(facts, head = '', tail = ''):\n",
    "    maxTime = -1\n",
    "    fact = facts[0]\n",
    "    for f in facts:\n",
    "        time = f[-1]\n",
    "        if head != '':\n",
    "            if f[0] != head:\n",
    "                continue\n",
    "        if tail != '':\n",
    "            if f[2] != tail:\n",
    "                continue\n",
    "        if time > maxTime:\n",
    "            maxTime = time\n",
    "            fact = f\n",
    "    return fact\n",
    "\n",
    "def getFactWithMinimumTime(facts, head = '', tail = ''):\n",
    "    minTime = 9999\n",
    "    fact = facts[0]\n",
    "    for f in facts:\n",
    "        time = f[-1]\n",
    "        if head != '':\n",
    "            if f[0] != head:\n",
    "                continue\n",
    "        if tail != '':\n",
    "            if f[2] != tail:\n",
    "                continue\n",
    "        if time < minTime:\n",
    "            minTime = time\n",
    "            fact = f\n",
    "    return fact\n",
    "\n",
    "\n",
    "def genEntityComplex2(facts, head, tail, after=True):\n",
    "    # before/after\n",
    "    template = \"Who was the {tail} {type} {head}?\"\n",
    "    # before: find argmin(T) (head, r, tail, T)\n",
    "    # then, find argmax(T')(head, r, tail', T'), T' < T and head' != head\n",
    "    # tail' is the answer\n",
    "    if after == False:\n",
    "        base_fact = getFactWithMinimumTime(facts, head = head, tail = tail)\n",
    "        time = base_fact[-1]\n",
    "        maxTime = -1\n",
    "        for f in facts:\n",
    "            time2 = f[-1]\n",
    "            if time2 >= time:\n",
    "                continue\n",
    "            if f[0] == head:\n",
    "                continue\n",
    "            if f[2] != tail:\n",
    "                continue\n",
    "            if time2 > maxTime:\n",
    "                maxTime = time2\n",
    "        answers = set()\n",
    "        for f in facts:\n",
    "            time2 = f[-1]\n",
    "            if f[0] == head:\n",
    "                continue\n",
    "            if f[2] != tail:\n",
    "                continue\n",
    "            if time2 == maxTime:\n",
    "                answers.add(f[0])\n",
    "        question = template.format(head=head, type=\"before\", tail=tail)\n",
    "    else:\n",
    "        #after: find argmax(T) (head, r, tail, T)\n",
    "        # then, find argmin(T') (head, r, tail', T'), T' > T and head' != head\n",
    "        # tail' is the answer\n",
    "        base_fact = getFactWithMaximumTime(facts, head = head, tail = tail)\n",
    "        time = base_fact[-1]\n",
    "        minTime = 9999\n",
    "        for f in facts:\n",
    "            time2 = f[-1]\n",
    "            if time2 <= time:\n",
    "                continue\n",
    "            if f[0] == head:\n",
    "                continue\n",
    "            if f[2] != tail:\n",
    "                continue\n",
    "            if time2 < minTime:\n",
    "                minTime = time2\n",
    "        answers = set()\n",
    "        for f in facts:\n",
    "            time2 = f[-1]\n",
    "            if f[0] == head:\n",
    "                continue\n",
    "            if f[2] != tail:\n",
    "                continue\n",
    "            if time2 == minTime:\n",
    "                answers.add(f[0])\n",
    "        question = template.format(head=head, type=\"after\", tail=tail)\n",
    "    answer_type = 'entity'\n",
    "    entities = set([head, tail])\n",
    "    times = set()\n",
    "    relations = set(['P39'])\n",
    "    if len(answers)==0:\n",
    "        return None\n",
    "    output = {'question': question,\n",
    "             'answers': answers,\n",
    "             'answer_type': answer_type,\n",
    "             'template': template,\n",
    "             'entities': entities,\n",
    "             'times': times,\n",
    "             'relations': relations}\n",
    "    return output\n",
    "    \n",
    "# def genEntityComplex3(facts, head1, head2, tail):\n",
    "#     template = \"Which team did {head1} play for when {head2} was playing for \"\n",
    "\n",
    "\n",
    "def genEntityComplex3(facts, head, tail, tail2):\n",
    "    template = \"Who held the position of {tail2} when {head} was the {tail}?\"\n",
    "    # first get all time instances when head played for tail\n",
    "    # then get all heads, where tail' = tail and time' in T\n",
    "    valid_times = set()\n",
    "    for f in facts:\n",
    "        if f[0] == head and f[2] == tail:\n",
    "            valid_times.add(f[-1])\n",
    "    answers = set()\n",
    "    for f in facts:\n",
    "        if f[2] == tail2 and f[-1] in valid_times:\n",
    "            answers.add(f[0])\n",
    "    question = template.format(head=head, tail=tail, tail2=tail2)\n",
    "    answer_type = 'entity'\n",
    "    entities = set([head, tail, tail2])\n",
    "    times = set()\n",
    "    relations = set(['P39'])\n",
    "    if len(answers)==0:\n",
    "        return None\n",
    "    output = {'question': question,\n",
    "             'answers': answers,\n",
    "             'answer_type': answer_type,\n",
    "             'template': template,\n",
    "             'entities': entities,\n",
    "             'times': times,\n",
    "             'relations': relations}\n",
    "    return output\n",
    "    \n",
    "def genEventQuestion(facts, events_fact, tail):\n",
    "    event_head = events_fact[0]\n",
    "    template = \"Who held the position of {tail} during {event_head}?\"\n",
    "    valid_times = set()\n",
    "    start_time = int(events_fact[-2])\n",
    "    end_time = int(events_fact[-1])\n",
    "    for i in range(start_time, end_time + 1):\n",
    "        valid_times.add(i)\n",
    "    answers = set()\n",
    "    for f in facts:\n",
    "        if f[2] == tail and f[-1] in valid_times:\n",
    "            answers.add(f[0])\n",
    "    question = template.format(event_head=event_head, tail=tail)\n",
    "    answer_type = 'entity'\n",
    "    entities = set([tail, event_head])\n",
    "    times = set()\n",
    "    relations = set(['P39'])\n",
    "    if len(answers)==0:\n",
    "        return None\n",
    "    output = {'question': question,\n",
    "             'answers': answers,\n",
    "             'answer_type': answer_type,\n",
    "             'template': template,\n",
    "             'entities': entities,\n",
    "             'times': times,\n",
    "             'relations': relations}\n",
    "    return output\n",
    "\n",
    "def genEventQuestion2(facts, events_fact, tail, after=True):\n",
    "    event_head = events_fact[0]\n",
    "    template = \"Who held the position of {tail} {type} {event_head}?\"\n",
    "    answers = set()\n",
    "    # event happened at some time\n",
    "    # choose all times before/after that time\n",
    "    # choose fact with tail=tail with max/min time in those valid times\n",
    "    # head of that fact is the answer\n",
    "    if after == False:\n",
    "        # before\n",
    "        # get upper limit time\n",
    "        upper_limit = int(events_fact[-2])\n",
    "        maxTime = -1\n",
    "        # now get the fact with time < upper_limit\n",
    "        for f in facts:\n",
    "            time = f[-1]\n",
    "            if time >= upper_limit:\n",
    "                continue\n",
    "            if tail != f[2]:\n",
    "                continue\n",
    "            if time > maxTime:\n",
    "                maxTime = time\n",
    "        answers = set()\n",
    "        for f in facts:\n",
    "            time = f[-1]\n",
    "            if tail != f[2] or head==f[0]:\n",
    "                continue\n",
    "            if time == maxTime:\n",
    "                answers.add(f[0])\n",
    "        question = template.format(event_head=event_head, type=\"before\", tail=tail)\n",
    "    else:\n",
    "        # after\n",
    "        # get lower limit time\n",
    "        lower_limit = int(events_fact[-1])\n",
    "        minTime = 99999\n",
    "        # now get the fact with time > lower_limit\n",
    "        for f in facts:\n",
    "            time = f[-1]\n",
    "            if time <= lower_limit:\n",
    "                continue\n",
    "            if tail != f[2]:\n",
    "                continue\n",
    "            if time < minTime:\n",
    "                minTime = time\n",
    "        answers = set()\n",
    "        for f in facts:\n",
    "            time = f[-1]\n",
    "            if tail != f[2] or head==f[0]:\n",
    "                continue\n",
    "            if time == minTime:\n",
    "                answers.add(f[0])\n",
    "        question = template.format(event_head=event_head, type=\"after\", tail=tail)\n",
    "    answer_type = 'entity'\n",
    "    entities = set([tail, event_head])\n",
    "    times = set()\n",
    "    relations = set(['P39'])\n",
    "    if len(answers)==0:\n",
    "        return None\n",
    "    output = {'question': question,\n",
    "             'answers': answers,\n",
    "             'answer_type': answer_type,\n",
    "             'template': template,\n",
    "             'entities': entities,\n",
    "             'times': times,\n",
    "             'relations': relations}\n",
    "    return output\n",
    "\n",
    "def areFactsSame(f1, f2):\n",
    "    flag = True\n",
    "    for i in range(3):\n",
    "        if f1[i] != f2[i]:\n",
    "            flag = False\n",
    "            break\n",
    "    return flag\n",
    "\n",
    "def toQuestionJSON(question, answers, template, wikidata_identifier_to_text):\n",
    "    output = {}\n",
    "    output['']"
   ]
  },
  {
   "cell_type": "code",
   "execution_count": 23,
   "metadata": {},
   "outputs": [],
   "source": [
    "entities = readFile('fb_wikidata/entities')\n",
    "relations = readFile('fb_wikidata/predicates')"
   ]
  },
  {
   "cell_type": "code",
   "execution_count": 24,
   "metadata": {},
   "outputs": [],
   "source": [
    "wikidata_identifier_to_text = createWikidataIdentifierToTextDict(entities, relations)\n",
    "text_to_wikidata_identifier = {v: k for k, v in wikidata_identifier_to_text.items()}"
   ]
  },
  {
   "cell_type": "code",
   "execution_count": 39,
   "metadata": {},
   "outputs": [],
   "source": [
    "# positionFactsSingle = [convertFactToText(f, wikidata_identifier_to_text) for f in sportsFactsSingle]\n",
    "positionFactsSingle = sportsFactsSingle"
   ]
  },
  {
   "cell_type": "code",
   "execution_count": null,
   "metadata": {},
   "outputs": [],
   "source": [
    "posi"
   ]
  },
  {
   "cell_type": "code",
   "execution_count": 26,
   "metadata": {},
   "outputs": [
    {
     "data": {
      "text/plain": [
       "{'question': 'When did Q324970 hold the position of Q2047357?',\n",
       " 'answers': {1935,\n",
       "  1936,\n",
       "  1937,\n",
       "  1938,\n",
       "  1939,\n",
       "  1940,\n",
       "  1941,\n",
       "  1942,\n",
       "  1943,\n",
       "  1944,\n",
       "  1945,\n",
       "  1946},\n",
       " 'answer_type': 'time',\n",
       " 'template': 'When did {head} hold the position of {tail}?',\n",
       " 'entities': {'Q2047357', 'Q324970'},\n",
       " 'times': set(),\n",
       " 'relations': {'P39'}}"
      ]
     },
     "execution_count": 26,
     "metadata": {},
     "output_type": "execute_result"
    }
   ],
   "source": [
    "id = 600\n",
    "f = positionFactsSingle[id]\n",
    "genTimeSimple1(positionFactsSingle, f)"
   ]
  },
  {
   "cell_type": "code",
   "execution_count": 27,
   "metadata": {},
   "outputs": [
    {
     "data": {
      "text/plain": [
       "{'question': 'When did the first Q2047357 come to power?',\n",
       " 'answers': {1813},\n",
       " 'answer_type': 'time',\n",
       " 'template': 'When did the {adj} {tail} come to power?',\n",
       " 'entities': {'Q2047357'},\n",
       " 'times': set(),\n",
       " 'relations': {'P39'}}"
      ]
     },
     "execution_count": 27,
     "metadata": {},
     "output_type": "execute_result"
    }
   ],
   "source": [
    "genTimeComplex2(positionFactsSingle, f[2], first=True)"
   ]
  },
  {
   "cell_type": "code",
   "execution_count": 28,
   "metadata": {},
   "outputs": [
    {
     "data": {
      "text/plain": [
       "{'question': 'When was the first time that Q324970 was the Q2047357?',\n",
       " 'answers': {1935},\n",
       " 'answer_type': 'time',\n",
       " 'template': 'When was the {adj} time that {head} was the {tail}?',\n",
       " 'entities': {'Q2047357', 'Q324970'},\n",
       " 'times': set(),\n",
       " 'relations': {'P39'}}"
      ]
     },
     "execution_count": 28,
     "metadata": {},
     "output_type": "execute_result"
    }
   ],
   "source": [
    "genTimeComplex1(positionFactsSingle, f[0], f[2], first=True)"
   ]
  },
  {
   "cell_type": "code",
   "execution_count": 29,
   "metadata": {},
   "outputs": [
    {
     "data": {
      "text/plain": [
       "{'question': 'Who was the Q2047357 in 1946?',\n",
       " 'answers': {'Q324970'},\n",
       " 'answer_type': 'entity',\n",
       " 'template': 'Who was the {tail} in {time}?',\n",
       " 'entities': {'Q2047357'},\n",
       " 'times': {1946},\n",
       " 'relations': {'P39'}}"
      ]
     },
     "execution_count": 29,
     "metadata": {},
     "output_type": "execute_result"
    }
   ],
   "source": [
    "genEntitySimple1(positionFactsSingle, f[2], f[-1])"
   ]
  },
  {
   "cell_type": "code",
   "execution_count": 30,
   "metadata": {},
   "outputs": [
    {
     "data": {
      "text/plain": [
       "{'question': 'Who was the first Q2047357?',\n",
       " 'answers': {'Q26286363'},\n",
       " 'answer_type': 'entity',\n",
       " 'template': 'Who was the {adj} {tail}?',\n",
       " 'entities': {'Q2047357'},\n",
       " 'times': set(),\n",
       " 'relations': {'P39'}}"
      ]
     },
     "execution_count": 30,
     "metadata": {},
     "output_type": "execute_result"
    }
   ],
   "source": [
    "genEntityComplex1(positionFactsSingle, f[2], first=True)"
   ]
  },
  {
   "cell_type": "code",
   "execution_count": 31,
   "metadata": {},
   "outputs": [
    {
     "data": {
      "text/plain": [
       "{'question': 'Who was the Q2047357 after Q324970?',\n",
       " 'answers': {'Q1790063'},\n",
       " 'answer_type': 'entity',\n",
       " 'template': 'Who was the {tail} {type} {head}?',\n",
       " 'entities': {'Q2047357', 'Q324970'},\n",
       " 'times': set(),\n",
       " 'relations': {'P39'}}"
      ]
     },
     "execution_count": 31,
     "metadata": {},
     "output_type": "execute_result"
    }
   ],
   "source": [
    "genEntityComplex2(positionFactsSingle, f[0], f[2], after=True)"
   ]
  },
  {
   "cell_type": "code",
   "execution_count": 32,
   "metadata": {},
   "outputs": [
    {
     "data": {
      "text/plain": [
       "{'question': 'Who held the position of Prime minister of India when Q324970 was the Q2047357?',\n",
       " 'answers': set(),\n",
       " 'answer_type': 'entity',\n",
       " 'template': 'Who held the position of {tail2} when {head} was the {tail}?',\n",
       " 'entities': {'Prime minister of India', 'Q2047357', 'Q324970'},\n",
       " 'times': set(),\n",
       " 'relations': {'P39'}}"
      ]
     },
     "execution_count": 32,
     "metadata": {},
     "output_type": "execute_result"
    }
   ],
   "source": [
    "genEntityComplex3(positionFactsSingle, f[0], f[2], 'Prime minister of India')"
   ]
  },
  {
   "cell_type": "code",
   "execution_count": 33,
   "metadata": {},
   "outputs": [],
   "source": [
    "# with (open(\"temporal_events_as_text_facts.pkl\", \"rb\")) as openfile:\n",
    "#     events_facts = pickle.load(openfile)\n",
    "# events_facts = readFactsFromFile('facts_temporal_event.txt')\n",
    "\n",
    "# events facts are already there in facts"
   ]
  },
  {
   "cell_type": "code",
   "execution_count": 25,
   "metadata": {},
   "outputs": [],
   "source": [
    "def getEventsFactsFromFacts(facts):\n",
    "    events_facts = []\n",
    "    for f in facts:\n",
    "        rel = f[1]\n",
    "        tail = f[2]\n",
    "        if rel == 'P793' and tail == 'Q1190554': # significant event and occurrence\n",
    "#         if rel == 'P39' and tail == 'Q1190554': # significant event and occurrence\n",
    "            events_facts.append(f)\n",
    "    return events_facts\n",
    "events_facts = getEventsFactsFromFacts(facts)\n"
   ]
  },
  {
   "cell_type": "code",
   "execution_count": 46,
   "metadata": {},
   "outputs": [],
   "source": [
    "# len(events_facts)\n",
    "import pickle as pkl\n",
    "def get_facts_from_ent(entname):\n",
    "    idx=name2ent[entname]\n",
    "    facts_=[]\n",
    "    for fact in events_facts:\n",
    "        if (fact[0]==idx or fact[2]==idx):\n",
    "            fact=(ent2name[fact[0]],rel2name[fact[1]],ent2name[fact[2]],fact[3],fact[4])\n",
    "            facts_.append(fact)\n",
    "            print(fact)\n",
    "    return facts_\n",
    "def openFileAsDict(filename):\n",
    "    f = open(filename, 'r')\n",
    "    out = {}\n",
    "    for line in f:\n",
    "        line = line[:-1].split('\\t') # can't strip() since name can be whitespace\n",
    "        out[line[0]] = line[1]\n",
    "    return out\n",
    "ent2name = openFileAsDict( '../Temporal_KGQA/data/wikidata_big/kg/wd_id2entity_text.txt')\n",
    "rel2name = openFileAsDict( '../Temporal_KGQA/data/wikidata_big/kg/wd_id2relation_text.txt')\n",
    "name2ent={i:j for (j,i) in ent2name.items()}\n",
    "name2rel={i:j for (j,i) in rel2name.items()}\n",
    "\n",
    "ent2id=pkl.load(open(\"../Temporal_KGQA/data/wikidata_big/kg/tkbc_processed_data/wikidata_big/ent_id\",\"rb\"))\n",
    "rel2id=pkl.load(open(\"../Temporal_KGQA/data/wikidata_big/kg/tkbc_processed_data/wikidata_big/rel_id\",\"rb\"))\n",
    "id2ent={i:j for (j,i) in ent2id.items()}\n",
    "id2rel={i:j for (j,i) in rel2id.items()}\n",
    "id2relname={i:rel2name[id2rel[i]] for i in id2rel}\n",
    "id2entname={i:ent2name[id2ent[i]] for i in id2ent}\n"
   ]
  },
  {
   "cell_type": "code",
   "execution_count": 32,
   "metadata": {},
   "outputs": [
    {
     "data": {
      "text/plain": [
       "'Q18534408'"
      ]
     },
     "execution_count": 32,
     "metadata": {},
     "output_type": "execute_result"
    }
   ],
   "source": [
    "name2ent[\"Member of the Victorian Legislative Assembly\"]"
   ]
  },
  {
   "cell_type": "code",
   "execution_count": 49,
   "metadata": {},
   "outputs": [
    {
     "name": "stdout",
     "output_type": "stream",
     "text": [
      "('2012 Summer Olympics', 'significant event', 'occurrence', '2012', '2012')\n"
     ]
    }
   ],
   "source": [
    "facts_reqd=get_facts_from_ent(\"2012 Summer Olympics\")"
   ]
  },
  {
   "cell_type": "code",
   "execution_count": 36,
   "metadata": {},
   "outputs": [
    {
     "data": {
      "text/plain": [
       "{'question': 'Who held the position of Q11696 during Q362?',\n",
       " 'answers': {'Q11613', 'Q8007'},\n",
       " 'answer_type': 'entity',\n",
       " 'template': 'Who held the position of {tail} during {event_head}?',\n",
       " 'entities': {'Q11696', 'Q362'},\n",
       " 'times': set(),\n",
       " 'relations': {'P39'}}"
      ]
     },
     "execution_count": 36,
     "metadata": {},
     "output_type": "execute_result"
    }
   ],
   "source": [
    "genEventQuestion(positionFactsSingle, events_facts[0], 'Q11696')"
   ]
  },
  {
   "cell_type": "code",
   "execution_count": 54,
   "metadata": {},
   "outputs": [
    {
     "name": "stdout",
     "output_type": "stream",
     "text": [
      "[('2012 Summer Olympics', 'significant event', 'occurrence', '2012', '2012')]\n",
      "Rupert Hamer position held Member of the Victorian Legislative Assembly 1971\n",
      "Rupert Hamer position held Member of the Victorian Legislative Assembly 1972\n",
      "Rupert Hamer position held Member of the Victorian Legislative Assembly 1973\n",
      "Rupert Hamer position held Member of the Victorian Legislative Assembly 1974\n",
      "Rupert Hamer position held Member of the Victorian Legislative Assembly 1975\n",
      "Rupert Hamer position held Member of the Victorian Legislative Assembly 1976\n",
      "Rupert Hamer position held Member of the Victorian Legislative Assembly 1977\n",
      "Rupert Hamer position held Member of the Victorian Legislative Assembly 1978\n",
      "Rupert Hamer position held Member of the Victorian Legislative Assembly 1979\n",
      "Rupert Hamer position held Member of the Victorian Legislative Assembly 1980\n",
      "Rupert Hamer position held Member of the Victorian Legislative Assembly 1981\n",
      "James Vinton Smith position held Member of the Victorian Legislative Assembly 1932\n",
      "James Vinton Smith position held Member of the Victorian Legislative Assembly 1933\n",
      "James Vinton Smith position held Member of the Victorian Legislative Assembly 1934\n",
      "James Vinton Smith position held Member of the Victorian Legislative Assembly 1935\n",
      "James Vinton Smith position held Member of the Victorian Legislative Assembly 1936\n",
      "James Vinton Smith position held Member of the Victorian Legislative Assembly 1937\n",
      "William Ruthven position held Member of the Victorian Legislative Assembly 1955\n",
      "William Ruthven position held Member of the Victorian Legislative Assembly 1956\n",
      "William Ruthven position held Member of the Victorian Legislative Assembly 1957\n",
      "William Ruthven position held Member of the Victorian Legislative Assembly 1958\n",
      "William Ruthven position held Member of the Victorian Legislative Assembly 1959\n",
      "William Ruthven position held Member of the Victorian Legislative Assembly 1960\n",
      "William Ruthven position held Member of the Victorian Legislative Assembly 1961\n",
      "John Thwaites position held Member of the Victorian Legislative Assembly 1992\n",
      "John Thwaites position held Member of the Victorian Legislative Assembly 1993\n",
      "John Thwaites position held Member of the Victorian Legislative Assembly 1994\n",
      "John Thwaites position held Member of the Victorian Legislative Assembly 1995\n",
      "John Thwaites position held Member of the Victorian Legislative Assembly 1996\n",
      "John Thwaites position held Member of the Victorian Legislative Assembly 1997\n",
      "John Thwaites position held Member of the Victorian Legislative Assembly 1998\n",
      "John Thwaites position held Member of the Victorian Legislative Assembly 1999\n",
      "John Thwaites position held Member of the Victorian Legislative Assembly 2000\n",
      "John Thwaites position held Member of the Victorian Legislative Assembly 2001\n",
      "John Thwaites position held Member of the Victorian Legislative Assembly 2002\n",
      "John Thwaites position held Member of the Victorian Legislative Assembly 2003\n",
      "John Thwaites position held Member of the Victorian Legislative Assembly 2004\n",
      "John Thwaites position held Member of the Victorian Legislative Assembly 2005\n",
      "John Thwaites position held Member of the Victorian Legislative Assembly 2006\n",
      "John Thwaites position held Member of the Victorian Legislative Assembly 2007\n",
      "William Haworth position held Member of the Victorian Legislative Assembly 1937\n",
      "William Haworth position held Member of the Victorian Legislative Assembly 1938\n",
      "William Haworth position held Member of the Victorian Legislative Assembly 1939\n",
      "William Haworth position held Member of the Victorian Legislative Assembly 1940\n",
      "William Haworth position held Member of the Victorian Legislative Assembly 1941\n",
      "William Haworth position held Member of the Victorian Legislative Assembly 1942\n",
      "William Haworth position held Member of the Victorian Legislative Assembly 1943\n",
      "William Haworth position held Member of the Victorian Legislative Assembly 1944\n",
      "William Haworth position held Member of the Victorian Legislative Assembly 1945\n",
      "Archibald Michie position held Member of the Victorian Legislative Assembly 1856\n",
      "Archibald Michie position held Member of the Victorian Legislative Assembly 1857\n",
      "Archibald Michie position held Member of the Victorian Legislative Assembly 1858\n",
      "Archibald Michie position held Member of the Victorian Legislative Assembly 1859\n",
      "Robert Harper position held Member of the Victorian Legislative Assembly 1879\n",
      "Robert Harper position held Member of the Victorian Legislative Assembly 1880\n",
      "Theo Sidiropoulos position held Member of the Victorian Legislative Assembly 1977\n",
      "Theo Sidiropoulos position held Member of the Victorian Legislative Assembly 1978\n",
      "Theo Sidiropoulos position held Member of the Victorian Legislative Assembly 1979\n",
      "Theo Sidiropoulos position held Member of the Victorian Legislative Assembly 1980\n",
      "Theo Sidiropoulos position held Member of the Victorian Legislative Assembly 1981\n",
      "Theo Sidiropoulos position held Member of the Victorian Legislative Assembly 1982\n",
      "Theo Sidiropoulos position held Member of the Victorian Legislative Assembly 1983\n",
      "Theo Sidiropoulos position held Member of the Victorian Legislative Assembly 1984\n",
      "Theo Sidiropoulos position held Member of the Victorian Legislative Assembly 1985\n",
      "Theo Sidiropoulos position held Member of the Victorian Legislative Assembly 1986\n",
      "Theo Sidiropoulos position held Member of the Victorian Legislative Assembly 1987\n",
      "Theo Sidiropoulos position held Member of the Victorian Legislative Assembly 1988\n",
      "Robert Menzies position held Member of the Victorian Legislative Assembly 1929\n",
      "Robert Menzies position held Member of the Victorian Legislative Assembly 1930\n",
      "Robert Menzies position held Member of the Victorian Legislative Assembly 1931\n",
      "Robert Menzies position held Member of the Victorian Legislative Assembly 1932\n",
      "Robert Menzies position held Member of the Victorian Legislative Assembly 1933\n",
      "Robert Menzies position held Member of the Victorian Legislative Assembly 1934\n",
      "Steve Bracks position held Member of the Victorian Legislative Assembly 1994\n",
      "Steve Bracks position held Member of the Victorian Legislative Assembly 1995\n",
      "Steve Bracks position held Member of the Victorian Legislative Assembly 1996\n",
      "Steve Bracks position held Member of the Victorian Legislative Assembly 1997\n",
      "Steve Bracks position held Member of the Victorian Legislative Assembly 1998\n",
      "Steve Bracks position held Member of the Victorian Legislative Assembly 1999\n",
      "Steve Bracks position held Member of the Victorian Legislative Assembly 2000\n",
      "Steve Bracks position held Member of the Victorian Legislative Assembly 2001\n",
      "Steve Bracks position held Member of the Victorian Legislative Assembly 2002\n",
      "Steve Bracks position held Member of the Victorian Legislative Assembly 2003\n",
      "Steve Bracks position held Member of the Victorian Legislative Assembly 2004\n",
      "Steve Bracks position held Member of the Victorian Legislative Assembly 2005\n",
      "Steve Bracks position held Member of the Victorian Legislative Assembly 2006\n",
      "Steve Bracks position held Member of the Victorian Legislative Assembly 2007\n",
      "Clyde Holding position held Member of the Victorian Legislative Assembly 1962\n",
      "Clyde Holding position held Member of the Victorian Legislative Assembly 1963\n",
      "Clyde Holding position held Member of the Victorian Legislative Assembly 1964\n",
      "Clyde Holding position held Member of the Victorian Legislative Assembly 1965\n",
      "Clyde Holding position held Member of the Victorian Legislative Assembly 1966\n",
      "Clyde Holding position held Member of the Victorian Legislative Assembly 1967\n",
      "Clyde Holding position held Member of the Victorian Legislative Assembly 1968\n",
      "Clyde Holding position held Member of the Victorian Legislative Assembly 1969\n",
      "Clyde Holding position held Member of the Victorian Legislative Assembly 1970\n",
      "Clyde Holding position held Member of the Victorian Legislative Assembly 1971\n",
      "Clyde Holding position held Member of the Victorian Legislative Assembly 1972\n",
      "Clyde Holding position held Member of the Victorian Legislative Assembly 1973\n",
      "Clyde Holding position held Member of the Victorian Legislative Assembly 1974\n",
      "Clyde Holding position held Member of the Victorian Legislative Assembly 1975\n",
      "Clyde Holding position held Member of the Victorian Legislative Assembly 1976\n",
      "Clyde Holding position held Member of the Victorian Legislative Assembly 1977\n",
      "Thomas Maltby position held Member of the Victorian Legislative Assembly 1929\n",
      "Thomas Maltby position held Member of the Victorian Legislative Assembly 1930\n",
      "Thomas Maltby position held Member of the Victorian Legislative Assembly 1931\n",
      "Thomas Maltby position held Member of the Victorian Legislative Assembly 1932\n",
      "Thomas Maltby position held Member of the Victorian Legislative Assembly 1933\n",
      "Thomas Maltby position held Member of the Victorian Legislative Assembly 1934\n",
      "Thomas Maltby position held Member of the Victorian Legislative Assembly 1935\n",
      "Thomas Maltby position held Member of the Victorian Legislative Assembly 1936\n",
      "Thomas Maltby position held Member of the Victorian Legislative Assembly 1937\n",
      "Thomas Maltby position held Member of the Victorian Legislative Assembly 1938\n",
      "Thomas Maltby position held Member of the Victorian Legislative Assembly 1939\n",
      "Thomas Maltby position held Member of the Victorian Legislative Assembly 1940\n",
      "Thomas Maltby position held Member of the Victorian Legislative Assembly 1941\n",
      "Thomas Maltby position held Member of the Victorian Legislative Assembly 1942\n",
      "Thomas Maltby position held Member of the Victorian Legislative Assembly 1943\n",
      "Thomas Maltby position held Member of the Victorian Legislative Assembly 1944\n",
      "Thomas Maltby position held Member of the Victorian Legislative Assembly 1945\n",
      "Thomas Maltby position held Member of the Victorian Legislative Assembly 1946\n",
      "Thomas Maltby position held Member of the Victorian Legislative Assembly 1947\n",
      "Thomas Maltby position held Member of the Victorian Legislative Assembly 1948\n",
      "Thomas Maltby position held Member of the Victorian Legislative Assembly 1949\n",
      "Thomas Maltby position held Member of the Victorian Legislative Assembly 1950\n",
      "Thomas Maltby position held Member of the Victorian Legislative Assembly 1951\n",
      "Thomas Maltby position held Member of the Victorian Legislative Assembly 1952\n",
      "Thomas Maltby position held Member of the Victorian Legislative Assembly 1953\n",
      "Thomas Maltby position held Member of the Victorian Legislative Assembly 1954\n",
      "Thomas Maltby position held Member of the Victorian Legislative Assembly 1955\n",
      "Alfred Deakin position held Member of the Victorian Legislative Assembly 1879\n",
      "Murray Thompson position held Member of the Victorian Legislative Assembly 1992\n",
      "Murray Thompson position held Member of the Victorian Legislative Assembly 1993\n",
      "Murray Thompson position held Member of the Victorian Legislative Assembly 1994\n",
      "Murray Thompson position held Member of the Victorian Legislative Assembly 1995\n",
      "Murray Thompson position held Member of the Victorian Legislative Assembly 1996\n",
      "Murray Thompson position held Member of the Victorian Legislative Assembly 1997\n",
      "Murray Thompson position held Member of the Victorian Legislative Assembly 1998\n",
      "Murray Thompson position held Member of the Victorian Legislative Assembly 1999\n",
      "Murray Thompson position held Member of the Victorian Legislative Assembly 2000\n",
      "Murray Thompson position held Member of the Victorian Legislative Assembly 2001\n",
      "Murray Thompson position held Member of the Victorian Legislative Assembly 2002\n",
      "Murray Thompson position held Member of the Victorian Legislative Assembly 2003\n",
      "Murray Thompson position held Member of the Victorian Legislative Assembly 2004\n",
      "Murray Thompson position held Member of the Victorian Legislative Assembly 2005\n",
      "Murray Thompson position held Member of the Victorian Legislative Assembly 2006\n",
      "Murray Thompson position held Member of the Victorian Legislative Assembly 2007\n",
      "Murray Thompson position held Member of the Victorian Legislative Assembly 2008\n",
      "Murray Thompson position held Member of the Victorian Legislative Assembly 2009\n",
      "Murray Thompson position held Member of the Victorian Legislative Assembly 2010\n",
      "Murray Thompson position held Member of the Victorian Legislative Assembly 2011\n",
      "Murray Thompson position held Member of the Victorian Legislative Assembly 2012\n",
      "Murray Thompson position held Member of the Victorian Legislative Assembly 2013\n",
      "Murray Thompson position held Member of the Victorian Legislative Assembly 2014\n",
      "Murray Thompson position held Member of the Victorian Legislative Assembly 2015\n",
      "Murray Thompson position held Member of the Victorian Legislative Assembly 2016\n",
      "Murray Thompson position held Member of the Victorian Legislative Assembly 2017\n",
      "Murray Thompson position held Member of the Victorian Legislative Assembly 2018\n",
      "Alfred Deakin position held Member of the Victorian Legislative Assembly 1880\n",
      "Alfred Deakin position held Member of the Victorian Legislative Assembly 1881\n",
      "Alfred Deakin position held Member of the Victorian Legislative Assembly 1882\n",
      "Alfred Deakin position held Member of the Victorian Legislative Assembly 1883\n",
      "Alfred Deakin position held Member of the Victorian Legislative Assembly 1884\n",
      "Alfred Deakin position held Member of the Victorian Legislative Assembly 1885\n",
      "Alfred Deakin position held Member of the Victorian Legislative Assembly 1886\n",
      "Alfred Deakin position held Member of the Victorian Legislative Assembly 1887\n",
      "Alfred Deakin position held Member of the Victorian Legislative Assembly 1888\n",
      "Alfred Deakin position held Member of the Victorian Legislative Assembly 1889\n",
      "Bill Galvin position held Member of the Victorian Legislative Assembly 1958\n",
      "Bill Galvin position held Member of the Victorian Legislative Assembly 1959\n",
      "Bill Galvin position held Member of the Victorian Legislative Assembly 1960\n",
      "Bill Galvin position held Member of the Victorian Legislative Assembly 1961\n",
      "Bill Galvin position held Member of the Victorian Legislative Assembly 1962\n",
      "Bill Galvin position held Member of the Victorian Legislative Assembly 1963\n",
      "Bill Galvin position held Member of the Victorian Legislative Assembly 1964\n",
      "Alexander Fraser position held Member of the Victorian Legislative Assembly 1958\n",
      "Alexander Fraser position held Member of the Victorian Legislative Assembly 1959\n",
      "Alexander Fraser position held Member of the Victorian Legislative Assembly 1960\n",
      "Alexander Fraser position held Member of the Victorian Legislative Assembly 1961\n",
      "Alexander Fraser position held Member of the Victorian Legislative Assembly 1962\n",
      "Alexander Fraser position held Member of the Victorian Legislative Assembly 1963\n",
      "Alexander Fraser position held Member of the Victorian Legislative Assembly 1964\n",
      "Alexander Fraser position held Member of the Victorian Legislative Assembly 1965\n",
      "Justin Madden position held Member of the Victorian Legislative Assembly 2010\n",
      "Justin Madden position held Member of the Victorian Legislative Assembly 2011\n",
      "Justin Madden position held Member of the Victorian Legislative Assembly 2012\n",
      "Justin Madden position held Member of the Victorian Legislative Assembly 2013\n",
      "Justin Madden position held Member of the Victorian Legislative Assembly 2014\n",
      "Thomas Ryan position held Member of the Victorian Legislative Assembly 1917\n",
      "Thomas Ryan position held Member of the Victorian Legislative Assembly 1918\n",
      "Thomas Ryan position held Member of the Victorian Legislative Assembly 1919\n",
      "Thomas Ryan position held Member of the Victorian Legislative Assembly 1920\n",
      "Thomas Ryan position held Member of the Victorian Legislative Assembly 1921\n",
      "Thomas Ryan position held Member of the Victorian Legislative Assembly 1922\n",
      "Thomas Ryan position held Member of the Victorian Legislative Assembly 1923\n",
      "Thomas Ryan position held Member of the Victorian Legislative Assembly 1924\n",
      "Hamilton Lamb position held Member of the Victorian Legislative Assembly 1935\n",
      "Hamilton Lamb position held Member of the Victorian Legislative Assembly 1936\n",
      "Hamilton Lamb position held Member of the Victorian Legislative Assembly 1937\n",
      "Hamilton Lamb position held Member of the Victorian Legislative Assembly 1938\n",
      "Hamilton Lamb position held Member of the Victorian Legislative Assembly 1939\n",
      "Hamilton Lamb position held Member of the Victorian Legislative Assembly 1940\n",
      "Hamilton Lamb position held Member of the Victorian Legislative Assembly 1941\n",
      "Hamilton Lamb position held Member of the Victorian Legislative Assembly 1942\n",
      "Hamilton Lamb position held Member of the Victorian Legislative Assembly 1943\n",
      "Arthur Robinson position held Member of the Victorian Legislative Assembly 1900\n",
      "Arthur Robinson position held Member of the Victorian Legislative Assembly 1901\n",
      "Arthur Robinson position held Member of the Victorian Legislative Assembly 1902\n",
      "Robert Harper position held Member of the Victorian Legislative Assembly 1882\n",
      "Robert Harper position held Member of the Victorian Legislative Assembly 1883\n",
      "Robert Harper position held Member of the Victorian Legislative Assembly 1884\n",
      "Robert Harper position held Member of the Victorian Legislative Assembly 1885\n",
      "Robert Harper position held Member of the Victorian Legislative Assembly 1886\n",
      "Robert Harper position held Member of the Victorian Legislative Assembly 1887\n",
      "Robert Harper position held Member of the Victorian Legislative Assembly 1888\n",
      "Robert Harper position held Member of the Victorian Legislative Assembly 1889\n",
      "Doug Jennings position held Member of the Victorian Legislative Assembly 1976\n",
      "Doug Jennings position held Member of the Victorian Legislative Assembly 1977\n",
      "Doug Jennings position held Member of the Victorian Legislative Assembly 1978\n",
      "Doug Jennings position held Member of the Victorian Legislative Assembly 1979\n",
      "Michael Crutchfield position held Member of the Victorian Legislative Assembly 2002\n",
      "Michael Crutchfield position held Member of the Victorian Legislative Assembly 2003\n",
      "Michael Crutchfield position held Member of the Victorian Legislative Assembly 2004\n",
      "Michael Crutchfield position held Member of the Victorian Legislative Assembly 2005\n",
      "Michael Crutchfield position held Member of the Victorian Legislative Assembly 2006\n",
      "Michael Crutchfield position held Member of the Victorian Legislative Assembly 2007\n",
      "Michael Crutchfield position held Member of the Victorian Legislative Assembly 2008\n",
      "Michael Crutchfield position held Member of the Victorian Legislative Assembly 2009\n",
      "Michael Crutchfield position held Member of the Victorian Legislative Assembly 2010\n",
      "George Stephen position held Member of the Victorian Legislative Assembly 1859\n",
      "George Stephen position held Member of the Victorian Legislative Assembly 1860\n",
      "George Stephen position held Member of the Victorian Legislative Assembly 1861\n",
      "William Watt position held Member of the Victorian Legislative Assembly 1897\n",
      "William Watt position held Member of the Victorian Legislative Assembly 1898\n",
      "William Watt position held Member of the Victorian Legislative Assembly 1899\n",
      "William Watt position held Member of the Victorian Legislative Assembly 1900\n",
      "Wilfrid Kent Hughes position held Member of the Victorian Legislative Assembly 1927\n",
      "Wilfrid Kent Hughes position held Member of the Victorian Legislative Assembly 1928\n",
      "Wilfrid Kent Hughes position held Member of the Victorian Legislative Assembly 1929\n",
      "Wilfrid Kent Hughes position held Member of the Victorian Legislative Assembly 1930\n",
      "Wilfrid Kent Hughes position held Member of the Victorian Legislative Assembly 1931\n",
      "Wilfrid Kent Hughes position held Member of the Victorian Legislative Assembly 1932\n",
      "Wilfrid Kent Hughes position held Member of the Victorian Legislative Assembly 1933\n",
      "Wilfrid Kent Hughes position held Member of the Victorian Legislative Assembly 1934\n",
      "Wilfrid Kent Hughes position held Member of the Victorian Legislative Assembly 1935\n",
      "Wilfrid Kent Hughes position held Member of the Victorian Legislative Assembly 1936\n",
      "Wilfrid Kent Hughes position held Member of the Victorian Legislative Assembly 1937\n",
      "Wilfrid Kent Hughes position held Member of the Victorian Legislative Assembly 1938\n",
      "Wilfrid Kent Hughes position held Member of the Victorian Legislative Assembly 1939\n",
      "Wilfrid Kent Hughes position held Member of the Victorian Legislative Assembly 1940\n",
      "Wilfrid Kent Hughes position held Member of the Victorian Legislative Assembly 1941\n",
      "Wilfrid Kent Hughes position held Member of the Victorian Legislative Assembly 1942\n",
      "Wilfrid Kent Hughes position held Member of the Victorian Legislative Assembly 1943\n",
      "Wilfrid Kent Hughes position held Member of the Victorian Legislative Assembly 1944\n",
      "Wilfrid Kent Hughes position held Member of the Victorian Legislative Assembly 1945\n",
      "Wilfrid Kent Hughes position held Member of the Victorian Legislative Assembly 1946\n",
      "Wilfrid Kent Hughes position held Member of the Victorian Legislative Assembly 1947\n",
      "Wilfrid Kent Hughes position held Member of the Victorian Legislative Assembly 1948\n",
      "Wilfrid Kent Hughes position held Member of the Victorian Legislative Assembly 1949\n",
      "Thomas Hollway position held Member of the Victorian Legislative Assembly 1952\n",
      "Thomas Hollway position held Member of the Victorian Legislative Assembly 1953\n",
      "Thomas Hollway position held Member of the Victorian Legislative Assembly 1954\n",
      "Thomas Hollway position held Member of the Victorian Legislative Assembly 1955\n",
      "Joan Kirner position held Member of the Victorian Legislative Assembly 1988\n",
      "Joan Kirner position held Member of the Victorian Legislative Assembly 1989\n",
      "Joan Kirner position held Member of the Victorian Legislative Assembly 1990\n",
      "Joan Kirner position held Member of the Victorian Legislative Assembly 1991\n",
      "Joan Kirner position held Member of the Victorian Legislative Assembly 1992\n",
      "Joan Kirner position held Member of the Victorian Legislative Assembly 1993\n",
      "Joan Kirner position held Member of the Victorian Legislative Assembly 1994\n",
      "Frank Crean position held Member of the Victorian Legislative Assembly 1949\n",
      "Frank Crean position held Member of the Victorian Legislative Assembly 1950\n",
      "Frank Crean position held Member of the Victorian Legislative Assembly 1951\n",
      "Rupert Hamer position held Member of the Victorian Legislative Assembly 1971\n",
      "Rupert Hamer position held Member of the Victorian Legislative Assembly 1972\n",
      "Rupert Hamer position held Member of the Victorian Legislative Assembly 1973\n",
      "Rupert Hamer position held Member of the Victorian Legislative Assembly 1974\n",
      "Rupert Hamer position held Member of the Victorian Legislative Assembly 1975\n",
      "Rupert Hamer position held Member of the Victorian Legislative Assembly 1976\n",
      "Rupert Hamer position held Member of the Victorian Legislative Assembly 1977\n",
      "Rupert Hamer position held Member of the Victorian Legislative Assembly 1978\n",
      "Rupert Hamer position held Member of the Victorian Legislative Assembly 1979\n",
      "Rupert Hamer position held Member of the Victorian Legislative Assembly 1980\n",
      "Rupert Hamer position held Member of the Victorian Legislative Assembly 1981\n",
      "Frank Crean position held Member of the Victorian Legislative Assembly 1945\n",
      "Frank Crean position held Member of the Victorian Legislative Assembly 1946\n",
      "Frank Crean position held Member of the Victorian Legislative Assembly 1947\n",
      "Alexander Fraser position held Member of the Victorian Legislative Assembly 1950\n",
      "Alexander Fraser position held Member of the Victorian Legislative Assembly 1951\n",
      "Alexander Fraser position held Member of the Victorian Legislative Assembly 1952\n",
      "Isaac Isaacs position held Member of the Victorian Legislative Assembly 1892\n",
      "Isaac Isaacs position held Member of the Victorian Legislative Assembly 1893\n",
      "John Brumby position held Member of the Victorian Legislative Assembly 1993\n",
      "John Brumby position held Member of the Victorian Legislative Assembly 1994\n",
      "John Brumby position held Member of the Victorian Legislative Assembly 1995\n",
      "John Brumby position held Member of the Victorian Legislative Assembly 1996\n",
      "John Brumby position held Member of the Victorian Legislative Assembly 1997\n",
      "John Brumby position held Member of the Victorian Legislative Assembly 1998\n",
      "John Brumby position held Member of the Victorian Legislative Assembly 1999\n",
      "John Brumby position held Member of the Victorian Legislative Assembly 2000\n",
      "John Brumby position held Member of the Victorian Legislative Assembly 2001\n",
      "John Brumby position held Member of the Victorian Legislative Assembly 2002\n",
      "John Brumby position held Member of the Victorian Legislative Assembly 2003\n",
      "John Brumby position held Member of the Victorian Legislative Assembly 2004\n",
      "John Brumby position held Member of the Victorian Legislative Assembly 2005\n",
      "John Brumby position held Member of the Victorian Legislative Assembly 2006\n",
      "John Brumby position held Member of the Victorian Legislative Assembly 2007\n",
      "John Brumby position held Member of the Victorian Legislative Assembly 2008\n",
      "John Brumby position held Member of the Victorian Legislative Assembly 2009\n",
      "John Brumby position held Member of the Victorian Legislative Assembly 2010\n",
      "John Brumby position held Member of the Victorian Legislative Assembly 2011\n",
      "Alfred Deakin position held Member of the Victorian Legislative Assembly 1889\n",
      "Alfred Deakin position held Member of the Victorian Legislative Assembly 1890\n",
      "Alfred Deakin position held Member of the Victorian Legislative Assembly 1891\n",
      "Alfred Deakin position held Member of the Victorian Legislative Assembly 1892\n",
      "Alfred Deakin position held Member of the Victorian Legislative Assembly 1893\n",
      "Alfred Deakin position held Member of the Victorian Legislative Assembly 1894\n",
      "Alfred Deakin position held Member of the Victorian Legislative Assembly 1895\n",
      "Alfred Deakin position held Member of the Victorian Legislative Assembly 1896\n",
      "Alfred Deakin position held Member of the Victorian Legislative Assembly 1897\n",
      "Alfred Deakin position held Member of the Victorian Legislative Assembly 1898\n",
      "Alfred Deakin position held Member of the Victorian Legislative Assembly 1899\n",
      "Alfred Deakin position held Member of the Victorian Legislative Assembly 1900\n",
      "Alexander Fraser position held Member of the Victorian Legislative Assembly 1955\n",
      "Alexander Fraser position held Member of the Victorian Legislative Assembly 1956\n",
      "Alexander Fraser position held Member of the Victorian Legislative Assembly 1957\n",
      "Alexander Fraser position held Member of the Victorian Legislative Assembly 1958\n",
      "Lindsay Thompson position held Member of the Victorian Legislative Assembly 1970\n",
      "Lindsay Thompson position held Member of the Victorian Legislative Assembly 1971\n",
      "Lindsay Thompson position held Member of the Victorian Legislative Assembly 1972\n",
      "Lindsay Thompson position held Member of the Victorian Legislative Assembly 1973\n",
      "Lindsay Thompson position held Member of the Victorian Legislative Assembly 1974\n",
      "Lindsay Thompson position held Member of the Victorian Legislative Assembly 1975\n",
      "Lindsay Thompson position held Member of the Victorian Legislative Assembly 1976\n",
      "Lindsay Thompson position held Member of the Victorian Legislative Assembly 1977\n",
      "Lindsay Thompson position held Member of the Victorian Legislative Assembly 1978\n",
      "Lindsay Thompson position held Member of the Victorian Legislative Assembly 1979\n",
      "Lindsay Thompson position held Member of the Victorian Legislative Assembly 1980\n",
      "Lindsay Thompson position held Member of the Victorian Legislative Assembly 1981\n",
      "Lindsay Thompson position held Member of the Victorian Legislative Assembly 1982\n",
      "Jeff Kennett position held Member of the Victorian Legislative Assembly 1976\n",
      "Jeff Kennett position held Member of the Victorian Legislative Assembly 1977\n",
      "Jeff Kennett position held Member of the Victorian Legislative Assembly 1978\n",
      "Jeff Kennett position held Member of the Victorian Legislative Assembly 1979\n",
      "Jeff Kennett position held Member of the Victorian Legislative Assembly 1980\n",
      "Jeff Kennett position held Member of the Victorian Legislative Assembly 1981\n",
      "Jeff Kennett position held Member of the Victorian Legislative Assembly 1982\n",
      "Jeff Kennett position held Member of the Victorian Legislative Assembly 1983\n",
      "Jeff Kennett position held Member of the Victorian Legislative Assembly 1984\n",
      "Jeff Kennett position held Member of the Victorian Legislative Assembly 1985\n",
      "Jeff Kennett position held Member of the Victorian Legislative Assembly 1986\n",
      "Jeff Kennett position held Member of the Victorian Legislative Assembly 1987\n",
      "Jeff Kennett position held Member of the Victorian Legislative Assembly 1988\n",
      "Jeff Kennett position held Member of the Victorian Legislative Assembly 1989\n",
      "Jeff Kennett position held Member of the Victorian Legislative Assembly 1990\n",
      "Jeff Kennett position held Member of the Victorian Legislative Assembly 1991\n",
      "Jeff Kennett position held Member of the Victorian Legislative Assembly 1992\n",
      "Jeff Kennett position held Member of the Victorian Legislative Assembly 1993\n",
      "Jeff Kennett position held Member of the Victorian Legislative Assembly 1994\n",
      "Jeff Kennett position held Member of the Victorian Legislative Assembly 1995\n",
      "Jeff Kennett position held Member of the Victorian Legislative Assembly 1996\n",
      "Jeff Kennett position held Member of the Victorian Legislative Assembly 1997\n",
      "Jeff Kennett position held Member of the Victorian Legislative Assembly 1998\n",
      "Jeff Kennett position held Member of the Victorian Legislative Assembly 1999\n",
      "William Ruthven position held Member of the Victorian Legislative Assembly 1945\n",
      "William Ruthven position held Member of the Victorian Legislative Assembly 1946\n",
      "William Ruthven position held Member of the Victorian Legislative Assembly 1947\n",
      "William Ruthven position held Member of the Victorian Legislative Assembly 1948\n",
      "William Ruthven position held Member of the Victorian Legislative Assembly 1949\n",
      "William Ruthven position held Member of the Victorian Legislative Assembly 1950\n",
      "William Ruthven position held Member of the Victorian Legislative Assembly 1951\n",
      "William Ruthven position held Member of the Victorian Legislative Assembly 1952\n",
      "William Ruthven position held Member of the Victorian Legislative Assembly 1953\n",
      "William Ruthven position held Member of the Victorian Legislative Assembly 1954\n",
      "William Ruthven position held Member of the Victorian Legislative Assembly 1955\n",
      "Gratton Wilson position held Member of the Victorian Legislative Assembly 1902\n",
      "Gratton Wilson position held Member of the Victorian Legislative Assembly 1903\n",
      "Thomas Hollway position held Member of the Victorian Legislative Assembly 1932\n",
      "Thomas Hollway position held Member of the Victorian Legislative Assembly 1933\n",
      "Thomas Hollway position held Member of the Victorian Legislative Assembly 1934\n",
      "Thomas Hollway position held Member of the Victorian Legislative Assembly 1935\n",
      "Thomas Hollway position held Member of the Victorian Legislative Assembly 1936\n",
      "Thomas Hollway position held Member of the Victorian Legislative Assembly 1937\n",
      "Thomas Hollway position held Member of the Victorian Legislative Assembly 1938\n",
      "Thomas Hollway position held Member of the Victorian Legislative Assembly 1939\n",
      "Thomas Hollway position held Member of the Victorian Legislative Assembly 1940\n",
      "Thomas Hollway position held Member of the Victorian Legislative Assembly 1941\n",
      "Thomas Hollway position held Member of the Victorian Legislative Assembly 1942\n",
      "Thomas Hollway position held Member of the Victorian Legislative Assembly 1943\n",
      "Thomas Hollway position held Member of the Victorian Legislative Assembly 1944\n",
      "Thomas Hollway position held Member of the Victorian Legislative Assembly 1945\n",
      "Thomas Hollway position held Member of the Victorian Legislative Assembly 1946\n",
      "Thomas Hollway position held Member of the Victorian Legislative Assembly 1947\n",
      "Thomas Hollway position held Member of the Victorian Legislative Assembly 1948\n",
      "Thomas Hollway position held Member of the Victorian Legislative Assembly 1949\n",
      "Thomas Hollway position held Member of the Victorian Legislative Assembly 1950\n",
      "Thomas Hollway position held Member of the Victorian Legislative Assembly 1951\n",
      "Thomas Hollway position held Member of the Victorian Legislative Assembly 1952\n",
      "Thomas Maltby position held Member of the Victorian Legislative Assembly 1955\n",
      "Thomas Maltby position held Member of the Victorian Legislative Assembly 1956\n",
      "Thomas Maltby position held Member of the Victorian Legislative Assembly 1957\n",
      "Thomas Maltby position held Member of the Victorian Legislative Assembly 1958\n",
      "Thomas Maltby position held Member of the Victorian Legislative Assembly 1959\n",
      "Thomas Maltby position held Member of the Victorian Legislative Assembly 1960\n",
      "Thomas Maltby position held Member of the Victorian Legislative Assembly 1961\n",
      "Bill Galvin position held Member of the Victorian Legislative Assembly 1945\n",
      "Bill Galvin position held Member of the Victorian Legislative Assembly 1946\n",
      "Bill Galvin position held Member of the Victorian Legislative Assembly 1947\n",
      "Bill Galvin position held Member of the Victorian Legislative Assembly 1948\n",
      "Bill Galvin position held Member of the Victorian Legislative Assembly 1949\n",
      "Bill Galvin position held Member of the Victorian Legislative Assembly 1950\n",
      "Bill Galvin position held Member of the Victorian Legislative Assembly 1951\n",
      "Bill Galvin position held Member of the Victorian Legislative Assembly 1952\n",
      "Bill Galvin position held Member of the Victorian Legislative Assembly 1953\n",
      "Bill Galvin position held Member of the Victorian Legislative Assembly 1954\n",
      "Bill Galvin position held Member of the Victorian Legislative Assembly 1955\n"
     ]
    },
    {
     "data": {
      "text/plain": [
       "{'question': 'Who held the position of Q18534408 before 2012 Summer Olympics?',\n",
       " 'answers': {'Q6939485'},\n",
       " 'answer_type': 'entity',\n",
       " 'template': 'Who held the position of {tail} {type} {event_head}?',\n",
       " 'entities': {'2012 Summer Olympics', 'Q18534408'},\n",
       " 'times': set(),\n",
       " 'relations': {'P39'}}"
      ]
     },
     "execution_count": 54,
     "metadata": {},
     "output_type": "execute_result"
    }
   ],
   "source": [
    "print(facts_reqd)\n",
    "genEventQuestion2(positionFactsSingle, facts_reqd[0], 'Q18534408', after=False)"
   ]
  },
  {
   "cell_type": "code",
   "execution_count": 38,
   "metadata": {},
   "outputs": [
    {
     "data": {
      "text/plain": [
       "'President of the United States'"
      ]
     },
     "execution_count": 38,
     "metadata": {},
     "output_type": "execute_result"
    }
   ],
   "source": [
    "wikidata_identifier_to_text['Q11696']"
   ]
  },
  {
   "cell_type": "code",
   "execution_count": 39,
   "metadata": {},
   "outputs": [
    {
     "name": "stdout",
     "output_type": "stream",
     "text": [
      "{'question': 'When did Q7173773 hold the position of Q20165902?', 'answers': {1968, 1965, 1966, 1967}, 'answer_type': 'time', 'template': 'When did {head} hold the position of {tail}?', 'entities': {'Q7173773', 'Q20165902'}, 'times': set(), 'relations': {'P39'}}\n",
      "{'question': 'When did the first Q20165902 come to power?', 'answers': {1890}, 'answer_type': 'time', 'template': 'When did the {adj} {tail} come to power?', 'entities': {'Q20165902'}, 'times': set(), 'relations': {'P39'}}\n",
      "{'question': 'When was the first time that Q7173773 was the Q20165902?', 'answers': {1965}, 'answer_type': 'time', 'template': 'When was the {adj} time that {head} was the {tail}?', 'entities': {'Q7173773', 'Q20165902'}, 'times': set(), 'relations': {'P39'}}\n",
      "{'question': 'Who was the Q20165902 in 1966?', 'answers': {'Q7173773'}, 'answer_type': 'entity', 'template': 'Who was the {tail} in {time}?', 'entities': {'Q20165902'}, 'times': {1966}, 'relations': {'P39'}}\n",
      "{'question': 'Who was the first Q20165902?', 'answers': {'Q706734'}, 'answer_type': 'entity', 'template': 'Who was the {adj} {tail}?', 'entities': {'Q20165902'}, 'times': set(), 'relations': {'P39'}}\n",
      "{'question': 'Who was the Q20165902 after Q7173773?', 'answers': {'Q434475'}, 'answer_type': 'entity', 'template': 'Who was the {tail} {type} {head}?', 'entities': {'Q7173773', 'Q20165902'}, 'times': set(), 'relations': {'P39'}}\n",
      "{'question': 'Who held the position of Prime minister of India when Q7173773 was the Q20165902?', 'answers': set(), 'answer_type': 'entity', 'template': 'Who held the position of {tail2} when {head} was the {tail}?', 'entities': {'Q7173773', 'Q20165902', 'Prime minister of India'}, 'times': set(), 'relations': {'P39'}}\n",
      "{'question': 'Who held the position of President of the United States during Q362?', 'answers': set(), 'answer_type': 'entity', 'template': 'Who held the position of {tail} during {event_head}?', 'entities': {'President of the United States', 'Q362'}, 'times': set(), 'relations': {'P39'}}\n"
     ]
    }
   ],
   "source": [
    "id = 200\n",
    "f = positionFactsSingle[id]\n",
    "print(genTimeSimple1(positionFactsSingle, f))\n",
    "print(genTimeComplex2(positionFactsSingle, f[2], first=True))\n",
    "print(genTimeComplex1(positionFactsSingle, f[0], f[2], first=True))\n",
    "print(genEntitySimple1(positionFactsSingle, f[2], f[-1]))\n",
    "print(genEntityComplex1(positionFactsSingle, f[2], first=True))\n",
    "print(genEntityComplex2(positionFactsSingle, f[0], f[2], after=True))\n",
    "print(genEntityComplex3(positionFactsSingle, f[0], f[2], 'Prime minister of India'))\n",
    "print(genEventQuestion(positionFactsSingle, events_facts[0], 'President of the United States'))"
   ]
  },
  {
   "cell_type": "code",
   "execution_count": 40,
   "metadata": {},
   "outputs": [],
   "source": [
    "import random\n",
    "def makeQuestions(positionFactsSingle, events_facts, split_facts, f):\n",
    "    questions = []\n",
    "    questions.append(genTimeSimple1(positionFactsSingle, f))\n",
    "    questions.append(genTimeComplex2(positionFactsSingle, f[2], first=random.choice([True, False])))\n",
    "    questions.append(genTimeComplex1(positionFactsSingle, f[0], f[2], first=random.choice([True, False])))\n",
    "    questions.append(genEntitySimple1(positionFactsSingle, f[2], f[-1]))\n",
    "    questions.append(genEntityComplex1(positionFactsSingle, f[2], first=random.choice([True, False])))\n",
    "    questions.append(genEntityComplex2(positionFactsSingle, f[0], f[2], after=random.choice([True, False])))\n",
    "    questions.append(genEntityComplex3(positionFactsSingle, f[0], f[2], random.choice(split_facts)[2]))\n",
    "    # using only the first 10 events facts ?.?\n",
    "    # because we want world war II to be there\n",
    "    # which is the first event fact lol xD\n",
    "    questions.append(genEventQuestion(positionFactsSingle, random.choice(events_facts[:10]), f[2]))\n",
    "    questions.append(genEventQuestion2(positionFactsSingle, random.choice(events_facts[:10]), f[2], after=random.choice([True, False])))\n",
    "    return questions\n"
   ]
  },
  {
   "cell_type": "code",
   "execution_count": 41,
   "metadata": {},
   "outputs": [
    {
     "data": {
      "text/plain": [
       "0"
      ]
     },
     "execution_count": 41,
     "metadata": {},
     "output_type": "execute_result"
    }
   ],
   "source": [
    "train_ents = set(pickle.load(open('train_ents.pickle', 'rb')))\n",
    "test_ents = set(pickle.load(open('test_ents.pickle', 'rb')))\n",
    "\n",
    "len(train_ents.intersection(test_ents))"
   ]
  },
  {
   "cell_type": "code",
   "execution_count": 42,
   "metadata": {},
   "outputs": [
    {
     "data": {
      "text/plain": [
       "232721"
      ]
     },
     "execution_count": 42,
     "metadata": {},
     "output_type": "execute_result"
    }
   ],
   "source": [
    "import pickle\n",
    "dataset_split = 'train'\n",
    "split_entities = set(pickle.load(open(dataset_split + '_ents.pickle', 'rb')))\n",
    "split_facts = []\n",
    "my_facts = positionFactsSingle\n",
    "for f in my_facts:\n",
    "    if f[0] in split_entities and f[2] in split_entities:\n",
    "        split_facts.append(f)\n",
    "        \n",
    "len(split_facts)"
   ]
  },
  {
   "cell_type": "code",
   "execution_count": 43,
   "metadata": {},
   "outputs": [
    {
     "data": {
      "text/plain": [
       "91082"
      ]
     },
     "execution_count": 43,
     "metadata": {},
     "output_type": "execute_result"
    }
   ],
   "source": [
    "# how to get number of questions?\n",
    "# 1. set total questions to 300k\n",
    "# 2. get number of facts with this relation\n",
    "# 3. get how many questions u want of this relation as fraction\n",
    "# 4. choose 10% of that number for test, 90% for train\n",
    "max_dataset_questions = 300000\n",
    "relation_name = my_facts[0][1]\n",
    "num_relation_facts = len(filterByRelation(facts, relation_name, -1))\n",
    "# fraction of questions need to be decided based on fraction of question relation facts\n",
    "# not all facts!\n",
    "question_relation_list = ['P39', 'P166', 'P108', 'P54', 'P26']\n",
    "num_all_question_relation_facts = sum([len(filterByRelation(facts, x, -1)) for x in question_relation_list])\n",
    "num_questions_for_this_relation = int(max_dataset_questions * num_relation_facts/num_all_question_relation_facts)\n",
    "split_ratios = {'test': 0.1, 'train': 0.9}\n",
    "num_questions = int(split_ratios[dataset_split] * num_questions_for_this_relation)\n",
    "num_questions"
   ]
  },
  {
   "cell_type": "code",
   "execution_count": 44,
   "metadata": {},
   "outputs": [
    {
     "data": {
      "text/plain": [
       "232343"
      ]
     },
     "execution_count": 44,
     "metadata": {},
     "output_type": "execute_result"
    }
   ],
   "source": [
    "num_all_question_relation_facts"
   ]
  },
  {
   "cell_type": "code",
   "execution_count": 45,
   "metadata": {},
   "outputs": [
    {
     "name": "stderr",
     "output_type": "stream",
     "text": [
      "Num questions 36334, i 9061:   0%|          | 0/232721 [50:48<?, ?it/s]IOPub message rate exceeded.\n",
      "The notebook server will temporarily stop sending output\n",
      "to the client in order to avoid crashing it.\n",
      "To change this limit, set the config variable\n",
      "`--NotebookApp.iopub_msg_rate_limit`.\n",
      "\n",
      "Current values:\n",
      "NotebookApp.iopub_msg_rate_limit=1000.0 (msgs/sec)\n",
      "NotebookApp.rate_limit_window=3.0 (secs)\n",
      "\n",
      "Num questions 53752, i 14889:   0%|          | 0/232721 [1:45:28<?, ?it/s]IOPub message rate exceeded.\n",
      "The notebook server will temporarily stop sending output\n",
      "to the client in order to avoid crashing it.\n",
      "To change this limit, set the config variable\n",
      "`--NotebookApp.iopub_msg_rate_limit`.\n",
      "\n",
      "Current values:\n",
      "NotebookApp.iopub_msg_rate_limit=1000.0 (msgs/sec)\n",
      "NotebookApp.rate_limit_window=3.0 (secs)\n",
      "\n",
      "Num questions 68019, i 20219:   0%|          | 0/232721 [2:37:16<?, ?it/s]IOPub message rate exceeded.\n",
      "The notebook server will temporarily stop sending output\n",
      "to the client in order to avoid crashing it.\n",
      "To change this limit, set the config variable\n",
      "`--NotebookApp.iopub_msg_rate_limit`.\n",
      "\n",
      "Current values:\n",
      "NotebookApp.iopub_msg_rate_limit=1000.0 (msgs/sec)\n",
      "NotebookApp.rate_limit_window=3.0 (secs)\n",
      "\n",
      "Num questions 91079, i 30046:   0%|          | 0/232721 [4:14:13<?, ?it/s]"
     ]
    }
   ],
   "source": [
    "import random\n",
    "data = []\n",
    "# num_questions has been calculated above\n",
    "# num_questions = 100000\n",
    "\n",
    "events_facts_small = events_facts[:10]\n",
    "questions_set = set()\n",
    "\n",
    "pbar = tqdm(range(len(split_facts)))\n",
    "random.shuffle(split_facts)\n",
    "for i in range(len(split_facts)):\n",
    "#     f = random.choice(positionFactsSingle)\n",
    "    f = split_facts[i]\n",
    "    pbar.set_description(\"Num questions %d, i %d\" % (len(data), i))\n",
    "    questions = makeQuestions(my_facts, events_facts_small, split_facts, f)\n",
    "    for q in questions:\n",
    "        if len(q['answers']) > 0 and q['question'] not in questions_set:\n",
    "            data.append(q)\n",
    "            questions_set.add(q['question'])\n",
    "    if len(data) >= num_questions:\n",
    "        break"
   ]
  },
  {
   "cell_type": "code",
   "execution_count": 51,
   "metadata": {},
   "outputs": [
    {
     "data": {
      "text/plain": [
       "91082"
      ]
     },
     "execution_count": 51,
     "metadata": {},
     "output_type": "execute_result"
    }
   ],
   "source": [
    "len(data)"
   ]
  },
  {
   "cell_type": "code",
   "execution_count": 52,
   "metadata": {},
   "outputs": [],
   "source": [
    "def getQuestionTypeDistribution(data):\n",
    "    type_dict = {}\n",
    "    for d in data:\n",
    "        template = d['template']\n",
    "        if template not in type_dict:\n",
    "            type_dict[template] = 1\n",
    "        else:\n",
    "            type_dict[template] += 1\n",
    "    return type_dict"
   ]
  },
  {
   "cell_type": "code",
   "execution_count": 53,
   "metadata": {},
   "outputs": [
    {
     "data": {
      "text/plain": [
       "{'When did {head} hold the position of {tail}?': 16632,\n",
       " 'When did the {adj} {tail} come to power?': 1668,\n",
       " 'When was the {adj} time that {head} was the {tail}?': 21131,\n",
       " 'Who was the {tail} in {time}?': 10665,\n",
       " 'Who was the {adj} {tail}?': 1687,\n",
       " 'Who was the {tail} {type} {head}?': 14354,\n",
       " 'Who held the position of {tail2} when {head} was the {tail}?': 18034,\n",
       " 'Who held the position of {tail} during {event_head}?': 1999,\n",
       " 'Who held the position of {tail} {type} {event_head}?': 4912}"
      ]
     },
     "execution_count": 53,
     "metadata": {},
     "output_type": "execute_result"
    }
   ],
   "source": [
    "getQuestionTypeDistribution(data)"
   ]
  },
  {
   "cell_type": "code",
   "execution_count": 54,
   "metadata": {},
   "outputs": [],
   "source": [
    "import pickle\n",
    "# filename = 'data/questions/questions_position_held_big.pickle'\n",
    "filename = 'data/questions/{split}_questions_position_held_big.pickle'.format(\n",
    "            split=dataset_split)\n",
    "pickle.dump(data, open(filename, \"wb\"))"
   ]
  },
  {
   "cell_type": "code",
   "execution_count": null,
   "metadata": {},
   "outputs": [],
   "source": [
    "# y = readQuestions('questions_position_held.txt')\n",
    "# y[50:100]"
   ]
  },
  {
   "cell_type": "code",
   "execution_count": null,
   "metadata": {},
   "outputs": [],
   "source": [
    "data[50:100]"
   ]
  },
  {
   "cell_type": "code",
   "execution_count": 50,
   "metadata": {},
   "outputs": [
    {
     "data": {
      "text/plain": [
       "91082"
      ]
     },
     "execution_count": 50,
     "metadata": {},
     "output_type": "execute_result"
    }
   ],
   "source": [
    "len(data)"
   ]
  },
  {
   "cell_type": "code",
   "execution_count": null,
   "metadata": {},
   "outputs": [],
   "source": [
    "x = set()\n",
    "for d in data:\n",
    "    x.add(d['question'])\n",
    "len(x)"
   ]
  },
  {
   "cell_type": "code",
   "execution_count": null,
   "metadata": {},
   "outputs": [],
   "source": []
  }
 ],
 "metadata": {
  "kernelspec": {
   "display_name": "Python 3",
   "language": "python",
   "name": "python3"
  },
  "language_info": {
   "codemirror_mode": {
    "name": "ipython",
    "version": 3
   },
   "file_extension": ".py",
   "mimetype": "text/x-python",
   "name": "python",
   "nbconvert_exporter": "python",
   "pygments_lexer": "ipython3",
   "version": "3.8.8"
  }
 },
 "nbformat": 4,
 "nbformat_minor": 4
}
