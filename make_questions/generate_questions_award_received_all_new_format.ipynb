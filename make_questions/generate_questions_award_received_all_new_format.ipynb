{
 "cells": [
  {
   "cell_type": "code",
   "execution_count": 1,
   "metadata": {},
   "outputs": [],
   "source": [
    "from tqdm import tqdm\n",
    "import pickle\n",
    "\n",
    "# facts = pickle.load(open('wikidata_text_facts.txt', 'rb'))\n",
    "# facts = pickle.load(open('text_facts_v2.pkl', 'rb'))"
   ]
  },
  {
   "cell_type": "code",
   "execution_count": 2,
   "metadata": {},
   "outputs": [],
   "source": [
    "def getEntsFromFacts(facts):\n",
    "    e = set()\n",
    "    for f in facts:\n",
    "        e.add(f[0])\n",
    "        e.add(f[2])\n",
    "    return e\n",
    "\n",
    "def readFile(filename):\n",
    "    f = open(filename, 'r')\n",
    "    lines = []\n",
    "    for line in f:\n",
    "        line = line.strip()\n",
    "        if line != '':\n",
    "            lines.append(line)\n",
    "    f.close()\n",
    "    return lines\n",
    "\n",
    "def getRelsFromFacts(facts):\n",
    "    r = set()\n",
    "    for f in facts:\n",
    "        r.add(f[1])\n",
    "    return r\n",
    "\n",
    "def filterByRelation(facts, rel, max=50):\n",
    "    filtered = []\n",
    "    count = 0\n",
    "    for f in facts:\n",
    "        if f[1] == rel:\n",
    "            filtered.append(f)\n",
    "            count += 1\n",
    "        if max < 0:\n",
    "            continue\n",
    "        if count >= max:\n",
    "            break\n",
    "    return filtered\n",
    "\n",
    "def filterByHead(facts, head, max=50):\n",
    "    filtered = []\n",
    "    count = 0\n",
    "    for f in facts:\n",
    "        if f[0] == head:\n",
    "            filtered.append(f)\n",
    "            count += 1\n",
    "        if max < 0:\n",
    "            continue\n",
    "        if count >= max:\n",
    "            break\n",
    "    return filtered\n",
    "\n",
    "def filterByTail(facts, tail, max=50):\n",
    "    filtered = []\n",
    "    count = 0\n",
    "    for f in facts:\n",
    "        if f[2] == tail:\n",
    "            filtered.append(f)\n",
    "            count += 1\n",
    "        if max < 0:\n",
    "            continue\n",
    "        if count >= max:\n",
    "            break\n",
    "    return filtered\n",
    "\n",
    "def filterByEntity(facts, ent, max=50):\n",
    "    filtered = []\n",
    "    count = 0\n",
    "    for f in facts:\n",
    "        if f[0] == ent or f[2] == ent:\n",
    "            filtered.append(f)\n",
    "            count += 1\n",
    "        if max < 0:\n",
    "            continue\n",
    "        if count >= max:\n",
    "            break\n",
    "    return filtered\n",
    "\n",
    "def printFact(f):\n",
    "    s = \"{head}, {rel}, {tail}, {t1}, {t2}\"\n",
    "    head=f[0]\n",
    "    rel = f[1]\n",
    "    tail = f[2]\n",
    "    t1 = f[3][1:5]\n",
    "    t2 = f[4][1:5]\n",
    "    print(s.format(head=head, rel=rel, tail=tail, t1=t1, t2=t2))\n",
    "    \n",
    "def printFacts(facts):\n",
    "    for f in facts:\n",
    "        printFact(f)\n",
    "        \n",
    "def isEntityInFact(e, fact):\n",
    "    if fact[0] == e or fact[2] == e:\n",
    "        return True\n",
    "    else:\n",
    "        return False\n",
    "    \n",
    "        \n",
    "def writeFactsToFile(filename, facts):\n",
    "    f = open(filename, 'w')\n",
    "    for fact in facts:\n",
    "        line = '\\t'.join(fact)\n",
    "        f.write(line + '\\n')\n",
    "    f.close()\n",
    "    \n",
    "def readFactsFromFile(filename):\n",
    "    f = open(filename, 'r')\n",
    "    facts = []\n",
    "    for line in f:\n",
    "        fact = line.strip().split('\\t')\n",
    "        facts.append(fact)\n",
    "    f.close()\n",
    "    return facts\n",
    "\n",
    "def createWikidataIdentifierToTextDict(entities, relations):\n",
    "    ent_rel_both = {}\n",
    "    ent_rel_both['Q'] = entities\n",
    "    ent_rel_both['P'] = relations\n",
    "    wikidata_id2name = {}\n",
    "    count = 0\n",
    "    for prefix, lines in ent_rel_both.items():\n",
    "        for line in lines:\n",
    "            try:\n",
    "                line = line.split('\\t')\n",
    "                id = prefix + line[1] #different from one above\n",
    "                name = line[2]\n",
    "                wikidata_id2name[id] = name\n",
    "            except:\n",
    "                id = prefix + line[1]\n",
    "                name = ''\n",
    "                wikidata_id2name[id] = name\n",
    "    return wikidata_id2name\n",
    "\n",
    "def convertFactToText(fact, wikidata_identifier_to_text):\n",
    "    f = fact.copy()\n",
    "    for i in range(3):\n",
    "        f[i] = wikidata_identifier_to_text[fact[i]]\n",
    "    return f"
   ]
  },
  {
   "cell_type": "code",
   "execution_count": 3,
   "metadata": {},
   "outputs": [],
   "source": [
    "facts = readFactsFromFile('..data/temporal_big/full.txt')"
   ]
  },
  {
   "cell_type": "code",
   "execution_count": 4,
   "metadata": {},
   "outputs": [],
   "source": [
    "r = getRelsFromFacts(facts)\n",
    "e = getEntsFromFacts(facts)"
   ]
  },
  {
   "cell_type": "code",
   "execution_count": 5,
   "metadata": {},
   "outputs": [],
   "source": [
    "e_count_dict = {}\n",
    "r_count_dict = {}\n",
    "head_count = {}\n",
    "tail_count = {}\n",
    "for ent in e:\n",
    "    e_count_dict[ent] = 0\n",
    "    head_count[ent] = 0\n",
    "    tail_count[ent] = 0\n",
    "for rel in r:\n",
    "    r_count_dict[rel] = 0\n",
    "for f in facts:\n",
    "    e1 = f[0]\n",
    "    e2 = f[2]\n",
    "    rel = f[1]\n",
    "    e_count_dict[e1] += 1\n",
    "    e_count_dict[e2] += 1\n",
    "    r_count_dict[rel] += 1\n",
    "    head_count[e1] += 1\n",
    "    tail_count[e2] += 1"
   ]
  },
  {
   "cell_type": "code",
   "execution_count": 6,
   "metadata": {},
   "outputs": [],
   "source": [
    "x = r_count_dict\n",
    "sorted_r = {k: v for k, v in sorted(x.items(), key=lambda item: item[1], reverse=True)}\n",
    "\n",
    "x = e_count_dict\n",
    "sorted_e = {k: v for k, v in sorted(x.items(), key=lambda item: item[1], reverse=True)}\n",
    "\n",
    "x = head_count\n",
    "sorted_head = {k: v for k, v in sorted(x.items(), key=lambda item: item[1], reverse=True)}\n",
    "\n",
    "x = tail_count\n",
    "sorted_tail = {k: v for k, v in sorted(x.items(), key=lambda item: item[1], reverse=True)}"
   ]
  },
  {
   "cell_type": "code",
   "execution_count": null,
   "metadata": {},
   "outputs": [],
   "source": [
    "for key, value in sorted_r.items():\n",
    "    print(key, '|', value, 'facts', round(value/len(facts)*100, 2), '%' )"
   ]
  },
  {
   "cell_type": "code",
   "execution_count": 8,
   "metadata": {},
   "outputs": [],
   "source": [
    "rel = 'P166'\n",
    "awardFacts = filterByRelation(facts, rel, -1)"
   ]
  },
  {
   "cell_type": "code",
   "execution_count": 9,
   "metadata": {},
   "outputs": [],
   "source": [
    "def splitTimeNoNewTimeStamps(facts, timestamps):\n",
    "    # don't introduce new timestamps!\n",
    "    new_facts = []\n",
    "    for f in facts:\n",
    "        e1 = f[0]\n",
    "        r = f[1]\n",
    "        e2 = f[2]\n",
    "        t1 = int(f[3])\n",
    "        t2 = int(f[4])\n",
    "        for t in range(t1, t2+1):\n",
    "            if t in timestamps:\n",
    "                nf = [e1, r, e2, t]\n",
    "                new_facts.append(nf)\n",
    "    return new_facts\n",
    "\n",
    "def splitTime(facts):\n",
    "    # don't introduce new timestamps!\n",
    "    new_facts = []\n",
    "    for f in facts:\n",
    "        e1 = f[0]\n",
    "        r = f[1]\n",
    "        e2 = f[2]\n",
    "        t1 = int(f[3])\n",
    "        t2 = int(f[4])\n",
    "        for t in range(t1, t2+1):\n",
    "            nf = [e1, r, e2, t]\n",
    "            new_facts.append(nf)\n",
    "    return new_facts\n",
    "\n"
   ]
  },
  {
   "cell_type": "code",
   "execution_count": 10,
   "metadata": {},
   "outputs": [],
   "source": [
    "awardFactsSingle= splitTime(awardFacts)"
   ]
  },
  {
   "cell_type": "code",
   "execution_count": 11,
   "metadata": {},
   "outputs": [],
   "source": [
    "# simple questions, time answer\n",
    "def genTimeSimple1(facts, base_fact):\n",
    "    head = base_fact[0]\n",
    "    tail = base_fact[2]\n",
    "    template = \"When did {head} receive {tail}?\"\n",
    "    answers = set()\n",
    "    for f in facts:\n",
    "        if f[0] == head and f[2] == tail:\n",
    "            answers.add(f[3])\n",
    "    question = template.format(head=head, tail=tail)\n",
    "    answer_type = 'time'\n",
    "    entities = set([head, tail])\n",
    "    times = set()\n",
    "    relations = set(['P166'])\n",
    "    output = {'question': question,\n",
    "             'answers': answers,\n",
    "             'answer_type': answer_type,\n",
    "             'template': template,\n",
    "             'entities': entities,\n",
    "             'times': times,\n",
    "             'relations': relations}\n",
    "    return output\n",
    "\n",
    "def genEntitySimple1(facts, head, time):\n",
    "    template = \"Which award did {head} receive in {time}?\"\n",
    "    answers = set()\n",
    "    for f in facts:\n",
    "        if f[0] == head and f[3] == time:\n",
    "            answers.add(f[2])\n",
    "    question = template.format(head=head, time=time)\n",
    "    answer_type = 'entity'\n",
    "    entities = set([head])\n",
    "    times = set([time])\n",
    "    relations = set(['P166'])\n",
    "    output = {'question': question,\n",
    "             'answers': answers,\n",
    "             'answer_type': answer_type,\n",
    "             'template': template,\n",
    "             'entities': entities,\n",
    "             'times': times,\n",
    "             'relations': relations}\n",
    "    return output\n",
    "        \n",
    "\n",
    "# complex question, entity answer\n",
    "def genEntityComplex1(facts, head, first=True):\n",
    "    # first/last\n",
    "    template = \"Which was the {adj} award that {head} received?\"\n",
    "    minTime = 9999\n",
    "    minTeam = \"\"\n",
    "    maxTime = -1\n",
    "    maxTeam = \"\"\n",
    "    answers = set()\n",
    "    #go through all the facts and find the min[max] time\n",
    "    for f in facts:\n",
    "        if f[0] == head:\n",
    "            time = f[3]\n",
    "            if time < minTime:\n",
    "                minTime = time\n",
    "            if time > maxTime:\n",
    "                maxTime = time\n",
    "    #go through all the facts and this time fill answer set if the fact's time matches with min[max] time\n",
    "    for f in facts:\n",
    "        if f[0] == head:\n",
    "            time = f[3]\n",
    "            if first==True:\n",
    "                if time==minTime:\n",
    "                    answers.add(f[2])\n",
    "            else:\n",
    "                if time==maxTime:\n",
    "                    answers.add(f[2])\n",
    "    if first==True:\n",
    "        question = template.format(head=head, adj='first')\n",
    "    else:\n",
    "        question = template.format(head=head, adj='last')\n",
    "    answer_type = 'entity'\n",
    "    entities = set([head])\n",
    "    times = set()\n",
    "    relations = set(['P166'])\n",
    "    output = {'question': question,\n",
    "             'answers': answers,\n",
    "             'answer_type': answer_type,\n",
    "             'template': template,\n",
    "             'entities': entities,\n",
    "             'times': times,\n",
    "             'relations': relations}\n",
    "    return output\n",
    "        \n",
    "\n",
    "def getFactWithMaximumTime(facts, head = '', tail = ''):\n",
    "    maxTime = -1\n",
    "    fact = facts[0]\n",
    "    for f in facts:\n",
    "        time = f[-1]\n",
    "        if head != '':\n",
    "            if f[0] != head:\n",
    "                continue\n",
    "        if tail != '':\n",
    "            if f[2] != tail:\n",
    "                continue\n",
    "        if time > maxTime:\n",
    "            maxTime = time\n",
    "            fact = f\n",
    "    return fact\n",
    "\n",
    "def getFactWithMinimumTime(facts, head = '', tail = ''):\n",
    "    minTime = 9999\n",
    "    fact = facts[0]\n",
    "    for f in facts:\n",
    "        time = f[-1]\n",
    "        if head != '':\n",
    "            if f[0] != head:\n",
    "                continue\n",
    "        if tail != '':\n",
    "            if f[2] != tail:\n",
    "                continue\n",
    "        if time < minTime:\n",
    "            minTime = time\n",
    "            fact = f\n",
    "    return fact\n",
    "\n",
    "\n",
    "def genEntityComplex2(facts, head, tail, after=True):\n",
    "    # before/after\n",
    "    template = \"Who received the {tail} {type} {head}?\"\n",
    "    # before: find argmin(T) (head, r, tail, T)\n",
    "    # then, find argmax(T')(head, r, tail', T'), T' < T and tail' != tail\n",
    "    # tail' is the answer\n",
    "    answers = set()\n",
    "    if after == False: # if \"before\"\n",
    "        base_fact = getFactWithMinimumTime(facts, head = head, tail = tail)\n",
    "        time = base_fact[-1]\n",
    "        maxTime = -1\n",
    "        for f in facts:\n",
    "            time2 = f[-1]\n",
    "            if time2 >= time: \n",
    "                continue\n",
    "            if f[0] == head: #ok, because with the same head, fact with min time is taken \n",
    "                continue\n",
    "            if f[2] != tail:\n",
    "                continue\n",
    "            if time2 > maxTime:\n",
    "                maxTime = time2\n",
    "        answers = set()\n",
    "        for f in facts:\n",
    "            time2 = f[-1]\n",
    "            if time2 == maxTime and f[2]==tail:\n",
    "                answers.add(f[0])\n",
    "        question = template.format(head=head, type=\"before\", tail=tail)\n",
    "    else:\n",
    "        # after: find argmax(T) (head, r, tail, T)\n",
    "        # then, find argmin(T') (head, r, tail', T'), T' > T and tail' != tail\n",
    "        # tail' is the answer\n",
    "        base_fact = getFactWithMaximumTime(facts, head = head, tail = tail)\n",
    "        time = base_fact[-1]\n",
    "        minTime = 9999\n",
    "        for f in facts:\n",
    "            time2 = f[-1]\n",
    "            if time2 <= time:\n",
    "                continue\n",
    "            if f[0] == head:\n",
    "                continue\n",
    "            if f[2] != tail:\n",
    "                continue\n",
    "            if time2 < minTime:\n",
    "                minTime = time2\n",
    "        answers = set()\n",
    "        for f in facts:\n",
    "            time2 = f[-1]\n",
    "            if time2 == minTime and f[2]==tail:\n",
    "                answers.add(f[0])\n",
    "        question = template.format(head=head, type=\"after\", tail=tail)\n",
    "    #following is necessary in case there is no answer to the question\n",
    "    if len(answers)==0:\n",
    "        return None\n",
    "    answer_type = 'entity'\n",
    "    entities = set([head, tail])\n",
    "    times = set()\n",
    "    relations = set(['P166'])\n",
    "    output = {'question': question,\n",
    "             'answers': answers,\n",
    "             'answer_type': answer_type,\n",
    "             'template': template,\n",
    "             'entities': entities,\n",
    "             'times': times,\n",
    "             'relations': relations}\n",
    "    return output\n",
    "        \n",
    "\n",
    "\n",
    "def areFactsSame(f1, f2):\n",
    "    flag = True\n",
    "    for i in range(3):\n",
    "        if f1[i] != f2[i]:\n",
    "            flag = False\n",
    "            break\n",
    "    return flag"
   ]
  },
  {
   "cell_type": "code",
   "execution_count": 17,
   "metadata": {},
   "outputs": [],
   "source": [
    "# len(events_facts)\n",
    "import pickle as pkl\n",
    "def openFileAsDict(filename):\n",
    "    f = open(filename, 'r')\n",
    "    out = {}\n",
    "    for line in f:\n",
    "        line = line[:-1].split('\\t') # can't strip() since name can be whitespace\n",
    "        out[line[0]] = line[1]\n",
    "    return out\n",
    "ent2name = openFileAsDict( ../data/wikidata_big/kg/wd_id2entity_text.txt')\n",
    "rel2name = openFileAsDict( '../data/wikidata_big/kg/wd_id2relation_text.txt')\n",
    "name2ent={i:j for (j,i) in ent2name.items()}\n",
    "name2rel={i:j for (j,i) in rel2name.items()}\n",
    "\n",
    "ent2id=pkl.load(open(\"../data/wikidata_big/kg/tkbc_processed_data/wikidata_big/ent_id\",\"rb\"))\n",
    "rel2id=pkl.load(open(\"../data/wikidata_big/kg/tkbc_processed_data/wikidata_big/rel_id\",\"rb\"))\n",
    "id2ent={i:j for (j,i) in ent2id.items()}\n",
    "id2rel={i:j for (j,i) in rel2id.items()}\n",
    "id2relname={i:rel2name[id2rel[i]] for i in id2rel}\n",
    "id2entname={i:ent2name[id2ent[i]] for i in id2ent}\n",
    "def get_facts_from_entname(entname):\n",
    "    idx=name2ent[entname]\n",
    "    facts_=[]\n",
    "    for fact in events_facts:\n",
    "        if (fact[0]==idx or fact[2]==idx):\n",
    "            fact=(ent2name[fact[0]],rel2name[fact[1]],ent2name[fact[2]],fact[3],fact[4])\n",
    "            facts_.append(fact)\n",
    "            print(fact)\n",
    "    return facts_\n",
    "def get_facts_from_entid(idx):\n",
    "    facts_=[]\n",
    "    for fact in awardFacts:\n",
    "        if (fact[0]==idx or fact[2]==idx):\n",
    "            fact=(ent2name[fact[0]],rel2name[fact[1]],ent2name[fact[2]],fact[3],fact[4])\n",
    "            facts_.append(fact)\n",
    "#             print(fact)\n",
    "    return facts_\n"
   ]
  },
  {
   "cell_type": "code",
   "execution_count": 20,
   "metadata": {},
   "outputs": [
    {
     "data": {
      "text/plain": [
       "([('Abdullah II of Jordan',\n",
       "   'award received',\n",
       "   'Grand cross of the Order of the White Lion',\n",
       "   '2015',\n",
       "   '2015'),\n",
       "  ('Abdullah II of Jordan',\n",
       "   'award received',\n",
       "   'Grand Cross special issue of the Order of Merit of the Federal Republic of Germany, special issue',\n",
       "   '2002',\n",
       "   '2002')],\n",
       " [('Josef František',\n",
       "   'award received',\n",
       "   'Grand cross of the Order of the White Lion',\n",
       "   '2015',\n",
       "   '2015')],\n",
       " [('Nicholas Winton',\n",
       "   'award received',\n",
       "   'Grand cross of the Order of the White Lion',\n",
       "   '2014',\n",
       "   '2014'),\n",
       "  ('Nicholas Winton', 'award received', 'Knight Bachelor', '2002', '2002')])"
      ]
     },
     "execution_count": 20,
     "metadata": {},
     "output_type": "execute_result"
    }
   ],
   "source": [
    "get_facts_from_entid(\"Q57464\"),get_facts_from_entid(\"Q981023\"),get_facts_from_entid(\"Q460431\")"
   ]
  },
  {
   "cell_type": "code",
   "execution_count": 23,
   "metadata": {},
   "outputs": [
    {
     "data": {
      "text/plain": [
       "{'question': 'Who received the Q20966518 after Q460431?',\n",
       " 'answers': {'Q57464', 'Q981023'},\n",
       " 'answer_type': 'entity',\n",
       " 'template': 'Who received the {tail} {type} {head}?',\n",
       " 'entities': {'Q20966518', 'Q460431'},\n",
       " 'times': set(),\n",
       " 'relations': {'P166'}}"
      ]
     },
     "execution_count": 23,
     "metadata": {},
     "output_type": "execute_result"
    }
   ],
   "source": [
    "id = 1\n",
    "f = awardFactsSingle[id]\n",
    "genEntityComplex2(awardFactsSingle, f[0], f[2])"
   ]
  },
  {
   "cell_type": "code",
   "execution_count": 24,
   "metadata": {},
   "outputs": [
    {
     "data": {
      "text/plain": [
       "[('Nicholas Winton',\n",
       "  'award received',\n",
       "  'Grand cross of the Order of the White Lion',\n",
       "  '2014',\n",
       "  '2014'),\n",
       " ('Nicholas Winton', 'award received', 'Knight Bachelor', '2002', '2002')]"
      ]
     },
     "execution_count": 24,
     "metadata": {},
     "output_type": "execute_result"
    }
   ],
   "source": [
    "get_facts_from_entid(\"Q460431\")"
   ]
  },
  {
   "cell_type": "code",
   "execution_count": 21,
   "metadata": {},
   "outputs": [
    {
     "data": {
      "text/plain": [
       "{'question': 'When did Q460431 receive Q20966518?',\n",
       " 'answers': {2014},\n",
       " 'answer_type': 'time',\n",
       " 'template': 'When did {head} receive {tail}?',\n",
       " 'entities': {'Q20966518', 'Q460431'},\n",
       " 'times': set(),\n",
       " 'relations': {'P166'}}"
      ]
     },
     "execution_count": 21,
     "metadata": {},
     "output_type": "execute_result"
    }
   ],
   "source": [
    "id = 1\n",
    "f = awardFactsSingle[id]\n",
    "genTimeSimple1(awardFactsSingle, f)"
   ]
  },
  {
   "cell_type": "code",
   "execution_count": 25,
   "metadata": {},
   "outputs": [
    {
     "data": {
      "text/plain": [
       "{'question': 'Which award did Q460431 receive in 2014?',\n",
       " 'answers': {'Q20966518'},\n",
       " 'answer_type': 'entity',\n",
       " 'template': 'Which award did {head} receive in {time}?',\n",
       " 'entities': {'Q460431'},\n",
       " 'times': {2014},\n",
       " 'relations': {'P166'}}"
      ]
     },
     "execution_count": 25,
     "metadata": {},
     "output_type": "execute_result"
    }
   ],
   "source": [
    "genEntitySimple1(awardFactsSingle, f[0], f[-1])"
   ]
  },
  {
   "cell_type": "code",
   "execution_count": null,
   "metadata": {},
   "outputs": [],
   "source": [
    "get_facts_from_entid(\"Q833163\")"
   ]
  },
  {
   "cell_type": "code",
   "execution_count": 26,
   "metadata": {},
   "outputs": [
    {
     "data": {
      "text/plain": [
       "{'question': 'Which was the first award that Q460431 received?',\n",
       " 'answers': {'Q833163'},\n",
       " 'answer_type': 'entity',\n",
       " 'template': 'Which was the {adj} award that {head} received?',\n",
       " 'entities': {'Q460431'},\n",
       " 'times': set(),\n",
       " 'relations': {'P166'}}"
      ]
     },
     "execution_count": 26,
     "metadata": {},
     "output_type": "execute_result"
    }
   ],
   "source": [
    "genEntityComplex1(awardFactsSingle, f[0], first=True)"
   ]
  },
  {
   "cell_type": "code",
   "execution_count": 29,
   "metadata": {},
   "outputs": [
    {
     "data": {
      "text/plain": [
       "{'question': 'Who received the Q19573074 after Q1299823?',\n",
       " 'answers': {'Q182727'},\n",
       " 'answer_type': 'entity',\n",
       " 'template': 'Who received the {tail} {type} {head}?',\n",
       " 'entities': {'Q1299823', 'Q19573074'},\n",
       " 'times': set(),\n",
       " 'relations': {'P166'}}"
      ]
     },
     "execution_count": 29,
     "metadata": {},
     "output_type": "execute_result"
    }
   ],
   "source": [
    "id = 50\n",
    "f = awardFactsSingle[id]\n",
    "genEntityComplex2(awardFactsSingle, f[0], f[2])"
   ]
  },
  {
   "cell_type": "code",
   "execution_count": 31,
   "metadata": {},
   "outputs": [],
   "source": [
    "import random\n",
    "random.seed(1000)\n",
    "def makeQuestions(awardFactsSingle, f):\n",
    "    questions = []\n",
    "    questions.append(genTimeSimple1(awardFactsSingle, f))\n",
    "    questions.append(genEntitySimple1(awardFactsSingle, f[0], f[-1]))\n",
    "    questions.append(genEntityComplex1(awardFactsSingle, f[0], first=random.choice([True, False])))\n",
    "    entityComplex2ques=genEntityComplex2(awardFactsSingle, f[0], f[2], after=random.choice([True, False]))\n",
    "    if entityComplex2ques is not None:\n",
    "        questions.append(entityComplex2ques)\n",
    "    else:\n",
    "        print(\"None detected\")\n",
    "        \n",
    "        \n",
    "    return questions\n",
    "\n"
   ]
  },
  {
   "cell_type": "code",
   "execution_count": 35,
   "metadata": {},
   "outputs": [
    {
     "data": {
      "text/plain": [
       "38235"
      ]
     },
     "execution_count": 35,
     "metadata": {},
     "output_type": "execute_result"
    }
   ],
   "source": [
    "import pickle\n",
    "dataset_split = 'train'\n",
    "split_entities = set(pickle.load(open(dataset_split + '_ents.pickle', 'rb')))\n",
    "split_facts = []\n",
    "my_facts = awardFactsSingle\n",
    "for f in my_facts:\n",
    "    if f[0] in split_entities and f[2] in split_entities:\n",
    "        split_facts.append(f)\n",
    "len(split_facts)"
   ]
  },
  {
   "cell_type": "code",
   "execution_count": 36,
   "metadata": {},
   "outputs": [
    {
     "data": {
      "text/plain": [
       "87705"
      ]
     },
     "execution_count": 36,
     "metadata": {},
     "output_type": "execute_result"
    }
   ],
   "source": [
    "# how to get number of questions?\n",
    "# 1. set total questions to 300k\n",
    "# 2. get number of facts with this relation\n",
    "# 3. get how many questions u want of this relation as fraction\n",
    "# 4. choose 10% of that number for test, 90% for train\n",
    "max_dataset_questions = 300000\n",
    "relation_name = my_facts[0][1]\n",
    "num_relation_facts = len(filterByRelation(facts, relation_name, -1))\n",
    "# fraction of questions need to be decided based on fraction of question relation facts\n",
    "# not all facts!\n",
    "question_relation_list = ['P39', 'P166', 'P108', 'P54', 'P26']\n",
    "num_all_question_relation_facts = sum([len(filterByRelation(facts, x, -1)) for x in question_relation_list])\n",
    "num_questions_for_this_relation = int(max_dataset_questions * num_relation_facts/num_all_question_relation_facts)\n",
    "split_ratios = {'test': 0.1, 'train': 0.9}\n",
    "num_questions = int(split_ratios[dataset_split] * num_questions_for_this_relation)\n",
    "num_questions"
   ]
  },
  {
   "cell_type": "code",
   "execution_count": null,
   "metadata": {},
   "outputs": [],
   "source": [
    "import random\n",
    "data = []\n",
    "# num_questions has been calculated above\n",
    "# num_questions = 100000\n",
    "\n",
    "questions_set = set()\n",
    "\n",
    "pbar = tqdm(range(len(split_facts)))\n",
    "random.shuffle(split_facts)\n",
    "for i in range(len(split_facts)):\n",
    "#     f = random.choice(positionFactsSingle)\n",
    "    f = split_facts[i]\n",
    "    pbar.set_description(\"Num questions %d, i %d\" % (len(data), i))\n",
    "    questions = makeQuestions(my_facts, f)\n",
    "    for q in questions:\n",
    "        if len(q['answers']) > 0 and q['question'] not in questions_set:\n",
    "            data.append(q)\n",
    "            questions_set.add(q['question'])\n",
    "    if len(data) >= num_questions:\n",
    "        break"
   ]
  },
  {
   "cell_type": "code",
   "execution_count": 40,
   "metadata": {},
   "outputs": [
    {
     "data": {
      "text/plain": [
       "{'When did {head} receive {tail}?': 23809,\n",
       " 'Which award did {head} receive in {time}?': 23560,\n",
       " 'Which was the {adj} award that {head} received?': 17646,\n",
       " 'Who received the {tail} {type} {head}?': 22691}"
      ]
     },
     "execution_count": 40,
     "metadata": {},
     "output_type": "execute_result"
    }
   ],
   "source": [
    "def getQuestionTypeDistribution(data):\n",
    "    type_dict = {}\n",
    "    for d in data:\n",
    "        template = d['template']\n",
    "        if template not in type_dict:\n",
    "            type_dict[template] = 1\n",
    "        else:\n",
    "            type_dict[template] += 1\n",
    "    return type_dict\n",
    "getQuestionTypeDistribution(data)"
   ]
  },
  {
   "cell_type": "code",
   "execution_count": 41,
   "metadata": {},
   "outputs": [],
   "source": [
    "import pickle\n",
    "filename = 'data/questions/{split}_questions_award_received_big.pickle'.format(\n",
    "            split=dataset_split)\n",
    "pickle.dump(data, open(filename, \"wb\"))"
   ]
  },
  {
   "cell_type": "code",
   "execution_count": null,
   "metadata": {},
   "outputs": [
    {
     "name": "stderr",
     "output_type": "stream",
     "text": [
      " 71%|███████   | 7098/10000 [2:30:52<1:02:43,  1.30s/it]"
     ]
    }
   ],
   "source": [
    "import random\n",
    "\n",
    "for i in tqdm(range(10000)):\n",
    "    id = random.randint(0, len(sportsFactsSingle))\n",
    "    f = sportsFactsSingle[id]\n",
    "    try:\n",
    "        data += makeQuestions(sportsFactsSingle, f)\n",
    "    except:\n",
    "        continue"
   ]
  },
  {
   "cell_type": "code",
   "execution_count": null,
   "metadata": {},
   "outputs": [],
   "source": [
    "data[10:]"
   ]
  },
  {
   "cell_type": "code",
   "execution_count": null,
   "metadata": {},
   "outputs": [],
   "source": [
    "def writeQuestions(filename, data):\n",
    "    f = open(filename, 'w')\n",
    "    for d in data:\n",
    "        answers_str = []\n",
    "        for ans in d[1]:\n",
    "            answers_str.append(str(ans))\n",
    "        if answers_str == []:\n",
    "            continue\n",
    "        line = d[0] + '\\t' + '|'.join(answers_str)\n",
    "        f.write(line + '\\n')\n",
    "    f.close()"
   ]
  },
  {
   "cell_type": "code",
   "execution_count": null,
   "metadata": {},
   "outputs": [],
   "source": [
    "writeQuestions('questions_member_of_sports_team.txt', data)"
   ]
  }
 ],
 "metadata": {
  "kernelspec": {
   "display_name": "Python 3",
   "language": "python",
   "name": "python3"
  },
  "language_info": {
   "codemirror_mode": {
    "name": "ipython",
    "version": 3
   },
   "file_extension": ".py",
   "mimetype": "text/x-python",
   "name": "python",
   "nbconvert_exporter": "python",
   "pygments_lexer": "ipython3",
   "version": "3.8.8"
  }
 },
 "nbformat": 4,
 "nbformat_minor": 4
}
