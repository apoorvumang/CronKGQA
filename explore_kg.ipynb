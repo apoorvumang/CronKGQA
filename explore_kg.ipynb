{
 "cells": [
  {
   "cell_type": "code",
   "execution_count": 4,
   "id": "featured-hydrogen",
   "metadata": {},
   "outputs": [],
   "source": [
    "# use this to see what candidate/actual answers are\n",
    "# to any question"
   ]
  },
  {
   "cell_type": "code",
   "execution_count": 5,
   "id": "nonprofit-method",
   "metadata": {},
   "outputs": [],
   "source": [
    "def openFileAsDict(filename):\n",
    "    f = open(filename, 'r')\n",
    "    out = {}\n",
    "    for line in f:\n",
    "        line = line[:-1].split('\\t') # can't strip() since name can be whitespace\n",
    "        out[line[0]] = line[1]\n",
    "    return out\n"
   ]
  },
  {
   "cell_type": "code",
   "execution_count": 7,
   "id": "bibliographic-stevens",
   "metadata": {},
   "outputs": [],
   "source": [
    "from difflib import get_close_matches\n",
    "entFile = 'data/wikidata_big/kg/wd_id2entity_text.txt'\n",
    "id2ent = openFileAsDict(entFile)\n",
    "ent2id = {value:key for key, value in id2ent.items()}\n",
    "\n",
    "def getEntityFromText(entity_text):\n",
    "    closest = get_close_matches(entity_text, id2ent.values(), n=1)[0]\n",
    "    id_of_closest = ent2id[closest]\n",
    "    return closest, id_of_closest\n"
   ]
  },
  {
   "cell_type": "code",
   "execution_count": 8,
   "id": "interracial-village",
   "metadata": {},
   "outputs": [
    {
     "data": {
      "text/plain": [
       "('Bindu', 'Q158266')"
      ]
     },
     "execution_count": 8,
     "metadata": {},
     "output_type": "execute_result"
    }
   ],
   "source": [
    "getEntityFromText('hindu')"
   ]
  },
  {
   "cell_type": "code",
   "execution_count": null,
   "id": "parliamentary-macro",
   "metadata": {},
   "outputs": [],
   "source": []
  }
 ],
 "metadata": {
  "kernelspec": {
   "display_name": "Python 3",
   "language": "python",
   "name": "python3"
  },
  "language_info": {
   "codemirror_mode": {
    "name": "ipython",
    "version": 3
   },
   "file_extension": ".py",
   "mimetype": "text/x-python",
   "name": "python",
   "nbconvert_exporter": "python",
   "pygments_lexer": "ipython3",
   "version": "3.7.9"
  }
 },
 "nbformat": 4,
 "nbformat_minor": 5
}
