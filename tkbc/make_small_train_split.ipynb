{
 "cells": [
  {
   "cell_type": "code",
   "execution_count": 1,
   "id": "ordered-consent",
   "metadata": {},
   "outputs": [],
   "source": [
    "import pickle\n",
    "fname = '/scratche/home/apoorv/Temporal_KGQA/data/wikidata_big/questions/train.pickle'\n",
    "train = pickle.load(open(fname, 'rb'))"
   ]
  },
  {
   "cell_type": "code",
   "execution_count": 2,
   "id": "angry-strategy",
   "metadata": {},
   "outputs": [],
   "source": [
    "import random"
   ]
  },
  {
   "cell_type": "code",
   "execution_count": 3,
   "id": "introductory-illustration",
   "metadata": {},
   "outputs": [
    {
     "data": {
      "text/plain": [
       "{'question': 'Q3851011 was a player for which team before Q2018',\n",
       " 'answers': {'Q8639'},\n",
       " 'answer_type': 'entity',\n",
       " 'template': '{head} was a player for which team before {tail}',\n",
       " 'entities': {'Q2018', 'Q3851011'},\n",
       " 'times': set(),\n",
       " 'relations': {'P54'},\n",
       " 'type': 'before_after',\n",
       " 'annotation': {'head': 'Q3851011', 'tail': 'Q2018', 'type': 'before'},\n",
       " 'uniq_id': 27813,\n",
       " 'paraphrases': ['Massimiliano De Silvestro was a player for which team before Calcio Catania',\n",
       "  'Massimiliano De Silvestro was a player for which team before Calcio Catania S.p.A.']}"
      ]
     },
     "execution_count": 3,
     "metadata": {},
     "output_type": "execute_result"
    }
   ],
   "source": [
    "train[0]"
   ]
  },
  {
   "cell_type": "code",
   "execution_count": 4,
   "id": "magnetic-ladder",
   "metadata": {},
   "outputs": [
    {
     "data": {
      "text/plain": [
       "350000"
      ]
     },
     "execution_count": 4,
     "metadata": {},
     "output_type": "execute_result"
    }
   ],
   "source": [
    "len(train)"
   ]
  },
  {
   "cell_type": "code",
   "execution_count": 5,
   "id": "thirty-equity",
   "metadata": {},
   "outputs": [],
   "source": [
    "random.shuffle(train)"
   ]
  },
  {
   "cell_type": "code",
   "execution_count": 8,
   "id": "verified-newsletter",
   "metadata": {},
   "outputs": [],
   "source": [
    "l = len(train)\n",
    "train_10 = train[:int(0.1*l)]\n",
    "train_30 = train[:int(0.3*l)]\n",
    "train_50 = train[:int(0.5*l)]\n",
    "train_70 = train[:int(0.7*l)]"
   ]
  },
  {
   "cell_type": "code",
   "execution_count": 9,
   "id": "reserved-comparative",
   "metadata": {},
   "outputs": [],
   "source": [
    "data = [train_10, train_30, train_50, train_70]\n",
    "filenames = ['train_10', 'train_30', 'train_50', 'train_70']\n",
    "prefix = '/scratche/home/apoorv/Temporal_KGQA/data/wikidata_big/questions/'\n",
    "postfix = '.pickle'\n",
    "for questions, fname in zip(data, filenames):\n",
    "    file = prefix + fname + postfix\n",
    "    pickle.dump(questions, open(file, 'wb'))"
   ]
  },
  {
   "cell_type": "code",
   "execution_count": null,
   "id": "involved-sigma",
   "metadata": {},
   "outputs": [],
   "source": []
  }
 ],
 "metadata": {
  "kernelspec": {
   "display_name": "Python 3",
   "language": "python",
   "name": "python3"
  },
  "language_info": {
   "codemirror_mode": {
    "name": "ipython",
    "version": 3
   },
   "file_extension": ".py",
   "mimetype": "text/x-python",
   "name": "python",
   "nbconvert_exporter": "python",
   "pygments_lexer": "ipython3",
   "version": "3.7.9"
  }
 },
 "nbformat": 4,
 "nbformat_minor": 5
}
