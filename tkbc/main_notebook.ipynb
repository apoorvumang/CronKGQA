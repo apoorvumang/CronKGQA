{
 "cells": [
  {
   "cell_type": "code",
   "execution_count": 3,
   "metadata": {},
   "outputs": [],
   "source": [
    "import json"
   ]
  },
  {
   "cell_type": "code",
   "execution_count": 4,
   "metadata": {},
   "outputs": [],
   "source": [
    "import random"
   ]
  },
  {
   "cell_type": "code",
   "execution_count": 5,
   "metadata": {},
   "outputs": [],
   "source": [
    "# fname = 'full_questions_v2.json'\n",
    "dataset_split = 'test'\n",
    "fname = '{split}_questions_v3.json'.format(split=dataset_split)\n",
    "f = open(fname, 'r')\n",
    "json_string = ''\n",
    "for line in f:\n",
    "    json_string += line\n",
    "f.close()"
   ]
  },
  {
   "cell_type": "code",
   "execution_count": 6,
   "metadata": {},
   "outputs": [],
   "source": [
    "questions = json.loads(json_string)"
   ]
  },
  {
   "cell_type": "code",
   "execution_count": 7,
   "metadata": {},
   "outputs": [
    {
     "data": {
      "text/plain": [
       "30003"
      ]
     },
     "execution_count": 7,
     "metadata": {},
     "output_type": "execute_result"
    }
   ],
   "source": [
    "len(questions)"
   ]
  },
  {
   "cell_type": "code",
   "execution_count": 8,
   "metadata": {},
   "outputs": [
    {
     "data": {
      "text/plain": [
       "{'question': 'When did Q703956 play in Q1886?',\n",
       " 'answers': [1992, 1993, 1994, 1995, 2000, 2001],\n",
       " 'answer_type': 'time',\n",
       " 'template': 'When did {head} play in {tail}?',\n",
       " 'entities': ['Q1886', 'Q703956'],\n",
       " 'times': [],\n",
       " 'relations': ['P54'],\n",
       " 'paraphrases': ['When did Maurizio Ganz play in Atalanta Bergamasca Calcio s.p.a.?',\n",
       "  'When did Maurizio Ganz play in Atalanta B.C.?',\n",
       "  'When did Maurizio Ganz play in Atalanta Bergamasca Calcio?',\n",
       "  'When did Maurizio Ganz play in Atalanta?',\n",
       "  'When did Maurizio Ganz play in Atalanta Bergamo?'],\n",
       " 'annotation': {'head': 'Q703956', 'tail': 'Q1886'},\n",
       " 'type': 'simple_time'}"
      ]
     },
     "execution_count": 8,
     "metadata": {},
     "output_type": "execute_result"
    }
   ],
   "source": [
    "questions[0]"
   ]
  },
  {
   "cell_type": "code",
   "execution_count": 9,
   "metadata": {},
   "outputs": [],
   "source": [
    "import pickle\n",
    "aliases_file = '/scratche/home/apoorv/tempqa/data/temporal_big/wd_id_to_aliases.pickle'\n",
    "aliases = pickle.load(open(aliases_file, 'rb'))"
   ]
  },
  {
   "cell_type": "code",
   "execution_count": 18,
   "metadata": {},
   "outputs": [],
   "source": [
    "import random\n",
    "from unidecode import unidecode\n",
    "\n",
    "def generatePairsForPP(question, max=5):\n",
    "    template = question['template']\n",
    "    template.replace('?', '')\n",
    "    split_template = template.split(' ')\n",
    "    split_template_no_bracket_tokens = []\n",
    "    for s in split_template:\n",
    "        if '{' in s and '}' in s:\n",
    "            continue\n",
    "        else:\n",
    "            split_template_no_bracket_tokens.append(s)\n",
    "    keywords_not_to_remove = ['When', 'Who']\n",
    "    candidate_keywords = set(split_template_no_bracket_tokens) - set(keywords_not_to_remove)\n",
    "    all_pp = []\n",
    "    original_list = []\n",
    "    candidate_keywords = list(candidate_keywords)\n",
    "    random.shuffle(candidate_keywords)\n",
    "    for paraphrase in question['paraphrases']:\n",
    "        for keyword in candidate_keywords:\n",
    "            # need to remove unicode chars for paraphraser input\n",
    "            all_pp.append(unidecode(paraphrase) + '\\t' + keyword) \n",
    "            original_list.append(paraphrase)\n",
    "    pairs = []\n",
    "    for i in range(len(all_pp)):\n",
    "        pairs.append((original_list[i], all_pp[i]))\n",
    "    if len(pairs) <= max:\n",
    "        return pairs\n",
    "    else:\n",
    "        return random.sample(pairs, max)\n",
    "    "
   ]
  },
  {
   "cell_type": "code",
   "execution_count": 19,
   "metadata": {},
   "outputs": [],
   "source": [
    "pairs = generatePairsForPP(questions[0])"
   ]
  },
  {
   "cell_type": "code",
   "execution_count": 20,
   "metadata": {},
   "outputs": [
    {
     "data": {
      "text/plain": [
       "[('When did Maurizio Ganz play in Atalanta?',\n",
       "  'When did Maurizio Ganz play in Atalanta?\\tin'),\n",
       " ('When did Maurizio Ganz play in Atalanta Bergamo?',\n",
       "  'When did Maurizio Ganz play in Atalanta Bergamo?\\tdid'),\n",
       " ('When did Maurizio Ganz play in Atalanta B.C.?',\n",
       "  'When did Maurizio Ganz play in Atalanta B.C.?\\tdid'),\n",
       " ('When did Maurizio Ganz play in Atalanta Bergamasca Calcio s.p.a.?',\n",
       "  'When did Maurizio Ganz play in Atalanta Bergamasca Calcio s.p.a.?\\tplay'),\n",
       " ('When did Maurizio Ganz play in Atalanta?',\n",
       "  'When did Maurizio Ganz play in Atalanta?\\tdid')]"
      ]
     },
     "execution_count": 20,
     "metadata": {},
     "output_type": "execute_result"
    }
   ],
   "source": [
    "pairs"
   ]
  },
  {
   "cell_type": "code",
   "execution_count": 21,
   "metadata": {},
   "outputs": [
    {
     "name": "stderr",
     "output_type": "stream",
     "text": [
      "100%|██████████| 30003/30003 [00:03<00:00, 9129.26it/s] \n"
     ]
    }
   ],
   "source": [
    "from tqdm import tqdm\n",
    "all_triples = []\n",
    "for i,q in enumerate(tqdm(questions)):\n",
    "    pairs = generatePairsForPP(q)\n",
    "    triples = []\n",
    "    for p in pairs:\n",
    "        triples.append([i, p[0], p[1]])\n",
    "    all_triples += triples"
   ]
  },
  {
   "cell_type": "code",
   "execution_count": null,
   "metadata": {},
   "outputs": [],
   "source": [
    "len(all_triples)"
   ]
  },
  {
   "cell_type": "code",
   "execution_count": 23,
   "metadata": {},
   "outputs": [],
   "source": [
    "import pickle\n",
    "pp_triples_file = 'pp_triples_v3.pickle'\n",
    "pickle.dump(all_triples, open(pp_triples_file, 'wb'))"
   ]
  },
  {
   "cell_type": "code",
   "execution_count": 24,
   "metadata": {},
   "outputs": [],
   "source": [
    "# def getParaphrases(lines):\n",
    "#     paraphrases = []\n",
    "#     f = open('temp.txt', 'w')\n",
    "#     for line in lines:\n",
    "#         f.write(line + '\\n')\n",
    "#     f.close()\n",
    "#     ! cat 'temp.txt' | ./paraphrase.sh --use-cpu > 'temp2.txt'\n",
    "#     f = open('temp2.txt', 'r')\n",
    "#     for line in f:\n",
    "#         paraphrases.append(line.strip())\n",
    "#     return paraphrases\n",
    "\n",
    "def getParaphrases(triples):\n",
    "    question_ids = [x[0] for x in triples]\n",
    "    original_questions = [x[1] for x in triples]\n",
    "    pp_lines = [x[2] for x in triples]\n",
    "    f = open('temp.txt', 'w')\n",
    "    for line in pp_lines:\n",
    "        f.write(line + '\\n')\n",
    "    f.close()\n",
    "    ! cat 'temp.txt' | ./paraphrase.sh --use-cpu > 'temp2.txt'\n",
    "    f = open('temp2.txt', 'r')\n",
    "    paraphrases = []\n",
    "    for line in f:\n",
    "        paraphrases.append(line.strip())\n",
    "    paraphrase_triples = []\n",
    "    for i in range(len(pp_lines)):\n",
    "        paraphrase_triples.append([question_ids[i], original_questions[i], paraphrases[i]])\n",
    "    return paraphrase_triples"
   ]
  },
  {
   "cell_type": "code",
   "execution_count": 25,
   "metadata": {},
   "outputs": [
    {
     "name": "stdout",
     "output_type": "stream",
     "text": [
      "/home/apoorv/anaconda3/envs/kge/bin/python3: Error while finding module specification for 'sockeye.translate' (ModuleNotFoundError: No module named 'sockeye')\n",
      "Traceback (most recent call last):\n",
      "  File \"./detok.py\", line 6, in <module>\n",
      "    from mosestokenizer import MosesDetokenizer\n",
      "ModuleNotFoundError: No module named 'mosestokenizer'\n",
      "Traceback (most recent call last):\n",
      "  File \"./custom_constraints.py\", line 5, in <module>\n",
      "    from subword_nmt.apply_bpe import *\n",
      "ModuleNotFoundError: No module named 'subword_nmt'\n"
     ]
    },
    {
     "ename": "IndexError",
     "evalue": "list index out of range",
     "output_type": "error",
     "traceback": [
      "\u001b[0;31m---------------------------------------------------------------------------\u001b[0m",
      "\u001b[0;31mIndexError\u001b[0m                                Traceback (most recent call last)",
      "\u001b[0;32m<ipython-input-25-3a8fce21c7f3>\u001b[0m in \u001b[0;36m<module>\u001b[0;34m\u001b[0m\n\u001b[0;32m----> 1\u001b[0;31m \u001b[0mx\u001b[0m \u001b[0;34m=\u001b[0m \u001b[0mgetParaphrases\u001b[0m\u001b[0;34m(\u001b[0m\u001b[0mall_triples\u001b[0m\u001b[0;34m[\u001b[0m\u001b[0;36m48777\u001b[0m\u001b[0;34m:\u001b[0m\u001b[0;36m48777\u001b[0m\u001b[0;34m+\u001b[0m\u001b[0;36m10\u001b[0m\u001b[0;34m]\u001b[0m\u001b[0;34m)\u001b[0m\u001b[0;34m\u001b[0m\u001b[0;34m\u001b[0m\u001b[0m\n\u001b[0m",
      "\u001b[0;32m<ipython-input-24-e03ae4ba19f4>\u001b[0m in \u001b[0;36mgetParaphrases\u001b[0;34m(triples)\u001b[0m\n\u001b[1;32m     26\u001b[0m     \u001b[0mparaphrase_triples\u001b[0m \u001b[0;34m=\u001b[0m \u001b[0;34m[\u001b[0m\u001b[0;34m]\u001b[0m\u001b[0;34m\u001b[0m\u001b[0;34m\u001b[0m\u001b[0m\n\u001b[1;32m     27\u001b[0m     \u001b[0;32mfor\u001b[0m \u001b[0mi\u001b[0m \u001b[0;32min\u001b[0m \u001b[0mrange\u001b[0m\u001b[0;34m(\u001b[0m\u001b[0mlen\u001b[0m\u001b[0;34m(\u001b[0m\u001b[0mpp_lines\u001b[0m\u001b[0;34m)\u001b[0m\u001b[0;34m)\u001b[0m\u001b[0;34m:\u001b[0m\u001b[0;34m\u001b[0m\u001b[0;34m\u001b[0m\u001b[0m\n\u001b[0;32m---> 28\u001b[0;31m         \u001b[0mparaphrase_triples\u001b[0m\u001b[0;34m.\u001b[0m\u001b[0mappend\u001b[0m\u001b[0;34m(\u001b[0m\u001b[0;34m[\u001b[0m\u001b[0mquestion_ids\u001b[0m\u001b[0;34m[\u001b[0m\u001b[0mi\u001b[0m\u001b[0;34m]\u001b[0m\u001b[0;34m,\u001b[0m \u001b[0moriginal_questions\u001b[0m\u001b[0;34m[\u001b[0m\u001b[0mi\u001b[0m\u001b[0;34m]\u001b[0m\u001b[0;34m,\u001b[0m \u001b[0mparaphrases\u001b[0m\u001b[0;34m[\u001b[0m\u001b[0mi\u001b[0m\u001b[0;34m]\u001b[0m\u001b[0;34m]\u001b[0m\u001b[0;34m)\u001b[0m\u001b[0;34m\u001b[0m\u001b[0;34m\u001b[0m\u001b[0m\n\u001b[0m\u001b[1;32m     29\u001b[0m     \u001b[0;32mreturn\u001b[0m \u001b[0mparaphrase_triples\u001b[0m\u001b[0;34m\u001b[0m\u001b[0;34m\u001b[0m\u001b[0m\n",
      "\u001b[0;31mIndexError\u001b[0m: list index out of range"
     ]
    }
   ],
   "source": [
    "x = getParaphrases(all_triples[48777:48777+10])"
   ]
  },
  {
   "cell_type": "code",
   "execution_count": 213,
   "metadata": {},
   "outputs": [
    {
     "data": {
      "text/plain": [
       "[[10000,\n",
       "  'When did Vlado Šmit play their first game?',\n",
       "  'When was Vlado Smit playing his first game?'],\n",
       " [10000,\n",
       "  'When did Vlado Šmit play their first game?',\n",
       "  'When was Vlado Smit playing their first game?'],\n",
       " [10000,\n",
       "  'When did Vlado Šmit play their first game?',\n",
       "  'When was Vlado Smit playing their first game?'],\n",
       " [10000,\n",
       "  'When did Vlado Šmit play their first game?',\n",
       "  'When was Vlado Smit playing their first game?'],\n",
       " [10001,\n",
       "  'When did Vlado Šmit play their first game for Bologna Football Club 1909?',\n",
       "  'When was Vlado Smit in Bologna Football Club in 1909?'],\n",
       " [10001,\n",
       "  'When did Vlado Šmit play their first game for Bologna F.C. 1909?',\n",
       "  'When was Vlado Smit playing their first game in Bologna F.C. in 1909?'],\n",
       " [10001,\n",
       "  'When did Vlado Šmit play their first game for Bologna FC 1909?',\n",
       "  'When was Vlado Smit playing their first game at Bologna FC in 1909?'],\n",
       " [10001,\n",
       "  'When did Vlado Šmit play their first game for Bologna Football Club 1909?',\n",
       "  'When was Vlado Smit playing their first game at Bologna Football Club in 1909?'],\n",
       " [10001,\n",
       "  'When did Vlado Šmit play their first game for Bologna F.C. 1909?',\n",
       "  'When was Vlado Smit playing their first game in Bologna F.C. in 1909?'],\n",
       " [10002,\n",
       "  'Which team did Vlado Šmit play for in 2002?',\n",
       "  'What group did Vlado Smit play for in 2002?']]"
      ]
     },
     "execution_count": 213,
     "metadata": {},
     "output_type": "execute_result"
    }
   ],
   "source": [
    "x"
   ]
  },
  {
   "cell_type": "code",
   "execution_count": 142,
   "metadata": {},
   "outputs": [],
   "source": [
    "from collections import defaultdict\n",
    "paraphrase_dict = defaultdict(list)\n",
    "\n",
    "for pair in x:\n",
    "    original = pair[0]\n",
    "    pp = pair[1]\n",
    "    if pp not in paraphrase_dict[original]:\n",
    "        paraphrase_dict[original].append(pp)\n",
    "    "
   ]
  },
  {
   "cell_type": "code",
   "execution_count": 143,
   "metadata": {},
   "outputs": [
    {
     "data": {
      "text/plain": [
       "242"
      ]
     },
     "execution_count": 143,
     "metadata": {},
     "output_type": "execute_result"
    }
   ],
   "source": [
    "len(paraphrase_dict)"
   ]
  },
  {
   "cell_type": "code",
   "execution_count": 144,
   "metadata": {},
   "outputs": [],
   "source": [
    "for k, v in paraphrase_dict.items():\n",
    "    pass\n",
    "#     print(k, v)"
   ]
  },
  {
   "cell_type": "code",
   "execution_count": 145,
   "metadata": {},
   "outputs": [],
   "source": [
    "output_list = []\n",
    "for k, v in paraphrase_dict.items():\n",
    "    item = {}\n",
    "    item['original'] = k\n",
    "    item['paraphrases'] = v\n",
    "    output_list.append(item)"
   ]
  },
  {
   "cell_type": "code",
   "execution_count": 146,
   "metadata": {},
   "outputs": [
    {
     "data": {
      "text/plain": [
       "{'original': 'When did Gunnar Gren play their last game?',\n",
       " 'paraphrases': ['When was Gunnar Gren playing their last game?']}"
      ]
     },
     "execution_count": 146,
     "metadata": {},
     "output_type": "execute_result"
    }
   ],
   "source": [
    "output_list[10]"
   ]
  },
  {
   "cell_type": "code",
   "execution_count": 149,
   "metadata": {},
   "outputs": [],
   "source": [
    "import json\n",
    "output_json = ','.join([json.dumps(item) for item in output_list])\n",
    "output_json = '[' + output_json + ']'"
   ]
  },
  {
   "cell_type": "code",
   "execution_count": 150,
   "metadata": {},
   "outputs": [
    {
     "data": {
      "text/plain": [
       "51634"
      ]
     },
     "execution_count": 150,
     "metadata": {},
     "output_type": "execute_result"
    }
   ],
   "source": [
    "len(output_json)"
   ]
  },
  {
   "cell_type": "code",
   "execution_count": 151,
   "metadata": {},
   "outputs": [],
   "source": [
    "fname = 'paraphrases.json'\n",
    "f = open(fname, 'w')\n",
    "f.write(output_json)\n",
    "f.close()"
   ]
  },
  {
   "cell_type": "code",
   "execution_count": 171,
   "metadata": {},
   "outputs": [
    {
     "data": {
      "text/plain": [
       "{'original': 'When did Pavel Andreyevich Taran receive Order of the Red Banner?',\n",
       " 'paraphrases': [\"When was Pavel Andreyevich Taran given the Red Banner's Order?\",\n",
       "  \"When did Pavel Andreyevich Taran get the Red Banner's Order?\"]}"
      ]
     },
     "execution_count": 171,
     "metadata": {},
     "output_type": "execute_result"
    }
   ],
   "source": [
    "output_list[144]"
   ]
  },
  {
   "cell_type": "code",
   "execution_count": 166,
   "metadata": {},
   "outputs": [
    {
     "data": {
      "text/plain": [
       "242"
      ]
     },
     "execution_count": 166,
     "metadata": {},
     "output_type": "execute_result"
    }
   ],
   "source": [
    "len(output_list)"
   ]
  },
  {
   "cell_type": "code",
   "execution_count": 214,
   "metadata": {},
   "outputs": [
    {
     "name": "stdout",
     "output_type": "stream",
     "text": [
      "Number of processors:  56\n"
     ]
    }
   ],
   "source": [
    "import multiprocessing as mp\n",
    "print(\"Number of processors: \", mp.cpu_count())\n"
   ]
  },
  {
   "cell_type": "code",
   "execution_count": null,
   "metadata": {},
   "outputs": [],
   "source": []
  }
 ],
 "metadata": {
  "kernelspec": {
   "display_name": "Python 3",
   "language": "python",
   "name": "python3"
  },
  "language_info": {
   "codemirror_mode": {
    "name": "ipython",
    "version": 3
   },
   "file_extension": ".py",
   "mimetype": "text/x-python",
   "name": "python",
   "nbconvert_exporter": "python",
   "pygments_lexer": "ipython3",
   "version": "3.7.9"
  }
 },
 "nbformat": 4,
 "nbformat_minor": 4
}
